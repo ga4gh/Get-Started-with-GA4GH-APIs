{
 "cells": [
  {
   "cell_type": "markdown",
   "metadata": {},
   "source": [
    " ### Combining GA4GH standards to perform an end-to-end workflow\n",
    " \n",
    "#### Learning Objectives\n",
    "Combine Data Connect, WES and DRS services  \n",
    "\n",
    "What will participants do as part of the exercise?\n",
    "\n",
    " - Search for files with Data Connect\n",
    " - Obtain links to access files\n",
    " - Submit the files to a WES workflow\n",
    " - Retrieve the results of the analysis\n",
    " \n",
    " \n",
    " #### Icons in this Guide\n",
    "\n",
    " 🖐 A hands-on section where you will code something or interact with the server\n",
    " \n",
    " \n",
    " ## Obtain Thousand Genomes files from SRA DRS and submit to Seven Bridges WES"
   ]
  },
  {
   "cell_type": "markdown",
   "metadata": {},
   "source": [
    "#### Step 1: Set up options\n",
    "🖐 Set up your project name, location of your key file and Download location"
   ]
  },
  {
   "cell_type": "code",
   "execution_count": 1,
   "metadata": {},
   "outputs": [],
   "source": [
    "SB_PROJECT = 'ianfore/ian-tutorial'\n",
    "SB_API_KEY_PATH = '~/tutkeys/sbcgc_key.json'\n",
    "DOWNLOAD_LOCATION = '~/Downloads'"
   ]
  },
  {
   "cell_type": "markdown",
   "metadata": {},
   "source": [
    "#### Step 2: Use Data Connect to retrieve file details for specified population"
   ]
  },
  {
   "cell_type": "code",
   "execution_count": 2,
   "metadata": {},
   "outputs": [
    {
     "name": "stdout",
     "output_type": "stream",
     "text": [
      "Retrieving the query\n",
      "____Page1_______________\n",
      "____Page2_______________\n",
      "____Page3_______________\n",
      "____Page4_______________\n",
      "____Page5_______________\n",
      "____Page6_______________\n",
      "____Page7_______________\n"
     ]
    },
    {
     "data": {
      "text/plain": [
       "[{'sample_name': 'HG00640',\n",
       "  'bam_drs_id': '58e2964f2a0adbf41ab0e8c7a95e7d0c',\n",
       "  'acc': 'SRR1596923',\n",
       "  'population': 'PUR',\n",
       "  'annotated_sex': 'male'},\n",
       " {'sample_name': 'HG00637',\n",
       "  'bam_drs_id': '475dfc02f643c368036df6816d05afe4',\n",
       "  'acc': 'SRR1596919',\n",
       "  'population': 'PUR',\n",
       "  'annotated_sex': 'male'},\n",
       " {'sample_name': 'HG00731',\n",
       "  'bam_drs_id': '515ae091f29ac699a4d2e272812cea47',\n",
       "  'acc': 'SRR1606560',\n",
       "  'population': 'PUR',\n",
       "  'annotated_sex': 'male'}]"
      ]
     },
     "execution_count": 2,
     "metadata": {},
     "output_type": "execute_result"
    }
   ],
   "source": [
    "from fasp.search import DataConnectClient\n",
    "\n",
    "searchClient = DataConnectClient('https://data.publisher.dnastack.com/data-connect/')\n",
    "\n",
    "query = '''SELECT f.sample_name, drs_id bam_drs_id, acc,\n",
    "population, annotated_sex\n",
    "FROM collections.public_datasets.ssd_drs s \n",
    "join collections.public_datasets.sra_drs_files f on f.sample_name = s.su_submitter_id \n",
    "where filetype = 'bam' and mapped = 'mapped' \n",
    "and sequencing_type ='exome' and  population = 'PUR' LIMIT 3'''\n",
    "\n",
    "json_result = searchClient.run_query(query, returnType='json')\n",
    "json_result"
   ]
  },
  {
   "cell_type": "markdown",
   "metadata": {},
   "source": [
    "#### Step 3: Convert the result into a Dataframe\n",
    "And display it."
   ]
  },
  {
   "cell_type": "code",
   "execution_count": 3,
   "metadata": {},
   "outputs": [
    {
     "data": {
      "text/html": [
       "<div>\n",
       "<style scoped>\n",
       "    .dataframe tbody tr th:only-of-type {\n",
       "        vertical-align: middle;\n",
       "    }\n",
       "\n",
       "    .dataframe tbody tr th {\n",
       "        vertical-align: top;\n",
       "    }\n",
       "\n",
       "    .dataframe thead th {\n",
       "        text-align: right;\n",
       "    }\n",
       "</style>\n",
       "<table border=\"1\" class=\"dataframe\">\n",
       "  <thead>\n",
       "    <tr style=\"text-align: right;\">\n",
       "      <th></th>\n",
       "      <th>sample_name</th>\n",
       "      <th>bam_drs_id</th>\n",
       "      <th>acc</th>\n",
       "      <th>population</th>\n",
       "      <th>annotated_sex</th>\n",
       "    </tr>\n",
       "  </thead>\n",
       "  <tbody>\n",
       "    <tr>\n",
       "      <th>0</th>\n",
       "      <td>HG00640</td>\n",
       "      <td>58e2964f2a0adbf41ab0e8c7a95e7d0c</td>\n",
       "      <td>SRR1596923</td>\n",
       "      <td>PUR</td>\n",
       "      <td>male</td>\n",
       "    </tr>\n",
       "    <tr>\n",
       "      <th>1</th>\n",
       "      <td>HG00637</td>\n",
       "      <td>475dfc02f643c368036df6816d05afe4</td>\n",
       "      <td>SRR1596919</td>\n",
       "      <td>PUR</td>\n",
       "      <td>male</td>\n",
       "    </tr>\n",
       "    <tr>\n",
       "      <th>2</th>\n",
       "      <td>HG00731</td>\n",
       "      <td>515ae091f29ac699a4d2e272812cea47</td>\n",
       "      <td>SRR1606560</td>\n",
       "      <td>PUR</td>\n",
       "      <td>male</td>\n",
       "    </tr>\n",
       "  </tbody>\n",
       "</table>\n",
       "</div>"
      ],
      "text/plain": [
       "  sample_name                        bam_drs_id         acc population  \\\n",
       "0     HG00640  58e2964f2a0adbf41ab0e8c7a95e7d0c  SRR1596923        PUR   \n",
       "1     HG00637  475dfc02f643c368036df6816d05afe4  SRR1596919        PUR   \n",
       "2     HG00731  515ae091f29ac699a4d2e272812cea47  SRR1606560        PUR   \n",
       "\n",
       "  annotated_sex  \n",
       "0          male  \n",
       "1          male  \n",
       "2          male  "
      ]
     },
     "execution_count": 3,
     "metadata": {},
     "output_type": "execute_result"
    }
   ],
   "source": [
    "import pandas as pd\n",
    "first_df = pd.DataFrame(json_result)\n",
    "first_df"
   ]
  },
  {
   "cell_type": "markdown",
   "metadata": {},
   "source": [
    "#### Step 4: Set up a DRS and WES clients"
   ]
  },
  {
   "cell_type": "code",
   "execution_count": 4,
   "metadata": {},
   "outputs": [],
   "source": [
    "from fasp.loc import DRSClient\n",
    "from fasp.workflow import sbcgcWESClient\n",
    "from fasp.loc import sbcgcDRSClient\n",
    "\n",
    "drsClient = DRSClient('https://locate.be-md.ncbi.nlm.nih.gov', public=True, debug=False)\n",
    "wesClient = sbcgcWESClient(SB_PROJECT, api_key_path=SB_API_KEY_PATH)\n",
    "results_DRS_client = sbcgcDRSClient(SB_API_KEY_PATH, 's3')"
   ]
  },
  {
   "cell_type": "markdown",
   "metadata": {},
   "source": [
    "#### Step 5: Define a function to submit the workflow\n",
    "\n",
    "🖐 In the following it may be necessary to point to your copy of the application.\n",
    "Instructions will we provided"
   ]
  },
  {
   "cell_type": "code",
   "execution_count": 7,
   "metadata": {},
   "outputs": [],
   "source": [
    "import json\n",
    "import requests\n",
    "\n",
    "def runWorkflow(wesClient, fileurl, outfile):\n",
    "\n",
    "    #replace with your copy of the app\n",
    "    #sam_view_app = 'sbg://forei/ismb-tutorial/samtools-view-drsurl-1-8-url'\n",
    "    # for example\n",
    "    sam_view_app = 'sbg://ianfore/ian-tutorial/samtools-view-drsurl-1-8-url'\n",
    "    \n",
    "    ref_drs_id = 'drs://cgc-ga4gh-api.sbgenomics.com/62b07ea84e3edb6b1c23c8d5'\n",
    "\n",
    "    params = {\n",
    "        \"project\": SB_PROJECT,\n",
    "        \"inputs\": {\n",
    "          \"alignment_file_url\": fileurl,\n",
    "          \"count_alignments\": True,\n",
    "          \"reference_file\": {\n",
    "            \"path\": ref_drs_id,\n",
    "            \"name\": \"references-hs37d5-hs37d5.fasta\",\n",
    "            \"class\": \"File\"\n",
    "          },\n",
    "          \"output_file_path\": outfile\n",
    "        }\n",
    "     }\n",
    "\n",
    "\n",
    "    body = {\n",
    "      \"workflow_params\": (None, json.dumps(params), 'application/json'),\n",
    "      \"workflow_type\": \"CWL\",\n",
    "      \"workflow_type_version\": \"sbg:draft-2\",\n",
    "      \"workflow_url\": sam_view_app\n",
    "    }\n",
    "    \n",
    "    run_id= wesClient.run_generic_workflow(\n",
    "        workflow_url=sam_view_app,\n",
    "        workflow_params = json.dumps(params),\n",
    "        workflow_type = \"CWL\",\n",
    "        workflow_type_version = \"sbg:draft-2\",\n",
    "        verbose=False\n",
    "    )\n",
    "    return(run_id)"
   ]
  },
  {
   "cell_type": "markdown",
   "metadata": {},
   "source": [
    "#### Step 6:  For each result of the query above submit a task to the Cancer Genomics Cloud"
   ]
  },
  {
   "cell_type": "code",
   "execution_count": 8,
   "metadata": {},
   "outputs": [
    {
     "name": "stdout",
     "output_type": "stream",
     "text": [
      "subject=58e2964f2a0adbf41ab0e8c7a95e7d0c, drsID=HG00640\n",
      "Submitted run 9db0f8b6-b82d-44ed-8af4-20672ca4a38a to sbcgcWESClient\n",
      "_________________________________________________________________________\n",
      "subject=475dfc02f643c368036df6816d05afe4, drsID=HG00637\n",
      "Submitted run 902f949e-8cdf-4f90-b5e3-23ffcc1e14f7 to sbcgcWESClient\n",
      "_________________________________________________________________________\n",
      "subject=515ae091f29ac699a4d2e272812cea47, drsID=HG00731\n",
      "Submitted run 23a52f8d-3dae-4657-94ec-e0df626f75d6 to sbcgcWESClient\n",
      "_________________________________________________________________________\n"
     ]
    }
   ],
   "source": [
    "import datetime\n",
    "\n",
    "# set the region we want to access data from\n",
    "region = 's3.us-east-1'\n",
    "my_runs = []\n",
    "        \n",
    "for row in json_result:\n",
    "\n",
    "    print(\"subject={}, drsID={}\".format(row['bam_drs_id'], row['sample_name']))\n",
    "    drs_id = row['bam_drs_id']\n",
    "\n",
    "\n",
    "    objInfo = drsClient.get_object(drs_id)\n",
    "    url = drsClient.get_url_for_region(drs_id,region)\n",
    "\n",
    "    # Step 3 - Run a pipeline on the file at the drs url\n",
    "    if url != None:\n",
    "        outfile = \"{}.txt\".format(row['sample_name'])\n",
    "        time = datetime.datetime.now().strftime(\"%Y-%m-%d %H:%M:%S\")\n",
    "        run_id = runWorkflow(wesClient, url, outfile)\n",
    "        print('Submitted run {} to {}'.format(run_id, wesClient.__class__.__name__))\n",
    "        my_runs.append(run_id)\n",
    "        row['run_id']=run_id\n",
    "    print('_________________________________________________________________________')"
   ]
  },
  {
   "cell_type": "markdown",
   "metadata": {},
   "source": [
    "#### Step 7: Check status of each task"
   ]
  },
  {
   "cell_type": "code",
   "execution_count": 19,
   "metadata": {},
   "outputs": [
    {
     "name": "stdout",
     "output_type": "stream",
     "text": [
      "Run 9db0f8b6-b82d-44ed-8af4-20672ca4a38a COMPLETE\n",
      "Run 902f949e-8cdf-4f90-b5e3-23ffcc1e14f7 COMPLETE\n",
      "Run 23a52f8d-3dae-4657-94ec-e0df626f75d6 COMPLETE\n"
     ]
    }
   ],
   "source": [
    "for run in json_result:\n",
    "    status = wesClient.get_task_status(run['run_id'])\n",
    "    print((\"Run {} {}\".format(run['run_id'], status)))"
   ]
  },
  {
   "cell_type": "markdown",
   "metadata": {},
   "source": [
    "### Check status above until completion\n",
    "Expect these runs to take 7-10 minutes to complete"
   ]
  },
  {
   "cell_type": "markdown",
   "metadata": {},
   "source": [
    "## Getting the results"
   ]
  },
  {
   "cell_type": "markdown",
   "metadata": {},
   "source": [
    "Use the Seven Bridges CGC DRS service to retrieve the output file"
   ]
  },
  {
   "cell_type": "markdown",
   "metadata": {},
   "source": [
    "The next cell defines a function to retrieve the results from the WES server\n",
    "\n",
    "* Retrieve the result\n",
    "* Download the result file\n",
    "* Extract the count from the file\n",
    "* Return the count\n"
   ]
  },
  {
   "cell_type": "markdown",
   "metadata": {},
   "source": [
    "#### Step 8: Define a function to get a task result"
   ]
  },
  {
   "cell_type": "code",
   "execution_count": 20,
   "metadata": {},
   "outputs": [],
   "source": [
    "import tempfile\n",
    "\n",
    "def get_sam_view_result(run_id):\n",
    "    # WES API call to retrieve the log of the run - including the results\n",
    "    log = wesClient.get_run_log(run_id)\n",
    "    resultsDRSID = log['outputs']['counts']['path']\n",
    "    resultsDRSID = resultsDRSID.split('/')[-1]\n",
    "    \n",
    "    # DRS API call to get the results file\n",
    "    url = results_DRS_client.get_access_url(resultsDRSID,'s3')\n",
    "    \n",
    "    with tempfile.NamedTemporaryFile(mode='r+') as file:\n",
    "        response = requests.get(url)\n",
    "        file.write(response.text)\n",
    "        file.seek(0)\n",
    "        x = file.read()\n",
    "    return x.strip()\n",
    " "
   ]
  },
  {
   "cell_type": "markdown",
   "metadata": {},
   "source": [
    "#### Step 9: Update the dataframe with the results"
   ]
  },
  {
   "cell_type": "code",
   "execution_count": 24,
   "metadata": {},
   "outputs": [
    {
     "data": {
      "text/html": [
       "<div>\n",
       "<style scoped>\n",
       "    .dataframe tbody tr th:only-of-type {\n",
       "        vertical-align: middle;\n",
       "    }\n",
       "\n",
       "    .dataframe tbody tr th {\n",
       "        vertical-align: top;\n",
       "    }\n",
       "\n",
       "    .dataframe thead th {\n",
       "        text-align: right;\n",
       "    }\n",
       "</style>\n",
       "<table border=\"1\" class=\"dataframe\">\n",
       "  <thead>\n",
       "    <tr style=\"text-align: right;\">\n",
       "      <th></th>\n",
       "      <th>sample_name</th>\n",
       "      <th>bam_drs_id</th>\n",
       "      <th>acc</th>\n",
       "      <th>population</th>\n",
       "      <th>annotated_sex</th>\n",
       "      <th>run_id</th>\n",
       "      <th>count_result</th>\n",
       "    </tr>\n",
       "  </thead>\n",
       "  <tbody>\n",
       "    <tr>\n",
       "      <th>0</th>\n",
       "      <td>HG00640</td>\n",
       "      <td>58e2964f2a0adbf41ab0e8c7a95e7d0c</td>\n",
       "      <td>SRR1596923</td>\n",
       "      <td>PUR</td>\n",
       "      <td>male</td>\n",
       "      <td>9db0f8b6-b82d-44ed-8af4-20672ca4a38a</td>\n",
       "      <td>102424655</td>\n",
       "    </tr>\n",
       "    <tr>\n",
       "      <th>1</th>\n",
       "      <td>HG00637</td>\n",
       "      <td>475dfc02f643c368036df6816d05afe4</td>\n",
       "      <td>SRR1596919</td>\n",
       "      <td>PUR</td>\n",
       "      <td>male</td>\n",
       "      <td>902f949e-8cdf-4f90-b5e3-23ffcc1e14f7</td>\n",
       "      <td>102554431</td>\n",
       "    </tr>\n",
       "    <tr>\n",
       "      <th>2</th>\n",
       "      <td>HG00731</td>\n",
       "      <td>515ae091f29ac699a4d2e272812cea47</td>\n",
       "      <td>SRR1606560</td>\n",
       "      <td>PUR</td>\n",
       "      <td>male</td>\n",
       "      <td>23a52f8d-3dae-4657-94ec-e0df626f75d6</td>\n",
       "      <td>432255472</td>\n",
       "    </tr>\n",
       "  </tbody>\n",
       "</table>\n",
       "</div>"
      ],
      "text/plain": [
       "  sample_name                        bam_drs_id         acc population  \\\n",
       "0     HG00640  58e2964f2a0adbf41ab0e8c7a95e7d0c  SRR1596923        PUR   \n",
       "1     HG00637  475dfc02f643c368036df6816d05afe4  SRR1596919        PUR   \n",
       "2     HG00731  515ae091f29ac699a4d2e272812cea47  SRR1606560        PUR   \n",
       "\n",
       "  annotated_sex                                run_id count_result  \n",
       "0          male  9db0f8b6-b82d-44ed-8af4-20672ca4a38a    102424655  \n",
       "1          male  902f949e-8cdf-4f90-b5e3-23ffcc1e14f7    102554431  \n",
       "2          male  23a52f8d-3dae-4657-94ec-e0df626f75d6    432255472  "
      ]
     },
     "execution_count": 24,
     "metadata": {},
     "output_type": "execute_result"
    }
   ],
   "source": [
    "import pandas as pd\n",
    "\n",
    "for run in json_result:\n",
    "    status = wesClient.get_task_status(run['run_id'])\n",
    "    if  status == 'COMPLETE':\n",
    "        count_result = get_sam_view_result(run['run_id'])\n",
    "        run['count_result'] = count_result\n",
    "    else:\n",
    "        run['count_result'] = status\n",
    "\n",
    "df = pd.DataFrame(json_result)\n",
    "df"
   ]
  },
  {
   "cell_type": "markdown",
   "metadata": {},
   "source": [
    "#### Key point:\n",
    "The complete sequence above shows how \n",
    "* Data can be obtained via a search or query\n",
    "* A compute can be run as workflows via WES\n",
    "* The results of the workflows can be retrived and merged with the query data"
   ]
  },
  {
   "cell_type": "code",
   "execution_count": null,
   "metadata": {},
   "outputs": [],
   "source": []
  }
 ],
 "metadata": {
  "kernelspec": {
   "display_name": "Python 3",
   "language": "python",
   "name": "python3"
  },
  "language_info": {
   "codemirror_mode": {
    "name": "ipython",
    "version": 3
   },
   "file_extension": ".py",
   "mimetype": "text/x-python",
   "name": "python",
   "nbconvert_exporter": "python",
   "pygments_lexer": "ipython3",
   "version": "3.9.6 (default, Oct 18 2022, 12:41:40) \n[Clang 14.0.0 (clang-1400.0.29.202)]"
  },
  "vscode": {
   "interpreter": {
    "hash": "31f2aee4e71d21fbe5cf8b01ff0e069b9275f58929596ceb00d14d90e3e16cd6"
   }
  }
 },
 "nbformat": 4,
 "nbformat_minor": 4
}
