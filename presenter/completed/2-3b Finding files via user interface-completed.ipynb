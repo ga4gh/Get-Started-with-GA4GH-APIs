{
 "cells": [
  {
   "cell_type": "markdown",
   "metadata": {},
   "source": [
    "### 2-3b Finding files via user interface\n",
    "\n",
    "#### Learning Objectives\n",
    "Workshop attendees will learn how use the GA4GH Data Connect Service.  \n",
    "\n",
    "What will participants do as part of the exercise?\n",
    "\n",
    " - Understanding how the schema provided by Data Connect can be used to generate a user interface specific to the data source.\n",
    "\n",
    "\n",
    " #### Icons in this Guide\n",
    "\n",
    " 🖐 A hands-on section where you will code something or interact with the server\n",
    " \n",
    "### Query files\n",
    "This example uses the same query as in notebook 2-3a but provides a user interface to filter the query results without the user having to write an SQL query.\n",
    "\n",
    "#### Step 1: Set up a Data Connect Client  \n",
    "\n",
    "🖐 Run the next two cells to set up Data Connect and run a query to populate a dataframe. We won't display the dataframe yet."
   ]
  },
  {
   "cell_type": "code",
   "execution_count": 1,
   "metadata": {},
   "outputs": [],
   "source": [
    "from fasp.search import DataConnectClient\n",
    "searchClient = DataConnectClient('https://publisher-data.publisher.dnastack.com/data-connect/')"
   ]
  },
  {
   "cell_type": "code",
   "execution_count": 2,
   "metadata": {},
   "outputs": [
    {
     "name": "stdout",
     "output_type": "stream",
     "text": [
      "Retrieving the query\n",
      "____Page1_______________\n",
      "____Page2_______________\n",
      "____Page3_______________\n",
      "____Page4_______________\n",
      "____Page5_______________\n",
      "____Page6_______________\n",
      "____Page7_______________\n",
      "____Page8_______________\n",
      "Query complete. Continue with next step.\n"
     ]
    }
   ],
   "source": [
    "query_all = '''SELECT f.sample_name, drs_id bam_drs_id, acc, population, mapped, sequencing_type\n",
    "FROM collections.public_datasets.onek_genomes_ssd_drs s \n",
    "join collections.public_datasets.onek_genomes_sra_drs_files f on f.sample_name = s.su_submitter_id \n",
    "where filetype = 'bam'   \n",
    " '''\n",
    "int_df = searchClient.run_query(query_all, returnType='dataframe')\n",
    "print(\"Query complete. Continue with next step.\")"
   ]
  },
  {
   "cell_type": "markdown",
   "metadata": {},
   "source": [
    "### Set up and interactive widget to filter the query results\n",
    "This uses the information from the table schemas to create an interactive user interface to fill the data.\n",
    "\n",
    "The details of the next cell are not important unless you are a python programmer."
   ]
  },
  {
   "cell_type": "code",
   "execution_count": 3,
   "metadata": {},
   "outputs": [],
   "source": [
    "import ipywidgets as widgets\n",
    "from ipywidgets import interact, interact_manual, IntRangeSlider\n",
    "\n",
    "def getColValues(info, columns):\n",
    "    enumVals = {}\n",
    "    for column in columns:\n",
    "        var = info['data_model']['properties'][column]\n",
    "        valueList = []\n",
    "        for value in var['oneOf']:\n",
    "            valueList.append( (value['title'],value['const']) )\n",
    "        enumVals[column] = valueList\n",
    "    return enumVals\n",
    "    \n",
    "info1 = searchClient.list_table_info('thousand_genomes.onek_genomes.ssd_drs').schema\n",
    "enumCols1 = getColValues(info1, ['population'])\n",
    "info2 = searchClient.list_table_info('thousand_genomes.onek_genomes.sra_drs_files').schema\n",
    "enumCols2 = getColValues(info2, ['sequencing_type','mapped'])\n",
    "#print(enumCols1)\n",
    "#print(enumCols2)\n",
    "\n",
    "def filter_onek(\n",
    "                 population=enumCols1['population'],\n",
    "                 sequencing_type=enumCols2['sequencing_type'],\n",
    "                 mapped=enumCols2['mapped']\n",
    "                ):\n",
    "    \n",
    "    selected_df = int_df.loc[ (int_df['population'] == population) \n",
    "                            & (int_df['sequencing_type'] == sequencing_type)\n",
    "                            & (int_df['mapped'] == mapped)]\n",
    "    #drs_ids = selected_df['bam_drs_id'].tolist()\n",
    "    return selected_df"
   ]
  },
  {
   "cell_type": "markdown",
   "metadata": {},
   "source": [
    "### Try out the user interface\n",
    "🖐 Run the following cell to display the interface\n",
    "Make different selections from the dropdown menus to filter the data shown in the dataframe."
   ]
  },
  {
   "cell_type": "code",
   "execution_count": 4,
   "metadata": {
    "scrolled": true
   },
   "outputs": [
    {
     "data": {
      "application/vnd.jupyter.widget-view+json": {
       "model_id": "14d0fbf60af645639e1781b2325cf125",
       "version_major": 2,
       "version_minor": 0
      },
      "text/plain": [
       "interactive(children=(Dropdown(description='population', options=(('African Caribbean in Barbados', 'ACB'), ('…"
      ]
     },
     "metadata": {},
     "output_type": "display_data"
    }
   ],
   "source": [
    "drs_list = interact(filter_onek,  \n",
    "                 population=enumCols1['population'],\n",
    "                 sequencing_type=enumCols2['sequencing_type'],\n",
    "                 mapped=enumCols2['mapped']\n",
    "                )"
   ]
  },
  {
   "cell_type": "markdown",
   "metadata": {},
   "source": [
    "#### Key point:\n",
    "This illustrates the value of a machine readable schema describing the data to\n",
    "* Allow a user to understand a new datasource\n",
    "* Allow a developer to create a user interface for those users using the information provided by the schema."
   ]
  },
  {
   "cell_type": "code",
   "execution_count": null,
   "metadata": {},
   "outputs": [],
   "source": []
  }
 ],
 "metadata": {
  "kernelspec": {
   "display_name": "Python 3 (ipykernel)",
   "language": "python",
   "name": "python3"
  },
  "language_info": {
   "codemirror_mode": {
    "name": "ipython",
    "version": 3
   },
   "file_extension": ".py",
   "mimetype": "text/x-python",
   "name": "python",
   "nbconvert_exporter": "python",
   "pygments_lexer": "ipython3",
   "version": "3.9.6"
  },
  "vscode": {
   "interpreter": {
    "hash": "31f2aee4e71d21fbe5cf8b01ff0e069b9275f58929596ceb00d14d90e3e16cd6"
   }
  }
 },
 "nbformat": 4,
 "nbformat_minor": 4
}
