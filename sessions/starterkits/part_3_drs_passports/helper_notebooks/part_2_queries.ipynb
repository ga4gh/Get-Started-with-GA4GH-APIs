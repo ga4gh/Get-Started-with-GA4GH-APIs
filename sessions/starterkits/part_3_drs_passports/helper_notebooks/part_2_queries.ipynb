{
 "cells": [
  {
   "cell_type": "code",
   "execution_count": 9,
   "id": "e6f221d6",
   "metadata": {},
   "outputs": [
    {
     "name": "stdout",
     "output_type": "stream",
     "text": [
      "Retrieving the table list\n",
      "____Page1_______________\n",
      "phenopacket_v1\n",
      "one_thousand_genomes_sample\n"
     ]
    },
    {
     "data": {
      "text/plain": [
       "['phenopacket_v1', 'one_thousand_genomes_sample']"
      ]
     },
     "execution_count": 9,
     "metadata": {},
     "output_type": "execute_result"
    }
   ],
   "source": [
    "from fasp.search import DataConnectClient\n",
    "dc_client = DataConnectClient('http://localhost:4800')\n",
    "dc_client.listTables()"
   ]
  },
  {
   "cell_type": "code",
   "execution_count": 10,
   "id": "b96011d7",
   "metadata": {},
   "outputs": [
    {
     "name": "stdout",
     "output_type": "stream",
     "text": [
      "_Schema for tableone_thousand_genomes_sample_\n",
      "{\n",
      "   \"name\": \"one_thousand_genomes_sample\",\n",
      "   \"description\": \"Table / directory containing JSON files for one thousand genomes sample from https://www.internationalgenome.org\",\n",
      "   \"data_model\": {\n",
      "      \"$id\": \"/table/one_thousand_genomes_sample/info\",\n",
      "      \"$schema\": \"http://json-schema.org/draft-07/schema#\",\n",
      "      \"description\": \"one thousand genomes sample JSON data model\",\n",
      "      \"properties\": {\n",
      "         \"sample_name\": {\n",
      "            \"type\": \"string\",\n",
      "            \"description\": \"An identifier specific for this genome sample\"\n",
      "         },\n",
      "         \"sex\": {\n",
      "            \"type\": \"string\",\n",
      "            \"enum\": [\n",
      "               \"male\",\n",
      "               \"female\"\n",
      "            ]\n",
      "         },\n",
      "         \"biosample_id\": {\n",
      "            \"type\": \"string\",\n",
      "            \"description\": \"bio sample identifier\"\n",
      "         },\n",
      "         \"population_code\": {\n",
      "            \"type\": \"string\",\n",
      "            \"enum\": [\n",
      "               \"ITU\",\n",
      "               \"ASW\",\n",
      "               \"JPT\",\n",
      "               \"MSL\",\n",
      "               \"CHS\",\n",
      "               \"CDX\",\n",
      "               \"YRI\",\n",
      "               \"ACB\",\n",
      "               \"MXL\",\n",
      "               \"PUR\",\n",
      "               \"FIN\",\n",
      "               \"GWD\",\n",
      "               \"LWK\",\n",
      "               \"GIH\",\n",
      "               \"CLM\",\n",
      "               \"TSI\",\n",
      "               \"PEL\",\n",
      "               \"PJL\",\n",
      "               \"GBR\",\n",
      "               \"CHB\",\n",
      "               \"BEB\",\n",
      "               \"ESN\",\n",
      "               \"KHV\",\n",
      "               \"CEU\",\n",
      "               \"IBS\",\n",
      "               \"STU\"\n",
      "            ]\n",
      "         },\n",
      "         \"population_name\": {\n",
      "            \"type\": \"string\",\n",
      "            \"enum\": [\n",
      "               \"Bengali,Bengali\",\n",
      "               \"African Ancestry SW\",\n",
      "               \"Punjabi\",\n",
      "               \"Dai Chinese\",\n",
      "               \"Gambian Mandinka\",\n",
      "               \"Yoruba\",\n",
      "               \"British\",\n",
      "               \"Japanese\",\n",
      "               \"Iberian\",\n",
      "               \"African Caribbean\",\n",
      "               \"Mende\",\n",
      "               \"Southern Han Chinese\",\n",
      "               \"Han Chinese\",\n",
      "               \"Luhya\",\n",
      "               \"Kinh,Kinh Vietnamese\",\n",
      "               \"Toscani\",\n",
      "               \"Luhya,Luhya\",\n",
      "               \"Kinh Vietnamese\",\n",
      "               \"Tamil\",\n",
      "               \"Gujarati\",\n",
      "               \"Bengali\",\n",
      "               \"Finnish\",\n",
      "               \"CEPH\",\n",
      "               \"Telugu\",\n",
      "               \"Peruvian\",\n",
      "               \"Esan\",\n",
      "               \"Colombian\",\n",
      "               \"Punjabi,Punjabi\",\n",
      "               \"Puerto Rican\",\n",
      "               \"Mexican Ancestry\"\n",
      "            ]\n",
      "         },\n",
      "         \"superpopulation_code\": {\n",
      "            \"type\": \"string\",\n",
      "            \"enum\": [\n",
      "               \"AMR\",\n",
      "               \"EAS\",\n",
      "               \"EUR\",\n",
      "               \"SAS\",\n",
      "               \"AFR\"\n",
      "            ]\n",
      "         },\n",
      "         \"superpopulation_name\": {\n",
      "            \"type\": \"string\",\n",
      "            \"enum\": [\n",
      "               \"East Asian Ancestry\",\n",
      "               \"European Ancestry\",\n",
      "               \"African Ancestry\",\n",
      "               \"American Ancestry\",\n",
      "               \"East Asia (SGDP),East Asian Ancestry\",\n",
      "               \"South Asian Ancestry\",\n",
      "               \"South Asia (SGDP),South Asian Ancestry\",\n",
      "               \"African Ancestry,Africa (SGDP)\"\n",
      "            ]\n",
      "         },\n",
      "         \"population_elastic_id\": {\n",
      "            \"type\": \"string\"\n",
      "         },\n",
      "         \"data_collections\": {\n",
      "            \"type\": \"string\"\n",
      "         },\n",
      "         \"cram_drs_uri\": {\n",
      "            \"type\": \"string\",\n",
      "            \"description\": \"drs uri pointing to the cram file\"\n",
      "         },\n",
      "         \"crai_drs_uri\": {\n",
      "            \"type\": \"string\",\n",
      "            \"description\": \"drs uri pointing to the crai file\"\n",
      "         },\n",
      "         \"bundle_drs_uri\": {\n",
      "            \"type\": \"string\",\n",
      "            \"description\": \"drs uri pointing to the bundle file\"\n",
      "         }\n",
      "      }\n",
      "   }\n",
      "}\n"
     ]
    },
    {
     "data": {
      "text/plain": [
       "<fasp.search.data_connect_client.SearchSchema at 0x12d160850>"
      ]
     },
     "execution_count": 10,
     "metadata": {},
     "output_type": "execute_result"
    }
   ],
   "source": [
    "dc_client.listTableInfo('one_thousand_genomes_sample', verbose=True)"
   ]
  },
  {
   "cell_type": "code",
   "execution_count": 11,
   "id": "1bf9b74a",
   "metadata": {},
   "outputs": [
    {
     "ename": "AttributeError",
     "evalue": "'dict' object has no attribute 'replace'",
     "output_type": "error",
     "traceback": [
      "\u001b[0;31m---------------------------------------------------------------------------\u001b[0m",
      "\u001b[0;31mAttributeError\u001b[0m                            Traceback (most recent call last)",
      "Input \u001b[0;32mIn [11]\u001b[0m, in \u001b[0;36m<cell line: 10>\u001b[0;34m()\u001b[0m\n\u001b[1;32m      1\u001b[0m q \u001b[38;5;241m=\u001b[39m {\n\u001b[1;32m      2\u001b[0m   \u001b[38;5;124m\"\u001b[39m\u001b[38;5;124mquery\u001b[39m\u001b[38;5;124m\"\u001b[39m: \u001b[38;5;124m\"\u001b[39m\u001b[38;5;124mselect sample_name , sex , population_code , population_name, cram_drs_uri, crai_drs_uri, bundle_drs_uri from one_thousand_genomes_sample where population_code=? and sex=?;\u001b[39m\u001b[38;5;124m\"\u001b[39m,\n\u001b[1;32m      3\u001b[0m   \u001b[38;5;124m\"\u001b[39m\u001b[38;5;124mparameters\u001b[39m\u001b[38;5;124m\"\u001b[39m: [ \u001b[38;5;124m\"\u001b[39m\u001b[38;5;124mPUR\u001b[39m\u001b[38;5;124m\"\u001b[39m,\u001b[38;5;124m\"\u001b[39m\u001b[38;5;124mfemale\u001b[39m\u001b[38;5;124m\"\u001b[39m ]\n\u001b[1;32m      4\u001b[0m }\n\u001b[1;32m      6\u001b[0m query \u001b[38;5;241m=\u001b[39m \u001b[38;5;124m'''\u001b[39m\u001b[38;5;124m select sample_name, cram_drs_uri, crai_drs_uri, bundle_drs_uri\u001b[39m\n\u001b[1;32m      7\u001b[0m \u001b[38;5;124mfrom one_thousand_genomes_sample\u001b[39m\n\u001b[1;32m      8\u001b[0m \u001b[38;5;124mlimit 10\u001b[39m\n\u001b[1;32m      9\u001b[0m \u001b[38;5;124m'''\u001b[39m\n\u001b[0;32m---> 10\u001b[0m df \u001b[38;5;241m=\u001b[39m \u001b[43mdc_client\u001b[49m\u001b[38;5;241;43m.\u001b[39;49m\u001b[43mrunQuery\u001b[49m\u001b[43m(\u001b[49m\u001b[43mq\u001b[49m\u001b[43m)\u001b[49m\n\u001b[1;32m     11\u001b[0m df\n",
      "File \u001b[0;32m~/imfenvs/ismb1/lib/python3.9/site-packages/fasp/search/data_connect_client.py:185\u001b[0m, in \u001b[0;36mDataConnectClient.runQuery\u001b[0;34m(self, query, returnType, progessIndicator)\u001b[0m\n\u001b[1;32m    183\u001b[0m \u001b[38;5;28;01mdef\u001b[39;00m \u001b[38;5;21mrunQuery\u001b[39m(\u001b[38;5;28mself\u001b[39m, query, returnType\u001b[38;5;241m=\u001b[39m\u001b[38;5;28;01mNone\u001b[39;00m, progessIndicator\u001b[38;5;241m=\u001b[39m\u001b[38;5;28;01mNone\u001b[39;00m):\n\u001b[0;32m--> 185\u001b[0m \tquery \u001b[38;5;241m=\u001b[39m \u001b[43mquery\u001b[49m\u001b[38;5;241;43m.\u001b[39;49m\u001b[43mreplace\u001b[49m(\u001b[38;5;124m\"\u001b[39m\u001b[38;5;130;01m\\n\u001b[39;00m\u001b[38;5;124m\"\u001b[39m, \u001b[38;5;124m\"\u001b[39m\u001b[38;5;124m \u001b[39m\u001b[38;5;124m\"\u001b[39m)\u001b[38;5;241m.\u001b[39mreplace(\u001b[38;5;124m\"\u001b[39m\u001b[38;5;130;01m\\t\u001b[39;00m\u001b[38;5;124m\"\u001b[39m, \u001b[38;5;124m\"\u001b[39m\u001b[38;5;124m \u001b[39m\u001b[38;5;124m\"\u001b[39m)\n\u001b[1;32m    186\u001b[0m \tquery2 \u001b[38;5;241m=\u001b[39m \u001b[38;5;124m\"\u001b[39m\u001b[38;5;124m{\u001b[39m\u001b[38;5;130;01m\\\"\u001b[39;00m\u001b[38;5;124mquery\u001b[39m\u001b[38;5;130;01m\\\"\u001b[39;00m\u001b[38;5;124m:\u001b[39m\u001b[38;5;130;01m\\\"\u001b[39;00m\u001b[38;5;132;01m%s\u001b[39;00m\u001b[38;5;130;01m\\\"\u001b[39;00m\u001b[38;5;124m}\u001b[39m\u001b[38;5;124m\"\u001b[39m \u001b[38;5;241m%\u001b[39m query\n\u001b[1;32m    188\u001b[0m \tnext_url \u001b[38;5;241m=\u001b[39m \u001b[38;5;28mself\u001b[39m\u001b[38;5;241m.\u001b[39mhostURL \u001b[38;5;241m+\u001b[39m \u001b[38;5;124m\"\u001b[39m\u001b[38;5;124m/search\u001b[39m\u001b[38;5;124m\"\u001b[39m\n",
      "\u001b[0;31mAttributeError\u001b[0m: 'dict' object has no attribute 'replace'"
     ]
    }
   ],
   "source": [
    "q = {\n",
    "  \"query\": \"select sample_name , sex , population_code , population_name, cram_drs_uri, crai_drs_uri, bundle_drs_uri from one_thousand_genomes_sample where population_code=? and sex=?;\",\n",
    "  \"parameters\": [ \"PUR\",\"female\" ]\n",
    "}\n",
    "\n",
    "query = ''' select sample_name, cram_drs_uri, crai_drs_uri, bundle_drs_uri\n",
    "from one_thousand_genomes_sample\n",
    "limit 10\n",
    "'''\n",
    "df = dc_client.runQuery(q)\n",
    "df"
   ]
  },
  {
   "cell_type": "code",
   "execution_count": null,
   "id": "9e26b6f7",
   "metadata": {},
   "outputs": [],
   "source": []
  }
 ],
 "metadata": {
  "kernelspec": {
   "display_name": "Python 3 (ipykernel)",
   "language": "python",
   "name": "python3"
  },
  "language_info": {
   "codemirror_mode": {
    "name": "ipython",
    "version": 3
   },
   "file_extension": ".py",
   "mimetype": "text/x-python",
   "name": "python",
   "nbconvert_exporter": "python",
   "pygments_lexer": "ipython3",
   "version": "3.9.7"
  }
 },
 "nbformat": 4,
 "nbformat_minor": 5
}
