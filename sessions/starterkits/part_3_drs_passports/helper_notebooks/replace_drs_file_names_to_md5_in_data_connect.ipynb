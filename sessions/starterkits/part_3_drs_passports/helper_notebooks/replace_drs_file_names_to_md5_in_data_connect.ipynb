{
 "cells": [
  {
   "cell_type": "markdown",
   "id": "e110baae",
   "metadata": {},
   "source": [
    "This is a helper script to replace the named drs uris with numbered drs uris in the fields \"cram_drs_uri\", \"crai_drs_uri\", \"bundle_drs_uri\" in the data-connect starter kit v0.1.1 default dataset for one_thousand_genomes_sample table"
   ]
  },
  {
   "cell_type": "code",
   "execution_count": 4,
   "id": "64a3a6ec",
   "metadata": {},
   "outputs": [],
   "source": [
    "import sqlite3\n",
    "import json\n",
    "\n",
    "db_name = \"../resources/data-connect/db/data-connect.db\"\n",
    "connection = sqlite3.connect(db_name)\n",
    "\n",
    "\n",
    "# Get mapping of existing drs_ids (ids with file name in it) and required drs_ids (opaque ids - md5)\n",
    "with open(\"../drs_map.json\") as f:\n",
    "    drs_map = json.load(f)\n",
    "    \n",
    "# Helper function to replace drs file names with md5 ids in ['cram_drs_uri', 'crai_drs_uri', 'bundle_drs_uri'] fields\n",
    "def fix_row(line):\n",
    "    key_list = ['cram_drs_uri', 'crai_drs_uri', 'bundle_drs_uri']\n",
    "    sample = json.loads(line)\n",
    "    for k in key_list:\n",
    "        # get the part after the last /\n",
    "        drs_id = sample[k].split('/')[-1]\n",
    "        sample[k] =  f\"drs://localhost:5000/{drs_map[drs_id]}\"\n",
    "    #print(json.dumps(sample, indent=3))\n",
    "    return sample"
   ]
  },
  {
   "cell_type": "code",
   "execution_count": 5,
   "id": "1419d9df",
   "metadata": {},
   "outputs": [
    {
     "name": "stdout",
     "output_type": "stream",
     "text": [
      "{\"sample_name\": \"HG01965\", \"sex\": \"female\", \"biosample_id\": \"SAME1839145\", \"population_code\": \"PEL\", \"population_name\": \"Peruvian\", \"superpopulation_code\": \"AMR\", \"superpopulation_name\": \"American Ancestry\", \"population_elastic_id\": \"PEL\", \"data_collections\": \"1000 Genomes on GRCh38,1000 Genomes 30x on GRCh38,1000 Genomes phase 3 release\", \"cram_drs_uri\": \"drs://localhost:5000/HG01965.1000genomes.lowcov.downsampled.cram\", \"crai_drs_uri\": \"drs://localhost:5000/HG01965.1000genomes.lowcov.downsampled.crai\", \"bundle_drs_uri\": \"drs://localhost:5000/HG01965.1000genomes.lowcov.downsampled.bundle\"}\n",
      "Number of rows:200\n"
     ]
    }
   ],
   "source": [
    "# Connect to database and get all existing rows\n",
    "cursor = connection.cursor()\n",
    "rows = cursor.execute(\n",
    "    \"SELECT id, json_data FROM one_thousand_genomes_sample\",\n",
    "\n",
    ").fetchall()\n",
    "id = str(rows[0][0])\n",
    "print(rows[0][1])\n",
    "print(\"Number of rows:\" + str(len(rows)))"
   ]
  },
  {
   "cell_type": "code",
   "execution_count": 6,
   "id": "34304702",
   "metadata": {},
   "outputs": [],
   "source": [
    "jstring = \"\"\n",
    "for r in rows:\n",
    "    id =str(r[0])\n",
    "    new_json = fix_row(r[1])\n",
    "    #print(new_json)\n",
    "    jstring = jstring + \"(\\'\"+json.dumps(new_json)+\"\\'),\\n\"\n",
    "connection.commit()"
   ]
  },
  {
   "cell_type": "code",
   "execution_count": 7,
   "id": "232cb17b",
   "metadata": {},
   "outputs": [],
   "source": [
    "insert_statement = \"Insert into one_thousand_genomes_sample (json_data) VALUES \" + jstring.strip().rstrip(',')+\";\""
   ]
  },
  {
   "cell_type": "code",
   "execution_count": 12,
   "id": "dbf195e9",
   "metadata": {},
   "outputs": [],
   "source": [
    "text_file = open(\"./add-dev-dataset.sql\", \"a\")\n",
    "text_file.write(insert_statement)\n",
    "text_file.close()"
   ]
  }
 ],
 "metadata": {
  "kernelspec": {
   "display_name": "Python 3 (ipykernel)",
   "language": "python",
   "name": "python3"
  },
  "language_info": {
   "codemirror_mode": {
    "name": "ipython",
    "version": 3
   },
   "file_extension": ".py",
   "mimetype": "text/x-python",
   "name": "python",
   "nbconvert_exporter": "python",
   "pygments_lexer": "ipython3",
   "version": "3.9.6"
  }
 },
 "nbformat": 4,
 "nbformat_minor": 5
}
