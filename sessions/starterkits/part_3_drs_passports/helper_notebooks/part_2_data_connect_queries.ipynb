{
 "cells": [
  {
   "cell_type": "markdown",
   "id": "6389a988",
   "metadata": {},
   "source": [
    "### Running queries on the Starter Kit server from Python\n",
    "\n",
    "A demonstration of running the Postman example queries via Python.\n",
    "\n",
    "First using the requests module directly"
   ]
  },
  {
   "cell_type": "code",
   "execution_count": 8,
   "id": "e06106db",
   "metadata": {},
   "outputs": [
    {
     "name": "stdout",
     "output_type": "stream",
     "text": [
      "{\n",
      "   \"data\": [\n",
      "      {\n",
      "         \"sample_name\": \"HG00740\",\n",
      "         \"sex\": \"female\",\n",
      "         \"population_code\": \"PUR\",\n",
      "         \"population_name\": \"Puerto Rican\",\n",
      "         \"cram_drs_uri\": \"drs://localhost:5000/HG00740.1000genomes.lowcov.downsampled.cram\",\n",
      "         \"crai_drs_uri\": \"drs://localhost:5000/HG00740.1000genomes.lowcov.downsampled.crai\",\n",
      "         \"bundle_drs_uri\": \"drs://localhost:5000/HG00740.1000genomes.lowcov.downsampled.bundle\"\n",
      "      },\n",
      "      {\n",
      "         \"sample_name\": \"HG01070\",\n",
      "         \"sex\": \"female\",\n",
      "         \"population_code\": \"PUR\",\n",
      "         \"population_name\": \"Puerto Rican\",\n",
      "         \"cram_drs_uri\": \"drs://localhost:5000/HG01070.1000genomes.lowcov.downsampled.cram\",\n",
      "         \"crai_drs_uri\": \"drs://localhost:5000/HG01070.1000genomes.lowcov.downsampled.crai\",\n",
      "         \"bundle_drs_uri\": \"drs://localhost:5000/HG01070.1000genomes.lowcov.downsampled.bundle\"\n",
      "      },\n",
      "      {\n",
      "         \"sample_name\": \"HG01326\",\n",
      "         \"sex\": \"female\",\n",
      "         \"population_code\": \"PUR\",\n",
      "         \"population_name\": \"Puerto Rican\",\n",
      "         \"cram_drs_uri\": \"drs://localhost:5000/HG01326.1000genomes.lowcov.downsampled.cram\",\n",
      "         \"crai_drs_uri\": \"drs://localhost:5000/HG01326.1000genomes.lowcov.downsampled.crai\",\n",
      "         \"bundle_drs_uri\": \"drs://localhost:5000/HG01326.1000genomes.lowcov.downsampled.bundle\"\n",
      "      }\n",
      "   ]\n",
      "}\n"
     ]
    }
   ],
   "source": [
    "import requests, json\n",
    "q2 = {\n",
    "  \"query\": \"select sample_name, sex, population_code, population_name, cram_drs_uri, crai_drs_uri, bundle_drs_uri from one_thousand_genomes_sample where population_code='PUR' and sex='female';\",\n",
    "  \"parameters\": []\n",
    "}\n",
    "r = requests.post(\"http://localhost:4800/search\", json = q2)\n",
    "print(json.dumps(r.json(), indent=3))"
   ]
  },
  {
   "cell_type": "markdown",
   "id": "3a6ecd68",
   "metadata": {},
   "source": [
    "### A useful query function\n",
    "It works, but the SQL query is long. In many cases we can split the query over several lines for readability.\n",
    "\n",
    "We'll define a function to take a query and reformat it so the server can execute it."
   ]
  },
  {
   "cell_type": "code",
   "execution_count": 16,
   "id": "29910205",
   "metadata": {},
   "outputs": [],
   "source": [
    "def run_param_query(query, debug=False):\n",
    "\n",
    "    # remove tabs and new-lines\n",
    "    query_text = query['query'].replace(\"\\n\", \" \").replace(\"\\t\", \" \")\n",
    "    # strip any leading and trailing spaces\n",
    "    query_text = query_text.strip()\n",
    "    query2 = {\"query\":query_text, \"parameters\":query['parameters']}\n",
    "    if debug:\n",
    "        print(\"Query: {}\".format(query2))\n",
    "    response = requests.post(\"http://localhost:4800/search\", json = query2)\n",
    "    print(json.dumps(response.json(), indent=3))"
   ]
  },
  {
   "cell_type": "markdown",
   "id": "3c3e5379",
   "metadata": {},
   "source": [
    "### Rewrite our query over multiple lines\n",
    "Note the ''' that Python uses to allow us to break a string over several lines"
   ]
  },
  {
   "cell_type": "code",
   "execution_count": 22,
   "id": "804b8239",
   "metadata": {},
   "outputs": [
    {
     "name": "stdout",
     "output_type": "stream",
     "text": [
      "{\n",
      "   \"data\": [\n",
      "      {\n",
      "         \"sample_name\": \"HG00740\",\n",
      "         \"sex\": \"female\",\n",
      "         \"population_code\": \"PUR\",\n",
      "         \"population_name\": \"Puerto Rican\",\n",
      "         \"cram_drs_uri\": \"drs://localhost:5000/HG00740.1000genomes.lowcov.downsampled.cram\",\n",
      "         \"crai_drs_uri\": \"drs://localhost:5000/HG00740.1000genomes.lowcov.downsampled.crai\",\n",
      "         \"bundle_drs_uri\": \"drs://localhost:5000/HG00740.1000genomes.lowcov.downsampled.bundle\"\n",
      "      },\n",
      "      {\n",
      "         \"sample_name\": \"HG01070\",\n",
      "         \"sex\": \"female\",\n",
      "         \"population_code\": \"PUR\",\n",
      "         \"population_name\": \"Puerto Rican\",\n",
      "         \"cram_drs_uri\": \"drs://localhost:5000/HG01070.1000genomes.lowcov.downsampled.cram\",\n",
      "         \"crai_drs_uri\": \"drs://localhost:5000/HG01070.1000genomes.lowcov.downsampled.crai\",\n",
      "         \"bundle_drs_uri\": \"drs://localhost:5000/HG01070.1000genomes.lowcov.downsampled.bundle\"\n",
      "      },\n",
      "      {\n",
      "         \"sample_name\": \"HG01326\",\n",
      "         \"sex\": \"female\",\n",
      "         \"population_code\": \"PUR\",\n",
      "         \"population_name\": \"Puerto Rican\",\n",
      "         \"cram_drs_uri\": \"drs://localhost:5000/HG01326.1000genomes.lowcov.downsampled.cram\",\n",
      "         \"crai_drs_uri\": \"drs://localhost:5000/HG01326.1000genomes.lowcov.downsampled.crai\",\n",
      "         \"bundle_drs_uri\": \"drs://localhost:5000/HG01326.1000genomes.lowcov.downsampled.bundle\"\n",
      "      }\n",
      "   ]\n",
      "}\n"
     ]
    }
   ],
   "source": [
    "multi_line_query = {\n",
    "  \"query\": '''select sample_name, sex, population_code, population_name,\n",
    "  cram_drs_uri, crai_drs_uri, bundle_drs_uri \n",
    "  from one_thousand_genomes_sample \n",
    "  where population_code='PUR' and sex='female';''',\n",
    "  \"parameters\": []\n",
    "}\n",
    "\n",
    "\n",
    "run_param_query(multi_line_query)"
   ]
  },
  {
   "cell_type": "markdown",
   "id": "dcc172cb",
   "metadata": {},
   "source": [
    "### Using the DataConnect Client\n",
    "We can use the Data Connect client from session 2 and 3 which does the above and other things for us."
   ]
  },
  {
   "cell_type": "code",
   "execution_count": 23,
   "id": "c6d4fe1a",
   "metadata": {},
   "outputs": [],
   "source": [
    "from fasp.search import DataConnectClient\n",
    "dc_client =DataConnectClient(\"http://localhost:4800\")"
   ]
  },
  {
   "cell_type": "code",
   "execution_count": 24,
   "id": "18f10d8f",
   "metadata": {},
   "outputs": [
    {
     "name": "stdout",
     "output_type": "stream",
     "text": [
      "Retrieving the query\n",
      "____Page1_______________\n"
     ]
    },
    {
     "data": {
      "text/plain": [
       "[['HG00740',\n",
       "  'female',\n",
       "  'PUR',\n",
       "  'Puerto Rican',\n",
       "  'drs://localhost:5000/HG00740.1000genomes.lowcov.downsampled.cram',\n",
       "  'drs://localhost:5000/HG00740.1000genomes.lowcov.downsampled.crai',\n",
       "  'drs://localhost:5000/HG00740.1000genomes.lowcov.downsampled.bundle'],\n",
       " ['HG01070',\n",
       "  'female',\n",
       "  'PUR',\n",
       "  'Puerto Rican',\n",
       "  'drs://localhost:5000/HG01070.1000genomes.lowcov.downsampled.cram',\n",
       "  'drs://localhost:5000/HG01070.1000genomes.lowcov.downsampled.crai',\n",
       "  'drs://localhost:5000/HG01070.1000genomes.lowcov.downsampled.bundle'],\n",
       " ['HG01326',\n",
       "  'female',\n",
       "  'PUR',\n",
       "  'Puerto Rican',\n",
       "  'drs://localhost:5000/HG01326.1000genomes.lowcov.downsampled.cram',\n",
       "  'drs://localhost:5000/HG01326.1000genomes.lowcov.downsampled.crai',\n",
       "  'drs://localhost:5000/HG01326.1000genomes.lowcov.downsampled.bundle']]"
      ]
     },
     "execution_count": 24,
     "metadata": {},
     "output_type": "execute_result"
    }
   ],
   "source": [
    "df = dc_client.run_param_query(multi_line_query)\n",
    "df"
   ]
  },
  {
   "cell_type": "code",
   "execution_count": 25,
   "id": "398d7f90",
   "metadata": {},
   "outputs": [
    {
     "name": "stdout",
     "output_type": "stream",
     "text": [
      "Retrieving the table list\n",
      "____Page1_______________\n",
      "phenopacket_v1\n",
      "one_thousand_genomes_sample\n"
     ]
    },
    {
     "data": {
      "text/plain": [
       "['phenopacket_v1', 'one_thousand_genomes_sample']"
      ]
     },
     "execution_count": 25,
     "metadata": {},
     "output_type": "execute_result"
    }
   ],
   "source": [
    "dc_client.list_tables()"
   ]
  },
  {
   "cell_type": "code",
   "execution_count": 26,
   "id": "b96011d7",
   "metadata": {},
   "outputs": [
    {
     "name": "stdout",
     "output_type": "stream",
     "text": [
      "_Schema for tableone_thousand_genomes_sample_\n",
      "{\n",
      "   \"name\": \"one_thousand_genomes_sample\",\n",
      "   \"description\": \"Table / directory containing JSON files for one thousand genomes sample from https://www.internationalgenome.org\",\n",
      "   \"data_model\": {\n",
      "      \"$id\": \"/table/one_thousand_genomes_sample/info\",\n",
      "      \"$schema\": \"http://json-schema.org/draft-07/schema#\",\n",
      "      \"description\": \"one thousand genomes sample JSON data model\",\n",
      "      \"properties\": {\n",
      "         \"sample_name\": {\n",
      "            \"type\": \"string\",\n",
      "            \"description\": \"An identifier specific for this genome sample\"\n",
      "         },\n",
      "         \"sex\": {\n",
      "            \"type\": \"string\",\n",
      "            \"enum\": [\n",
      "               \"male\",\n",
      "               \"female\"\n",
      "            ]\n",
      "         },\n",
      "         \"biosample_id\": {\n",
      "            \"type\": \"string\",\n",
      "            \"description\": \"bio sample identifier\"\n",
      "         },\n",
      "         \"population_code\": {\n",
      "            \"type\": \"string\",\n",
      "            \"enum\": [\n",
      "               \"ITU\",\n",
      "               \"ASW\",\n",
      "               \"JPT\",\n",
      "               \"MSL\",\n",
      "               \"CHS\",\n",
      "               \"CDX\",\n",
      "               \"YRI\",\n",
      "               \"ACB\",\n",
      "               \"MXL\",\n",
      "               \"PUR\",\n",
      "               \"FIN\",\n",
      "               \"GWD\",\n",
      "               \"LWK\",\n",
      "               \"GIH\",\n",
      "               \"CLM\",\n",
      "               \"TSI\",\n",
      "               \"PEL\",\n",
      "               \"PJL\",\n",
      "               \"GBR\",\n",
      "               \"CHB\",\n",
      "               \"BEB\",\n",
      "               \"ESN\",\n",
      "               \"KHV\",\n",
      "               \"CEU\",\n",
      "               \"IBS\",\n",
      "               \"STU\"\n",
      "            ]\n",
      "         },\n",
      "         \"population_name\": {\n",
      "            \"type\": \"string\",\n",
      "            \"enum\": [\n",
      "               \"Bengali,Bengali\",\n",
      "               \"African Ancestry SW\",\n",
      "               \"Punjabi\",\n",
      "               \"Dai Chinese\",\n",
      "               \"Gambian Mandinka\",\n",
      "               \"Yoruba\",\n",
      "               \"British\",\n",
      "               \"Japanese\",\n",
      "               \"Iberian\",\n",
      "               \"African Caribbean\",\n",
      "               \"Mende\",\n",
      "               \"Southern Han Chinese\",\n",
      "               \"Han Chinese\",\n",
      "               \"Luhya\",\n",
      "               \"Kinh,Kinh Vietnamese\",\n",
      "               \"Toscani\",\n",
      "               \"Luhya,Luhya\",\n",
      "               \"Kinh Vietnamese\",\n",
      "               \"Tamil\",\n",
      "               \"Gujarati\",\n",
      "               \"Bengali\",\n",
      "               \"Finnish\",\n",
      "               \"CEPH\",\n",
      "               \"Telugu\",\n",
      "               \"Peruvian\",\n",
      "               \"Esan\",\n",
      "               \"Colombian\",\n",
      "               \"Punjabi,Punjabi\",\n",
      "               \"Puerto Rican\",\n",
      "               \"Mexican Ancestry\"\n",
      "            ]\n",
      "         },\n",
      "         \"superpopulation_code\": {\n",
      "            \"type\": \"string\",\n",
      "            \"enum\": [\n",
      "               \"AMR\",\n",
      "               \"EAS\",\n",
      "               \"EUR\",\n",
      "               \"SAS\",\n",
      "               \"AFR\"\n",
      "            ]\n",
      "         },\n",
      "         \"superpopulation_name\": {\n",
      "            \"type\": \"string\",\n",
      "            \"enum\": [\n",
      "               \"East Asian Ancestry\",\n",
      "               \"European Ancestry\",\n",
      "               \"African Ancestry\",\n",
      "               \"American Ancestry\",\n",
      "               \"East Asia (SGDP),East Asian Ancestry\",\n",
      "               \"South Asian Ancestry\",\n",
      "               \"South Asia (SGDP),South Asian Ancestry\",\n",
      "               \"African Ancestry,Africa (SGDP)\"\n",
      "            ]\n",
      "         },\n",
      "         \"population_elastic_id\": {\n",
      "            \"type\": \"string\"\n",
      "         },\n",
      "         \"data_collections\": {\n",
      "            \"type\": \"string\"\n",
      "         },\n",
      "         \"cram_drs_uri\": {\n",
      "            \"type\": \"string\",\n",
      "            \"description\": \"drs uri pointing to the cram file\"\n",
      "         },\n",
      "         \"crai_drs_uri\": {\n",
      "            \"type\": \"string\",\n",
      "            \"description\": \"drs uri pointing to the crai file\"\n",
      "         },\n",
      "         \"bundle_drs_uri\": {\n",
      "            \"type\": \"string\",\n",
      "            \"description\": \"drs uri pointing to the bundle file\"\n",
      "         }\n",
      "      }\n",
      "   }\n",
      "}\n"
     ]
    },
    {
     "data": {
      "text/plain": [
       "<fasp.search.data_connect_client.SearchSchema at 0x12d6a0580>"
      ]
     },
     "execution_count": 26,
     "metadata": {},
     "output_type": "execute_result"
    }
   ],
   "source": [
    "dc_client.list_table_info('one_thousand_genomes_sample', verbose=True)"
   ]
  },
  {
   "cell_type": "code",
   "execution_count": null,
   "id": "459c674e",
   "metadata": {},
   "outputs": [],
   "source": []
  }
 ],
 "metadata": {
  "kernelspec": {
   "display_name": "Python 3 (ipykernel)",
   "language": "python",
   "name": "python3"
  },
  "language_info": {
   "codemirror_mode": {
    "name": "ipython",
    "version": 3
   },
   "file_extension": ".py",
   "mimetype": "text/x-python",
   "name": "python",
   "nbconvert_exporter": "python",
   "pygments_lexer": "ipython3",
   "version": "3.9.7"
  }
 },
 "nbformat": 4,
 "nbformat_minor": 5
}
