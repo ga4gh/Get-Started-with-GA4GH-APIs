{
 "cells": [
  {
   "cell_type": "markdown",
   "id": "42d53aaa",
   "metadata": {},
   "source": [
    "# ROLE: Data Consumer (Client)"
   ]
  },
  {
   "cell_type": "markdown",
   "id": "dbdc2c1f",
   "metadata": {},
   "source": [
    "# Check if DRS and Passport Broker containers are up and running"
   ]
  },
  {
   "cell_type": "code",
   "execution_count": 1,
   "id": "018bf17c",
   "metadata": {},
   "outputs": [],
   "source": [
    "import requests\n",
    "import json\n",
    "\n",
    "drs_port = \"5000\"\n",
    "pb_port = \"4500\"\n",
    "ga4gh_base_url = \"http://localhost:{}/ga4gh/{}/v1\"\n",
    "drs_base_url = ga4gh_base_url.format(drs_port,\"drs\")\n",
    "pb_base_url = ga4gh_base_url.format(pb_port,\"passport\")\n",
    "\n",
    "service_info_path = \"/service-info\"\n",
    "\n",
    "def pretty_print_json(response):\n",
    "    # pretty print JSON in blue color\n",
    "    print(\"\\033[38;2;8;75;138m\"+json.dumps(response.json(), indent=4)+\"\\033[0m\")\n",
    "    \n",
    "def print_head(text):\n",
    "    # print in green color\n",
    "    print(\"\\033[38;2;8;138;75m\"+text+\"\\033[0m\")"
   ]
  },
  {
   "cell_type": "markdown",
   "id": "e7ff8267",
   "metadata": {},
   "source": [
    "## i. Data Repository Service - GET `/service-info`"
   ]
  },
  {
   "cell_type": "code",
   "execution_count": 2,
   "id": "f10d350d",
   "metadata": {},
   "outputs": [
    {
     "name": "stdout",
     "output_type": "stream",
     "text": [
      "\u001b[38;2;8;138;75mGET request to http://localhost:5000/ga4gh/drs/v1/service-info\u001b[0m\n",
      "\u001b[38;2;8;75;138m{\n",
      "    \"id\": \"drs.starterkit.federatedgenomics.org\",\n",
      "    \"name\": \"Federated Genomics DRS service\",\n",
      "    \"description\": \"Data Repository Service (DRS) instance serving CONTROLLED genomics datasets from 1000 GENOMES. A deployment of the GA4GH Starter Kit.\",\n",
      "    \"contactUrl\": \"mailto:nobody@federatedgenomics.org\",\n",
      "    \"documentationUrl\": \"https://apidocs.federatedgenomics.org/drs\",\n",
      "    \"createdAt\": \"2022-07-10T09:00:00Z\",\n",
      "    \"updatedAt\": \"2022-07-10T09:00:00Z\",\n",
      "    \"environment\": \"development\",\n",
      "    \"version\": \"1.0.0\",\n",
      "    \"type\": {\n",
      "        \"group\": \"org.ga4gh\",\n",
      "        \"artifact\": \"drs\",\n",
      "        \"version\": \"1.1.0\"\n",
      "    },\n",
      "    \"organization\": {\n",
      "        \"name\": \"Federated Genomics\",\n",
      "        \"url\": \"https://this-is-not-a-site.federatedgenomics.org\"\n",
      "    }\n",
      "}\u001b[0m\n"
     ]
    }
   ],
   "source": [
    "http_method = \"GET\"\n",
    "request_url = drs_base_url+service_info_path\n",
    "drs_service_info_resp = requests.request(http_method, request_url)\n",
    "\n",
    "print_head(\"{} request to {}\".format(http_method, request_url))\n",
    "pretty_print_json(drs_service_info_resp)"
   ]
  },
  {
   "cell_type": "markdown",
   "id": "77afe5b2",
   "metadata": {},
   "source": [
    "## ii. Passport Broker - GET `/service-info`"
   ]
  },
  {
   "cell_type": "code",
   "execution_count": 3,
   "id": "3b203f51",
   "metadata": {},
   "outputs": [
    {
     "name": "stdout",
     "output_type": "stream",
     "text": [
      "\u001b[38;2;8;138;75mPassport Broker service-info response:\u001b[0m\n",
      "\u001b[38;2;8;75;138m{\n",
      "    \"id\": \"org.ga4gh.starterkit.passport.broker\",\n",
      "    \"name\": \"GA4GH Starter Kit Passport Broker Service\",\n",
      "    \"description\": \"Starter Kit implementation of a Passport Broker service, outlined in the GA4GH Passports specification. Manages researcher permissions to data and compute, and enables this information to be minted as JWTs and passed to downstream clearinghouses.\",\n",
      "    \"contactUrl\": \"mailto:info@ga4gh.org\",\n",
      "    \"documentationUrl\": \"https://github.com/ga4gh/ga4gh-starter-kit-passport-broker\",\n",
      "    \"createdAt\": \"2022-04-28T09:00:00Z\",\n",
      "    \"updatedAt\": \"2022-04-28T09:00:00Z\",\n",
      "    \"environment\": \"test\",\n",
      "    \"version\": \"0.0.2\",\n",
      "    \"type\": {\n",
      "        \"group\": \"org.ga4gh\",\n",
      "        \"artifact\": \"passport-broker\",\n",
      "        \"version\": \"1.0.0\"\n",
      "    },\n",
      "    \"organization\": {\n",
      "        \"name\": \"Global Alliance for Genomics and Health\",\n",
      "        \"url\": \"https://ga4gh.org\"\n",
      "    }\n",
      "}\u001b[0m\n"
     ]
    }
   ],
   "source": [
    "http_method = \"GET\"\n",
    "request_url = pb_base_url+service_info_path\n",
    "pb_service_info_resp = requests.request(http_method, request_url)\n",
    "\n",
    "print_head(\"Passport Broker service-info response:\")\n",
    "pretty_print_json(pb_service_info_resp)"
   ]
  }
 ],
 "metadata": {
  "kernelspec": {
   "display_name": "Python 3 (ipykernel)",
   "language": "python",
   "name": "python3"
  },
  "language_info": {
   "codemirror_mode": {
    "name": "ipython",
    "version": 3
   },
   "file_extension": ".py",
   "mimetype": "text/x-python",
   "name": "python",
   "nbconvert_exporter": "python",
   "pygments_lexer": "ipython3",
   "version": "3.10.6"
  }
 },
 "nbformat": 4,
 "nbformat_minor": 5
}
