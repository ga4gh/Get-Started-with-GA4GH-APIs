{
 "cells": [
  {
   "cell_type": "markdown",
   "id": "e395087f",
   "metadata": {},
   "source": [
    "# Use the Passport Token to access DRS Objects"
   ]
  },
  {
   "cell_type": "code",
   "execution_count": 2,
   "id": "fdab561c",
   "metadata": {},
   "outputs": [
    {
     "name": "stdout",
     "output_type": "stream",
     "text": [
      "Enter your passport token that has all the visas: \n",
      "eyJ0eXAiOiJKV1QiLCJhbGciOiJIUzI1NiJ9.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.PNbfCJXLg7dfB9VrXJzGY1rcsETfBrxy5aWAOlY2gcQ\n"
     ]
    }
   ],
   "source": [
    "passport_token_with_all_visas = input(\"Enter your passport token that has all the visas: \\n\")"
   ]
  },
  {
   "cell_type": "code",
   "execution_count": 5,
   "id": "ca276b18",
   "metadata": {},
   "outputs": [],
   "source": [
    "import requests\n",
    "import json\n",
    "\n",
    "drs_port = \"5000\"\n",
    "ga4gh_base_url = \"http://localhost:{}/ga4gh/{}/v1\"\n",
    "drs_base_url = ga4gh_base_url.format(drs_port,\"drs\")\n",
    "\n",
    "objects_path = \"/objects\"\n",
    "\n",
    "\n",
    "def pretty_print_json(response):\n",
    "    # pretty print JSON in blue color\n",
    "    print(\"\\033[38;2;8;75;138m\"+json.dumps(response.json(), indent=4)+\"\\033[0m\")\n",
    "    \n",
    "def print_head(text):\n",
    "    # print in green color\n",
    "    print(\"\\033[38;2;8;138;75m\"+text+\"\\033[0m\")"
   ]
  },
  {
   "cell_type": "code",
   "execution_count": 3,
   "id": "2eb34deb",
   "metadata": {},
   "outputs": [],
   "source": [
    "sample_drs_id_1 = \"28ffe6386b78fffb7cd0a7b2d0a79846\"\n",
    "sample_drs_id_2 = \"0045077ccfaa91681480e96d7e7e7809\""
   ]
  },
  {
   "cell_type": "markdown",
   "id": "bd3ecd44",
   "metadata": {},
   "source": [
    "## i. Request DRS Object"
   ]
  },
  {
   "cell_type": "code",
   "execution_count": 7,
   "id": "e147ee3e",
   "metadata": {},
   "outputs": [
    {
     "name": "stdout",
     "output_type": "stream",
     "text": [
      "\u001b[38;2;8;138;75mPOST request to http://localhost:5000/ga4gh/drs/v1/objects/28ffe6386b78fffb7cd0a7b2d0a79846 with a passport that has all the visas\u001b[0m\n",
      "\u001b[38;2;8;75;138m{\n",
      "    \"id\": \"28ffe6386b78fffb7cd0a7b2d0a79846\",\n",
      "    \"description\": \"Low coverage, downsampled CRAM file for sample HG00740\",\n",
      "    \"created_time\": \"2023-06-29T21:37:10Z\",\n",
      "    \"mime_type\": \"application/cram\",\n",
      "    \"name\": \"HG00740 1000 Genomes Downsampled Low Coverage CRAM file\",\n",
      "    \"size\": 5582919,\n",
      "    \"updated_time\": \"2023-06-29T21:37:10Z\",\n",
      "    \"version\": \"1.0.0\",\n",
      "    \"aliases\": [\n",
      "        \"HG00740 low coverage downsampled CRAM\"\n",
      "    ],\n",
      "    \"checksums\": [\n",
      "        {\n",
      "            \"checksum\": \"07e0f2598f0663380296d62a2c7f4839b5fc457a\",\n",
      "            \"type\": \"sha1\"\n",
      "        },\n",
      "        {\n",
      "            \"checksum\": \"0c0d0eaaf052417f131d5401924f8cab9847d96e22f702a9abef38adc3021f2a\",\n",
      "            \"type\": \"sha256\"\n",
      "        },\n",
      "        {\n",
      "            \"checksum\": \"28ffe6386b78fffb7cd0a7b2d0a79846\",\n",
      "            \"type\": \"md5\"\n",
      "        }\n",
      "    ],\n",
      "    \"self_uri\": \"drs://localhost:5000/28ffe6386b78fffb7cd0a7b2d0a79846\",\n",
      "    \"access_methods\": [\n",
      "        {\n",
      "            \"access_url\": {\n",
      "                \"url\": \"s3://ga4gh-ismb-tutorial-2022/data/1000genomes/cram/lowcov/HG00740.lowcoverage.downsampled.cram\"\n",
      "            },\n",
      "            \"type\": \"s3\",\n",
      "            \"region\": \"us-east-2\"\n",
      "        }\n",
      "    ]\n",
      "}\u001b[0m\n"
     ]
    }
   ],
   "source": [
    "http_method = \"POST\"\n",
    "request_url = drs_base_url + objects_path + \"/\" + sample_drs_id_1\n",
    "request_body = json.dumps({\"passports\": [passport_token_with_all_visas]})\n",
    "request_headers = {\"Content-Type\": \"application/json\"}\n",
    "\n",
    "print_head(\"{} request to {} with a passport that has all the visas\".format(http_method, request_url))\n",
    "\n",
    "# GET request to /objects/{object_id} endpoint\n",
    "drs_object_response = requests.request(\n",
    "    http_method, \n",
    "    request_url,\n",
    "    headers = request_headers,\n",
    "    data = request_body\n",
    ")\n",
    "\n",
    "# print the response\n",
    "pretty_print_json(drs_object_response)"
   ]
  },
  {
   "cell_type": "markdown",
   "id": "dd749889",
   "metadata": {},
   "source": [
    "## ii. Bulk request DRS objects"
   ]
  },
  {
   "cell_type": "code",
   "execution_count": 8,
   "id": "50f10ada",
   "metadata": {},
   "outputs": [
    {
     "name": "stdout",
     "output_type": "stream",
     "text": [
      "\u001b[38;2;8;138;75mPOST a bulk request to http://localhost:5000/ga4gh/drs/v1/objects with a passport that has all the visas\u001b[0m\n",
      "\u001b[38;2;8;75;138m{\n",
      "    \"summary\": {\n",
      "        \"requested\": 2,\n",
      "        \"resolved\": 2,\n",
      "        \"unresolved\": 0\n",
      "    },\n",
      "    \"resolved_drs_object\": [\n",
      "        {\n",
      "            \"id\": \"28ffe6386b78fffb7cd0a7b2d0a79846\",\n",
      "            \"description\": \"Low coverage, downsampled CRAM file for sample HG00740\",\n",
      "            \"created_time\": \"2023-06-29T21:37:10Z\",\n",
      "            \"mime_type\": \"application/cram\",\n",
      "            \"name\": \"HG00740 1000 Genomes Downsampled Low Coverage CRAM file\",\n",
      "            \"size\": 5582919,\n",
      "            \"updated_time\": \"2023-06-29T21:37:10Z\",\n",
      "            \"version\": \"1.0.0\",\n",
      "            \"aliases\": [\n",
      "                \"HG00740 low coverage downsampled CRAM\"\n",
      "            ],\n",
      "            \"checksums\": [\n",
      "                {\n",
      "                    \"checksum\": \"07e0f2598f0663380296d62a2c7f4839b5fc457a\",\n",
      "                    \"type\": \"sha1\"\n",
      "                },\n",
      "                {\n",
      "                    \"checksum\": \"0c0d0eaaf052417f131d5401924f8cab9847d96e22f702a9abef38adc3021f2a\",\n",
      "                    \"type\": \"sha256\"\n",
      "                },\n",
      "                {\n",
      "                    \"checksum\": \"28ffe6386b78fffb7cd0a7b2d0a79846\",\n",
      "                    \"type\": \"md5\"\n",
      "                }\n",
      "            ],\n",
      "            \"self_uri\": \"drs://localhost:5000/28ffe6386b78fffb7cd0a7b2d0a79846\",\n",
      "            \"access_methods\": [\n",
      "                {\n",
      "                    \"access_url\": {\n",
      "                        \"url\": \"s3://ga4gh-ismb-tutorial-2022/data/1000genomes/cram/lowcov/HG00740.lowcoverage.downsampled.cram\"\n",
      "                    },\n",
      "                    \"type\": \"s3\",\n",
      "                    \"region\": \"us-east-2\"\n",
      "                }\n",
      "            ]\n",
      "        },\n",
      "        {\n",
      "            \"id\": \"0045077ccfaa91681480e96d7e7e7809\",\n",
      "            \"description\": \"Low coverage, downsampled CRAM/CRAI bundle for sample NA20911\",\n",
      "            \"created_time\": \"2023-06-29T21:37:10Z\",\n",
      "            \"name\": \"NA20911 1000 Genomes Downsampled Low Coverage CRAM Bundle\",\n",
      "            \"size\": 7723374,\n",
      "            \"updated_time\": \"2023-06-29T21:37:10Z\",\n",
      "            \"version\": \"1.0.0\",\n",
      "            \"aliases\": [\n",
      "                \"NA20911 low coverage downsampled bundle\"\n",
      "            ],\n",
      "            \"checksums\": [\n",
      "                {\n",
      "                    \"checksum\": \"581420d0361ae7b9cd9b74bcd3c8f4f4fcddb842\",\n",
      "                    \"type\": \"sha1\"\n",
      "                },\n",
      "                {\n",
      "                    \"checksum\": \"0f9a37f7776e6eccaa8a99bf2ae2a9a229e4b9e7e76a3d15407a04b15f78617e\",\n",
      "                    \"type\": \"sha256\"\n",
      "                },\n",
      "                {\n",
      "                    \"checksum\": \"187b5e3cec1880dd0878e0938f615eb1\",\n",
      "                    \"type\": \"md5\"\n",
      "                }\n",
      "            ],\n",
      "            \"self_uri\": \"drs://localhost:5000/0045077ccfaa91681480e96d7e7e7809\",\n",
      "            \"contents\": [\n",
      "                {\n",
      "                    \"name\": \"NA20911 1000 Genomes Downsampled Low Coverage CRAM file\",\n",
      "                    \"drs_uri\": [\n",
      "                        \"drs://localhost:5000/6222bbc71d73f372586ef2def92e8c7a\"\n",
      "                    ],\n",
      "                    \"id\": \"6222bbc71d73f372586ef2def92e8c7a\"\n",
      "                },\n",
      "                {\n",
      "                    \"name\": \"NA20911 1000 Genomes Downsampled Low Coverage CRAI file\",\n",
      "                    \"drs_uri\": [\n",
      "                        \"drs://localhost:5000/fd87721c242a93046c669d766a9b4c3e\"\n",
      "                    ],\n",
      "                    \"id\": \"fd87721c242a93046c669d766a9b4c3e\"\n",
      "                }\n",
      "            ]\n",
      "        }\n",
      "    ],\n",
      "    \"unresolved_drs_object\": {}\n",
      "}\u001b[0m\n"
     ]
    }
   ],
   "source": [
    "http_method = \"POST\"\n",
    "request_url = drs_base_url + objects_path\n",
    "request_body = json.dumps({\n",
    "    \"selection\": [sample_drs_id_1, sample_drs_id_2],\n",
    "    \"passports\": [passport_token_with_all_visas]\n",
    "})\n",
    "request_headers = {\"Content-Type\": \"application/json\"}\n",
    "\n",
    "print_head(\"{} a bulk request to {} with a passport that has all the visas\".format(http_method, request_url))\n",
    "\n",
    "# GET request to /objects/{object_id} endpoint\n",
    "drs_object_response = requests.request(\n",
    "    http_method, \n",
    "    request_url,\n",
    "    headers = request_headers,\n",
    "    data = request_body\n",
    ")\n",
    "\n",
    "# print the response\n",
    "pretty_print_json(drs_object_response)"
   ]
  },
  {
   "cell_type": "markdown",
   "id": "3b778835",
   "metadata": {},
   "source": [
    "## iii. Practice - Request DRS Object using a Passport Token that does not contain the appropriate Visa"
   ]
  },
  {
   "cell_type": "markdown",
   "id": "9d3e2089",
   "metadata": {},
   "source": [
    "Let's see what happens when the user uses a passport without the required visa to access a DRS Object.\n",
    "Create a passport token without the required visa \"1000GenomesIndividualsWithAmericanAncestry\" for the DRS Object \"28ffe6386b78fffb7cd0a7b2d0a79846\" (`sample_drs_id_1`). Use this token to request the DRS object. You will get an error response from the DRS server"
   ]
  },
  {
   "cell_type": "code",
   "execution_count": 9,
   "id": "42ed52d5",
   "metadata": {},
   "outputs": [],
   "source": [
    "### write your code here"
   ]
  },
  {
   "cell_type": "markdown",
   "id": "a867b994",
   "metadata": {},
   "source": [
    "**Expected ERROR RESPONSE:**\n",
    "```\n",
    "{\n",
    "    \"timestamp\": \"2022-06-23T19:31:22Z\",\n",
    "    \"status_code\": 403,\n",
    "    \"error\": \"Forbidden\",\n",
    "    \"msg\": \"No suitable visa found in user passport(s) for requested DRS object\"\n",
    "}\n",
    "```"
   ]
  }
 ],
 "metadata": {
  "kernelspec": {
   "display_name": "Python 3 (ipykernel)",
   "language": "python",
   "name": "python3"
  },
  "language_info": {
   "codemirror_mode": {
    "name": "ipython",
    "version": 3
   },
   "file_extension": ".py",
   "mimetype": "text/x-python",
   "name": "python",
   "nbconvert_exporter": "python",
   "pygments_lexer": "ipython3",
   "version": "3.10.6"
  }
 },
 "nbformat": 4,
 "nbformat_minor": 5
}
