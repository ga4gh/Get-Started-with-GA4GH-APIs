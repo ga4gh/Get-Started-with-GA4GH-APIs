{
 "cells": [
  {
   "cell_type": "markdown",
   "id": "3f4e29dd",
   "metadata": {},
   "source": [
    "# Access DRS Object with out using a Passport Token"
   ]
  },
  {
   "cell_type": "code",
   "execution_count": 4,
   "id": "9cd33baa",
   "metadata": {},
   "outputs": [],
   "source": [
    "import requests\n",
    "import json\n",
    "\n",
    "drs_port = \"5000\"\n",
    "ga4gh_base_url = \"http://localhost:{}/ga4gh/{}/v1\"\n",
    "drs_base_url = ga4gh_base_url.format(drs_port,\"drs\")\n",
    "\n",
    "service_info_path = \"/service-info\"\n",
    "object_path_get = \"/objects/{}\"\n",
    "object_path_post = \"/objects\"\n",
    "\n",
    "def pretty_print_json(response):\n",
    "    # pretty print JSON in blue color\n",
    "    print(\"\\033[38;2;8;75;138m\"+json.dumps(response.json(), indent=4)+\"\\033[0m\")\n",
    "    \n",
    "def print_head(text):\n",
    "    # print in green color\n",
    "    print(\"\\033[38;2;8;138;75m\"+text+\"\\033[0m\")"
   ]
  },
  {
   "cell_type": "markdown",
   "id": "433c93ae",
   "metadata": {},
   "source": [
    "## i. Get DRS object"
   ]
  },
  {
   "cell_type": "markdown",
   "id": "995cfe92",
   "metadata": {},
   "source": [
    "Since, DRS data in Part 3 of the tutorial is access controlled using Passports, when we try to request the DRS object without using a Passport Token that contains the required visas, we receive an `Unauthorized` error"
   ]
  },
  {
   "cell_type": "code",
   "execution_count": 11,
   "id": "ecd162b2",
   "metadata": {},
   "outputs": [],
   "source": [
    "sample_drs_id_1 = \"28ffe6386b78fffb7cd0a7b2d0a79846\"\n",
    "sample_drs_id_2 = \"0045077ccfaa91681480e96d7e7e7809\""
   ]
  },
  {
   "cell_type": "code",
   "execution_count": 12,
   "id": "25cecf77",
   "metadata": {},
   "outputs": [
    {
     "name": "stdout",
     "output_type": "stream",
     "text": [
      "\u001b[38;2;8;138;75mGET request to http://localhost:5000/ga4gh/drs/v1/objects/28ffe6386b78fffb7cd0a7b2d0a79846\u001b[0m\n",
      "\u001b[38;2;8;75;138m{\n",
      "    \"timestamp\": \"2023-06-29T18:32:16Z\",\n",
      "    \"status_code\": 401,\n",
      "    \"error\": \"Unauthorized\",\n",
      "    \"msg\": \"Request for controlled data is missing user passport(s)\"\n",
      "}\u001b[0m\n"
     ]
    }
   ],
   "source": [
    "http_method = \"GET\"\n",
    "request_url = drs_base_url+object_path_get.format(sample_drs_id)\n",
    "\n",
    "print_head(\"{} request to {}\".format(http_method, request_url))\n",
    "\n",
    "# GET request to /objects/{object_id} endpoint\n",
    "drs_object_response = requests.request(http_method, request_url)\n",
    "\n",
    "# print the response\n",
    "pretty_print_json(drs_object_response)"
   ]
  },
  {
   "cell_type": "markdown",
   "id": "3e6f7839",
   "metadata": {},
   "source": [
    "## ii. Get the Passport Broker and Visa details for this DRS object"
   ]
  },
  {
   "cell_type": "code",
   "execution_count": 13,
   "id": "f4bdb298",
   "metadata": {},
   "outputs": [
    {
     "name": "stdout",
     "output_type": "stream",
     "text": [
      "\u001b[38;2;8;138;75mOPTIONS request to http://localhost:5000/ga4gh/drs/v1/objects/28ffe6386b78fffb7cd0a7b2d0a79846\u001b[0m\n",
      "\u001b[38;2;8;75;138m{\n",
      "    \"supported_types\": [\n",
      "        \"PassportAuth\"\n",
      "    ],\n",
      "    \"passport_auth_issuers\": [\n",
      "        {\n",
      "            \"broker_url\": \"http://localhost:4455/\",\n",
      "            \"visa_name\": \"1000GenomesIndividualsWithAmericanAncestry\",\n",
      "            \"visa_issuer\": \"https://federatedgenomics.org/\"\n",
      "        }\n",
      "    ]\n",
      "}\u001b[0m\n"
     ]
    }
   ],
   "source": [
    "http_method = \"OPTIONS\"\n",
    "request_url = drs_base_url+object_path_get.format(sample_drs_id)\n",
    "\n",
    "print_head(\"{} request to {}\".format(http_method, request_url))\n",
    "\n",
    "# GET request to /objects/{object_id} endpoint\n",
    "drs_object_options_response = requests.request(http_method, request_url)\n",
    "\n",
    "# print the response\n",
    "pretty_print_json(drs_object_options_response)"
   ]
  },
  {
   "cell_type": "markdown",
   "id": "0157b12d",
   "metadata": {},
   "source": [
    "## iii. Get the Passport Broker and Visa details for multiple DRS objects"
   ]
  },
  {
   "cell_type": "code",
   "execution_count": 21,
   "id": "8067d647",
   "metadata": {},
   "outputs": [
    {
     "name": "stdout",
     "output_type": "stream",
     "text": [
      "\u001b[38;2;8;138;75mOPTIONS request to http://localhost:5000/ga4gh/drs/v1/objects with request_body= {\"selection\": [\"28ffe6386b78fffb7cd0a7b2d0a79846\", \"0045077ccfaa91681480e96d7e7e7809\"]}\u001b[0m\n",
      "\u001b[38;2;8;75;138m{\n",
      "    \"summary\": {\n",
      "        \"requested\": 2,\n",
      "        \"resolved\": 2,\n",
      "        \"unresolved\": 0\n",
      "    },\n",
      "    \"resolved_drs_object_auth_info\": {\n",
      "        \"0045077ccfaa91681480e96d7e7e7809\": {\n",
      "            \"supported_types\": [\n",
      "                \"PassportAuth\"\n",
      "            ],\n",
      "            \"passport_auth_issuers\": [\n",
      "                {\n",
      "                    \"broker_url\": \"http://localhost:4455/\",\n",
      "                    \"visa_name\": \"1000GenomesIndividualsWithSouthAsianAncestry\",\n",
      "                    \"visa_issuer\": \"https://federatedgenomics.org/\"\n",
      "                }\n",
      "            ]\n",
      "        },\n",
      "        \"28ffe6386b78fffb7cd0a7b2d0a79846\": {\n",
      "            \"supported_types\": [\n",
      "                \"PassportAuth\"\n",
      "            ],\n",
      "            \"passport_auth_issuers\": [\n",
      "                {\n",
      "                    \"broker_url\": \"http://localhost:4455/\",\n",
      "                    \"visa_name\": \"1000GenomesIndividualsWithAmericanAncestry\",\n",
      "                    \"visa_issuer\": \"https://federatedgenomics.org/\"\n",
      "                }\n",
      "            ]\n",
      "        }\n",
      "    },\n",
      "    \"unresolved_drs_object_auth_info\": {}\n",
      "}\u001b[0m\n"
     ]
    }
   ],
   "source": [
    "http_method = \"OPTIONS\"\n",
    "request_url = drs_base_url+object_path_post\n",
    "request_body = json.dumps({\"selection\": [\"28ffe6386b78fffb7cd0a7b2d0a79846\", \"0045077ccfaa91681480e96d7e7e7809\"]})\n",
    "request_headers = {\"Content-Type\": \"application/json\"}\n",
    "\n",
    "print_head(\"{} request to {} with request_body= {}\".format(http_method, request_url, request_body))\n",
    "\n",
    "# GET request to /objects/{object_id} endpoint\n",
    "drs_object_options_response = requests.request(\n",
    "    http_method, \n",
    "    request_url,\n",
    "    headers = request_headers,\n",
    "    data = request_body\n",
    ")\n",
    "\n",
    "# print the response\n",
    "pretty_print_json(drs_object_options_response)"
   ]
  }
 ],
 "metadata": {
  "kernelspec": {
   "display_name": "Python 3 (ipykernel)",
   "language": "python",
   "name": "python3"
  },
  "language_info": {
   "codemirror_mode": {
    "name": "ipython",
    "version": 3
   },
   "file_extension": ".py",
   "mimetype": "text/x-python",
   "name": "python",
   "nbconvert_exporter": "python",
   "pygments_lexer": "ipython3",
   "version": "3.10.6"
  }
 },
 "nbformat": 4,
 "nbformat_minor": 5
}
