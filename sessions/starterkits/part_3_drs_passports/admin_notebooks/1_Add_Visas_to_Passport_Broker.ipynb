{
 "cells": [
  {
   "cell_type": "markdown",
   "id": "488e3d10",
   "metadata": {},
   "source": [
    "# Passport Broker - Add All Visas to the Passport Broker"
   ]
  },
  {
   "cell_type": "markdown",
   "id": "1c71b063",
   "metadata": {},
   "source": [
    "We have loaded a subset of 1000 Genomes Sample data into DRS and associated each DRS object with one of the following visas:\n",
    "\n",
    "1. <span style=\"color:green\">1000GenomesIndividualsWithAmericanAncestry</span>\n",
    "2. <span style=\"color:green\">1000GenomesIndividualsWithEuropeanAncestry</span>\n",
    "3. <span style=\"color:green\">1000GenomesIndividualsWithAfricanAncestry</span>\n",
    "4. <span style=\"color:green\">1000GenomesIndividualsWithEastAsianAncestry</span>\n",
    "5. <span style=\"color:green\">1000GenomesIndividualsWithSouthAsianAncestry</span>\n",
    "\n",
    "\n",
    "To add the visa information to the Passport Broker, we utilize the Admin endpoint on port <span style=\"color:green\">4501</span> of the Passport Broker."
   ]
  },
  {
   "cell_type": "code",
   "execution_count": 1,
   "id": "825fe96c",
   "metadata": {},
   "outputs": [
    {
     "name": "stdout",
     "output_type": "stream",
     "text": [
      "Passport Broker Admin base URL : http://localhost:4501/admin/ga4gh/passport/v1\n"
     ]
    }
   ],
   "source": [
    "import requests\n",
    "import json\n",
    "\n",
    "\n",
    "pb_admin_port = \"4501\"\n",
    "ga4gh_base_url = \"http://localhost:{}/admin/ga4gh/{}/v1\"\n",
    "pb_admin_base_url = ga4gh_base_url.format(pb_admin_port,\"passport\")\n",
    "\n",
    "visas_path = \"/visas\"\n",
    "\n",
    "print(\"Passport Broker Admin base URL : {}\".format(pb_admin_base_url))\n",
    "\n",
    "def pretty_print_json(response):\n",
    "    # pretty print JSON in blue color\n",
    "    print(\"\\033[38;2;8;75;138m\"+json.dumps(response.json(), indent=4)+\"\\033[0m\")\n",
    "    \n",
    "def print_head(text):\n",
    "    # print in green color\n",
    "    print(\"\\033[38;2;8;138;75m\"+text+\"\\033[0m\")"
   ]
  },
  {
   "cell_type": "markdown",
   "id": "f86d8c19",
   "metadata": {},
   "source": [
    "## i. Post Visa Information into the Passport Broker"
   ]
  },
  {
   "cell_type": "code",
   "execution_count": 2,
   "id": "4a8c6c19",
   "metadata": {},
   "outputs": [],
   "source": [
    "visa_info_array = [{\n",
    "  \"id\": \"b62249d0-d71d-42d2-9a67-55003fdae8ec\",\n",
    "  \"visaName\": \"1000GenomesIndividualsWithAmericanAncestry\",\n",
    "  \"visaIssuer\": \"https://federatedgenomics.org/\",\n",
    "  \"visaDescription\": \"Controls access to genomic data obtained from individuals with American ancestry\",\n",
    "  \"visaSecret\": \"BF9CAB5D5157C5C21EBDEE6C91D91\"\n",
    "},\n",
    "{\n",
    "  \"id\": \"3af0e101-cd51-4fe4-aa8c-29a69be48fe0\",\n",
    "  \"visaName\": \"1000GenomesIndividualsWithEuropeanAncestry\",\n",
    "  \"visaIssuer\": \"https://federatedgenomics.org/\",\n",
    "  \"visaDescription\": \"Controls access to genomic data obtained from individuals with European ancestry\",\n",
    "  \"visaSecret\": \"47B42DF32976DFDBD6EC4D9ED2593\"\n",
    "},\n",
    "{\n",
    "  \"id\": \"e38f656e-3146-4b06-92f2-6edea44f0cd1\",\n",
    "  \"visaName\": \"1000GenomesIndividualsWithAfricanAncestry\",\n",
    "  \"visaIssuer\": \"https://federatedgenomics.org/\",\n",
    "  \"visaDescription\": \"Controls access to genomic data obtained from individuals with African ancestry\",\n",
    "  \"visaSecret\": \"582A164E2C5DA377F3E3F76158CE6\"\n",
    "},\n",
    "{\n",
    "  \"id\": \"6ecaef9e-d6bb-4d96-9aed-ca517ceed8a1\",\n",
    "  \"visaName\": \"1000GenomesIndividualsWithEastAsianAncestry\",\n",
    "  \"visaIssuer\": \"https://federatedgenomics.org/\",\n",
    "  \"visaDescription\": \"Controls access to genomic data obtained from individuals with East Asian ancestry\",\n",
    "  \"visaSecret\": \"29CD6DFBB2684BAEACED3B1C6A7F4\"\n",
    "},\n",
    "{\n",
    "  \"id\": \"55cb5d06-bbf3-428b-a822-3565557518ba\",\n",
    "  \"visaName\": \"1000GenomesIndividualsWithSouthAsianAncestry\",\n",
    "  \"visaIssuer\": \"https://federatedgenomics.org/\",\n",
    "  \"visaDescription\": \"Controls access to genomic data obtained from individuals with South Asian ancestry\",\n",
    "  \"visaSecret\": \"9474C832599DC95F949DB3CAE443E\"\n",
    "}]"
   ]
  },
  {
   "cell_type": "code",
   "execution_count": 3,
   "id": "2a42a711",
   "metadata": {
    "scrolled": true
   },
   "outputs": [
    {
     "name": "stdout",
     "output_type": "stream",
     "text": [
      "\u001b[38;2;8;138;75mPOST request to http://localhost:4501/admin/ga4gh/passport/v1/visas \n",
      "to add visa : 1000GenomesIndividualsWithAmericanAncestry\u001b[0m\n",
      "\u001b[38;2;8;75;138m{\n",
      "    \"id\": \"b62249d0-d71d-42d2-9a67-55003fdae8ec\",\n",
      "    \"visaName\": \"1000GenomesIndividualsWithAmericanAncestry\",\n",
      "    \"visaIssuer\": \"https://federatedgenomics.org/\",\n",
      "    \"visaDescription\": \"Controls access to genomic data obtained from individuals with American ancestry\",\n",
      "    \"visaSecret\": \"BF9CAB5D5157C5C21EBDEE6C91D91\"\n",
      "}\u001b[0m\n",
      "\u001b[38;2;8;138;75mPOST request to http://localhost:4501/admin/ga4gh/passport/v1/visas \n",
      "to add visa : 1000GenomesIndividualsWithEuropeanAncestry\u001b[0m\n",
      "\u001b[38;2;8;75;138m{\n",
      "    \"id\": \"3af0e101-cd51-4fe4-aa8c-29a69be48fe0\",\n",
      "    \"visaName\": \"1000GenomesIndividualsWithEuropeanAncestry\",\n",
      "    \"visaIssuer\": \"https://federatedgenomics.org/\",\n",
      "    \"visaDescription\": \"Controls access to genomic data obtained from individuals with European ancestry\",\n",
      "    \"visaSecret\": \"47B42DF32976DFDBD6EC4D9ED2593\"\n",
      "}\u001b[0m\n",
      "\u001b[38;2;8;138;75mPOST request to http://localhost:4501/admin/ga4gh/passport/v1/visas \n",
      "to add visa : 1000GenomesIndividualsWithAfricanAncestry\u001b[0m\n",
      "\u001b[38;2;8;75;138m{\n",
      "    \"id\": \"e38f656e-3146-4b06-92f2-6edea44f0cd1\",\n",
      "    \"visaName\": \"1000GenomesIndividualsWithAfricanAncestry\",\n",
      "    \"visaIssuer\": \"https://federatedgenomics.org/\",\n",
      "    \"visaDescription\": \"Controls access to genomic data obtained from individuals with African ancestry\",\n",
      "    \"visaSecret\": \"582A164E2C5DA377F3E3F76158CE6\"\n",
      "}\u001b[0m\n",
      "\u001b[38;2;8;138;75mPOST request to http://localhost:4501/admin/ga4gh/passport/v1/visas \n",
      "to add visa : 1000GenomesIndividualsWithEastAsianAncestry\u001b[0m\n",
      "\u001b[38;2;8;75;138m{\n",
      "    \"id\": \"6ecaef9e-d6bb-4d96-9aed-ca517ceed8a1\",\n",
      "    \"visaName\": \"1000GenomesIndividualsWithEastAsianAncestry\",\n",
      "    \"visaIssuer\": \"https://federatedgenomics.org/\",\n",
      "    \"visaDescription\": \"Controls access to genomic data obtained from individuals with East Asian ancestry\",\n",
      "    \"visaSecret\": \"29CD6DFBB2684BAEACED3B1C6A7F4\"\n",
      "}\u001b[0m\n",
      "\u001b[38;2;8;138;75mPOST request to http://localhost:4501/admin/ga4gh/passport/v1/visas \n",
      "to add visa : 1000GenomesIndividualsWithSouthAsianAncestry\u001b[0m\n",
      "\u001b[38;2;8;75;138m{\n",
      "    \"id\": \"55cb5d06-bbf3-428b-a822-3565557518ba\",\n",
      "    \"visaName\": \"1000GenomesIndividualsWithSouthAsianAncestry\",\n",
      "    \"visaIssuer\": \"https://federatedgenomics.org/\",\n",
      "    \"visaDescription\": \"Controls access to genomic data obtained from individuals with South Asian ancestry\",\n",
      "    \"visaSecret\": \"9474C832599DC95F949DB3CAE443E\"\n",
      "}\u001b[0m\n"
     ]
    }
   ],
   "source": [
    "http_method = \"POST\"\n",
    "\n",
    "request_url = pb_admin_base_url + visas_path\n",
    "\n",
    "for visa_info in visa_info_array:\n",
    "    \n",
    "    print_head(\"{} request to {} \\nto add visa : {}\".format(http_method, request_url, visa_info[\"visaName\"]))\n",
    "    \n",
    "    request_headers = {'Content-Type': 'application/json'}\n",
    "    request_body = json.dumps(visa_info)\n",
    "    \n",
    "    # POST visa information to /visas endpoint\n",
    "    pb_add_visa_resp = requests.request(\n",
    "        http_method, \n",
    "        request_url,\n",
    "        headers = request_headers,\n",
    "        data = request_body\n",
    "    )\n",
    "       \n",
    "    # print the response\n",
    "    pretty_print_json(pb_add_visa_resp)"
   ]
  }
 ],
 "metadata": {
  "kernelspec": {
   "display_name": "Python 3 (ipykernel)",
   "language": "python",
   "name": "python3"
  },
  "language_info": {
   "codemirror_mode": {
    "name": "ipython",
    "version": 3
   },
   "file_extension": ".py",
   "mimetype": "text/x-python",
   "name": "python",
   "nbconvert_exporter": "python",
   "pygments_lexer": "ipython3",
   "version": "3.10.6"
  }
 },
 "nbformat": 4,
 "nbformat_minor": 5
}
