{
 "cells": [
  {
   "cell_type": "markdown",
   "id": "43f5cb21",
   "metadata": {},
   "source": [
    "# ROLE: Data Provider (Admin)"
   ]
  },
  {
   "cell_type": "markdown",
   "id": "d0caa518",
   "metadata": {},
   "source": [
    "# Passport Broker - Confirm that the user is created and Grant visas to this user"
   ]
  },
  {
   "cell_type": "code",
   "execution_count": 16,
   "id": "954359a4",
   "metadata": {},
   "outputs": [
    {
     "name": "stdout",
     "output_type": "stream",
     "text": [
      "Passport Broker Admin base URL : http://localhost:4501/admin/ga4gh/passport/v1\n"
     ]
    }
   ],
   "source": [
    "import requests\n",
    "import json\n",
    "\n",
    "\n",
    "pb_admin_port = \"4501\"\n",
    "ga4gh_base_url = \"http://localhost:{}/admin/ga4gh/{}/v1\"\n",
    "pb_admin_base_url = ga4gh_base_url.format(pb_admin_port,\"passport\")\n",
    "\n",
    "users_path = \"/users\"\n",
    "\n",
    "print(\"Passport Broker Admin base URL : {}\".format(pb_admin_base_url))\n",
    "\n",
    "def pretty_print_json(response):\n",
    "    # pretty print JSON in blue color\n",
    "    print(\"\\033[38;2;8;75;138m\"+json.dumps(response.json(), indent=4)+\"\\033[0m\")\n",
    "    \n",
    "def print_head(text):\n",
    "    # print in green color\n",
    "    print(\"\\033[38;2;8;138;75m\"+text+\"\\033[0m\")"
   ]
  },
  {
   "cell_type": "code",
   "execution_count": 10,
   "id": "e58ad80c",
   "metadata": {},
   "outputs": [
    {
     "name": "stdout",
     "output_type": "stream",
     "text": [
      "Enter the user_id from the passport UI: 59ac91fa-51d1-43ff-884c-8ab82b7f8a79\n"
     ]
    }
   ],
   "source": [
    "user_id = input(\"Enter the user_id from the passport UI: \")"
   ]
  },
  {
   "cell_type": "markdown",
   "id": "fdb27cd6",
   "metadata": {},
   "source": [
    "## i. confirm that the user is created"
   ]
  },
  {
   "cell_type": "code",
   "execution_count": 12,
   "id": "033282b4",
   "metadata": {},
   "outputs": [
    {
     "name": "stdout",
     "output_type": "stream",
     "text": [
      "\u001b[38;2;8;138;75mGET request to http://localhost:4501/admin/ga4gh/passport/v1/users\u001b[0m\n",
      "\u001b[38;2;8;75;138m[\n",
      "    {\n",
      "        \"id\": \"85ff5a54-48b9-4294-a91d-2be50bd2a77d\"\n",
      "    },\n",
      "    {\n",
      "        \"id\": \"46d40e07-8d51-4e4d-a93a-e3438271172b\"\n",
      "    },\n",
      "    {\n",
      "        \"id\": \"90c81ca0-3705-465a-97fb-b535022217fd\"\n",
      "    },\n",
      "    {\n",
      "        \"id\": \"7421926c-d816-401f-a039-8992aca9279e\"\n",
      "    },\n",
      "    {\n",
      "        \"id\": \"59ac91fa-51d1-43ff-884c-8ab82b7f8a79\"\n",
      "    }\n",
      "]\u001b[0m\n"
     ]
    }
   ],
   "source": [
    "http_method = \"GET\"\n",
    "request_url = pb_admin_base_url + users_path\n",
    "pb_users_resp = requests.request(http_method, request_url)\n",
    "\n",
    "print_head(\"{} request to {}\".format(http_method, request_url))\n",
    "pretty_print_json(pb_users_resp)"
   ]
  },
  {
   "cell_type": "markdown",
   "id": "965205f7",
   "metadata": {},
   "source": [
    "Your user_id should be listed in this response"
   ]
  },
  {
   "cell_type": "markdown",
   "id": "e5d55796",
   "metadata": {},
   "source": [
    "## ii. Grant visas to the newly created user"
   ]
  },
  {
   "cell_type": "markdown",
   "id": "c20b00b4",
   "metadata": {},
   "source": [
    "For the purpose of this exercise, we will grant all the visas to the user, providing them with the flexibility to create a Passport Token with the desired visas."
   ]
  },
  {
   "cell_type": "code",
   "execution_count": 23,
   "id": "42d6a401",
   "metadata": {},
   "outputs": [
    {
     "name": "stdout",
     "output_type": "stream",
     "text": [
      "\u001b[38;2;8;138;75mGrant Visas to the user: 59ac91fa-51d1-43ff-884c-8ab82b7f8a79 \n",
      "by sending a PUT request to http://localhost:4501/admin/ga4gh/passport/v1/users/59ac91fa-51d1-43ff-884c-8ab82b7f8a79\u001b[0m\n",
      "\u001b[38;2;8;75;138m{\n",
      "    \"id\": \"59ac91fa-51d1-43ff-884c-8ab82b7f8a79\",\n",
      "    \"passportVisaAssertions\": [\n",
      "        {\n",
      "            \"status\": \"active\",\n",
      "            \"assertedAt\": 1688071836,\n",
      "            \"passportVisa\": {\n",
      "                \"id\": \"b62249d0-d71d-42d2-9a67-55003fdae8ec\",\n",
      "                \"visaName\": \"1000GenomesIndividualsWithAmericanAncestry\",\n",
      "                \"visaIssuer\": \"https://federatedgenomics.org/\",\n",
      "                \"visaDescription\": \"Controls access to genomic data obtained from individuals with American ancestry\"\n",
      "            }\n",
      "        },\n",
      "        {\n",
      "            \"status\": \"active\",\n",
      "            \"assertedAt\": 1688071836,\n",
      "            \"passportVisa\": {\n",
      "                \"id\": \"6ecaef9e-d6bb-4d96-9aed-ca517ceed8a1\",\n",
      "                \"visaName\": \"1000GenomesIndividualsWithEastAsianAncestry\",\n",
      "                \"visaIssuer\": \"https://federatedgenomics.org/\",\n",
      "                \"visaDescription\": \"Controls access to genomic data obtained from individuals with East Asian ancestry\"\n",
      "            }\n",
      "        },\n",
      "        {\n",
      "            \"status\": \"active\",\n",
      "            \"assertedAt\": 1688071836,\n",
      "            \"passportVisa\": {\n",
      "                \"id\": \"3af0e101-cd51-4fe4-aa8c-29a69be48fe0\",\n",
      "                \"visaName\": \"1000GenomesIndividualsWithEuropeanAncestry\",\n",
      "                \"visaIssuer\": \"https://federatedgenomics.org/\",\n",
      "                \"visaDescription\": \"Controls access to genomic data obtained from individuals with European ancestry\"\n",
      "            }\n",
      "        },\n",
      "        {\n",
      "            \"status\": \"active\",\n",
      "            \"assertedAt\": 1688071836,\n",
      "            \"passportVisa\": {\n",
      "                \"id\": \"e38f656e-3146-4b06-92f2-6edea44f0cd1\",\n",
      "                \"visaName\": \"1000GenomesIndividualsWithAfricanAncestry\",\n",
      "                \"visaIssuer\": \"https://federatedgenomics.org/\",\n",
      "                \"visaDescription\": \"Controls access to genomic data obtained from individuals with African ancestry\"\n",
      "            }\n",
      "        },\n",
      "        {\n",
      "            \"status\": \"active\",\n",
      "            \"assertedAt\": 1688071836,\n",
      "            \"passportVisa\": {\n",
      "                \"id\": \"55cb5d06-bbf3-428b-a822-3565557518ba\",\n",
      "                \"visaName\": \"1000GenomesIndividualsWithSouthAsianAncestry\",\n",
      "                \"visaIssuer\": \"https://federatedgenomics.org/\",\n",
      "                \"visaDescription\": \"Controls access to genomic data obtained from individuals with South Asian ancestry\"\n",
      "            }\n",
      "        }\n",
      "    ]\n",
      "}\u001b[0m\n"
     ]
    }
   ],
   "source": [
    "http_method = \"PUT\"\n",
    "request_url = pb_admin_base_url + users_path + \"/\" + user_id\n",
    "\n",
    "# Building the request_body\n",
    "passport_visa_assertions = []\n",
    "for visa_info in visa_info_array:\n",
    "    passport_visa = {}\n",
    "    passport_visa[\"status\"] = \"active\"\n",
    "    passport_visa[\"passportVisa\"] = visa_info\n",
    "    passport_visa_assertions.append(passport_visa)\n",
    "    \n",
    "    \n",
    "request_body = json.dumps({\n",
    "  \"id\": user_id,\n",
    "  \"passportVisaAssertions\": [\n",
    "    {\n",
    "      \"status\": \"active\",\n",
    "      \"passportVisa\": {\n",
    "        \"id\": \"b62249d0-d71d-42d2-9a67-55003fdae8ec\",\n",
    "        \"visaName\": \"1000GenomesIndividualsWithAmericanAncestry\",\n",
    "        \"visaIssuer\": \"https://federatedgenomics.org/\",\n",
    "        \"visaDescription\": \"Controls access to genomic data obtained from individuals with American ancestry\",\n",
    "        \"visaSecret\": \"BF9CAB5D5157C5C21EBDEE6C91D91\"\n",
    "      }\n",
    "    },\n",
    "    {\n",
    "      \"status\": \"active\",\n",
    "      \"passportVisa\": {\n",
    "        \"id\": \"6ecaef9e-d6bb-4d96-9aed-ca517ceed8a1\",\n",
    "        \"visaName\": \"1000GenomesIndividualsWithEastAsianAncestry\",\n",
    "        \"visaIssuer\": \"https://federatedgenomics.org/\",\n",
    "        \"visaDescription\": \"Controls access to genomic data obtained from individuals with East Asian ancestry\"\n",
    "      }\n",
    "    },\n",
    "    {\n",
    "      \"status\": \"active\",\n",
    "      \"passportVisa\": {\n",
    "        \"id\": \"3af0e101-cd51-4fe4-aa8c-29a69be48fe0\",\n",
    "        \"visaName\": \"1000GenomesIndividualsWithEuropeanAncestry\",\n",
    "        \"visaIssuer\": \"https://federatedgenomics.org/\",\n",
    "        \"visaDescription\": \"Controls access to genomic data obtained from individuals with European ancestry\",\n",
    "        \"visaSecret\": \"47B42DF32976DFDBD6EC4D9ED2593\"\n",
    "      }\n",
    "    },\n",
    "    {\n",
    "      \"status\": \"active\",\n",
    "      \"passportVisa\": {\n",
    "        \"id\": \"e38f656e-3146-4b06-92f2-6edea44f0cd1\",\n",
    "        \"visaName\": \"1000GenomesIndividualsWithAfricanAncestry\",\n",
    "        \"visaIssuer\": \"https://federatedgenomics.org/\",\n",
    "        \"visaDescription\": \"Controls access to genomic data obtained from individuals with African ancestry\",\n",
    "        \"visaSecret\": \"582A164E2C5DA377F3E3F76158CE6\"\n",
    "      }\n",
    "    },\n",
    "    {\n",
    "      \"status\": \"active\",\n",
    "      \"passportVisa\": {\n",
    "        \"id\": \"55cb5d06-bbf3-428b-a822-3565557518ba\",\n",
    "        \"visaName\": \"1000GenomesIndividualsWithSouthAsianAncestry\",\n",
    "        \"visaIssuer\": \"https://federatedgenomics.org/\",\n",
    "        \"visaDescription\": \"Controls access to genomic data obtained from individuals with South Asian ancestry\",\n",
    "        \"visaSecret\": \"9474C832599DC95F949DB3CAE443E\"\n",
    "      }\n",
    "    }\n",
    "  ]\n",
    "})\n",
    "\n",
    "\n",
    "request_headers = {'Content-Type': 'application/json'}\n",
    "\n",
    "print_head(\"Grant Visas to the user: {} \\nby sending a {} request to {}\".format(user_id, http_method, request_url))\n",
    "\n",
    "response = requests.request(\n",
    "    http_method, \n",
    "    request_url, \n",
    "    headers = request_headers, \n",
    "    data = request_body)\n",
    "\n",
    "# print the response\n",
    "pretty_print_json(response)"
   ]
  }
 ],
 "metadata": {
  "kernelspec": {
   "display_name": "Python 3 (ipykernel)",
   "language": "python",
   "name": "python3"
  },
  "language_info": {
   "codemirror_mode": {
    "name": "ipython",
    "version": 3
   },
   "file_extension": ".py",
   "mimetype": "text/x-python",
   "name": "python",
   "nbconvert_exporter": "python",
   "pygments_lexer": "ipython3",
   "version": "3.10.6"
  }
 },
 "nbformat": 4,
 "nbformat_minor": 5
}
