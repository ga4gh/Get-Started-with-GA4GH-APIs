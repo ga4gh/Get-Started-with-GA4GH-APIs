{
 "cells": [
  {
   "cell_type": "markdown",
   "id": "0f292259",
   "metadata": {},
   "source": [
    "# ROLE: Data Consumer (Client)"
   ]
  },
  {
   "cell_type": "markdown",
   "id": "e395087f",
   "metadata": {},
   "source": [
    "# Use the Passport Token to access DRS Objects"
   ]
  },
  {
   "cell_type": "code",
   "execution_count": null,
   "id": "fdab561c",
   "metadata": {},
   "outputs": [],
   "source": [
    "passport_token_with_all_visas = input(\"Enter your passport token that has all the visas: \\n\")"
   ]
  },
  {
   "cell_type": "code",
   "execution_count": null,
   "id": "ca276b18",
   "metadata": {},
   "outputs": [],
   "source": [
    "import requests\n",
    "import json\n",
    "\n",
    "drs_port = \"5000\"\n",
    "ga4gh_base_url = \"http://localhost:{}/ga4gh/{}/v1\"\n",
    "drs_base_url = ga4gh_base_url.format(drs_port,\"drs\")\n",
    "\n",
    "objects_path = \"/objects\"\n",
    "\n",
    "\n",
    "def pretty_print_json(response):\n",
    "    # pretty print JSON in blue color\n",
    "    print(\"\\033[38;2;8;75;138m\"+json.dumps(response.json(), indent=4)+\"\\033[0m\")\n",
    "    \n",
    "def print_head(text):\n",
    "    # print in green color\n",
    "    print(\"\\033[38;2;8;138;75m\"+text+\"\\033[0m\")"
   ]
  },
  {
   "cell_type": "code",
   "execution_count": null,
   "id": "2eb34deb",
   "metadata": {},
   "outputs": [],
   "source": [
    "sample_drs_id_1 = \"28ffe6386b78fffb7cd0a7b2d0a79846\"\n",
    "sample_drs_id_2 = \"0045077ccfaa91681480e96d7e7e7809\""
   ]
  },
  {
   "cell_type": "markdown",
   "id": "bd3ecd44",
   "metadata": {},
   "source": [
    "## i. Request DRS Object"
   ]
  },
  {
   "cell_type": "code",
   "execution_count": null,
   "id": "e147ee3e",
   "metadata": {},
   "outputs": [],
   "source": [
    "http_method = \"POST\"\n",
    "request_url = drs_base_url + objects_path + \"/\" + sample_drs_id_1\n",
    "request_body = json.dumps({\"passports\": [passport_token_with_all_visas]})\n",
    "request_headers = {\"Content-Type\": \"application/json\"}\n",
    "\n",
    "print_head(\"{} request to {} with a passport that has all the visas\".format(http_method, request_url))\n",
    "\n",
    "# GET request to /objects/{object_id} endpoint\n",
    "drs_object_response = requests.request(\n",
    "    http_method, \n",
    "    request_url,\n",
    "    headers = request_headers,\n",
    "    data = request_body\n",
    ")\n",
    "\n",
    "# print the response\n",
    "pretty_print_json(drs_object_response)"
   ]
  },
  {
   "cell_type": "markdown",
   "id": "dd749889",
   "metadata": {},
   "source": [
    "## ii. Bulk request DRS objects"
   ]
  },
  {
   "cell_type": "code",
   "execution_count": null,
   "id": "50f10ada",
   "metadata": {},
   "outputs": [],
   "source": [
    "http_method = \"POST\"\n",
    "request_url = drs_base_url + objects_path\n",
    "request_body = json.dumps({\n",
    "    \"selection\": [sample_drs_id_1, sample_drs_id_2],\n",
    "    \"passports\": [passport_token_with_all_visas]\n",
    "})\n",
    "request_headers = {\"Content-Type\": \"application/json\"}\n",
    "\n",
    "print_head(\"{} a bulk request to {} with a passport that has all the visas\".format(http_method, request_url))\n",
    "\n",
    "# GET request to /objects/{object_id} endpoint\n",
    "drs_object_response = requests.request(\n",
    "    http_method, \n",
    "    request_url,\n",
    "    headers = request_headers,\n",
    "    data = request_body\n",
    ")\n",
    "\n",
    "# print the response\n",
    "pretty_print_json(drs_object_response)"
   ]
  },
  {
   "cell_type": "markdown",
   "id": "3b778835",
   "metadata": {},
   "source": [
    "## iii. Practice - Request DRS Object using a Passport Token that does not contain the required Visa"
   ]
  },
  {
   "cell_type": "markdown",
   "id": "9d3e2089",
   "metadata": {},
   "source": [
    "From `client_notebooks/2_Access_DRS_object_without_Passport_Token.ipynb`, DRS object \"28ffe6386b78fffb7cd0a7b2d0a79846\" requires the \"1000GenomesIndividualsWithAmericanAncestry\" Visa. "
   ]
  },
  {
   "cell_type": "markdown",
   "id": "1b58568f",
   "metadata": {},
   "source": [
    "Let's see what happens when the user uses a passport without the required visa to access a DRS Object."
   ]
  },
  {
   "cell_type": "markdown",
   "id": "821a40f6",
   "metadata": {},
   "source": [
    "- Create a passport token without the \"1000GenomesIndividualsWithAmericanAncestry\" visa.\n",
    "- Use the generated passport token to request the DRS object.\n",
    "- You will receive an error response from the DRS server indicating that the user does not have the necessary visa to access the object."
   ]
  },
  {
   "cell_type": "code",
   "execution_count": null,
   "id": "42ed52d5",
   "metadata": {},
   "outputs": [],
   "source": [
    "### write your code here"
   ]
  },
  {
   "cell_type": "markdown",
   "id": "a867b994",
   "metadata": {},
   "source": [
    "**Expected ERROR RESPONSE:**\n",
    "```\n",
    "{\n",
    "    \"timestamp\": \"2022-06-23T19:31:22Z\",\n",
    "    \"status_code\": 403,\n",
    "    \"error\": \"Forbidden\",\n",
    "    \"msg\": \"No suitable visa found in user passport(s) for requested DRS object\"\n",
    "}\n",
    "```"
   ]
  }
 ],
 "metadata": {
  "kernelspec": {
   "display_name": "Python 3 (ipykernel)",
   "language": "python",
   "name": "python3"
  },
  "language_info": {
   "codemirror_mode": {
    "name": "ipython",
    "version": 3
   },
   "file_extension": ".py",
   "mimetype": "text/x-python",
   "name": "python",
   "nbconvert_exporter": "python",
   "pygments_lexer": "ipython3",
   "version": "3.10.6"
  }
 },
 "nbformat": 4,
 "nbformat_minor": 5
}
