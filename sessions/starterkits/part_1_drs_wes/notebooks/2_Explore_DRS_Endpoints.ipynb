{
 "cells": [
  {
   "cell_type": "markdown",
   "id": "706d3d6d",
   "metadata": {},
   "source": [
    "# Data Repository Service Endpoints\n",
    "**Find the detailed GA4GH DRS Specification [here](https://github.com/ga4gh/data-repository-service-schemas).**"
   ]
  },
  {
   "cell_type": "code",
   "execution_count": null,
   "id": "6fe34410",
   "metadata": {},
   "outputs": [],
   "source": [
    "import requests\n",
    "import json\n",
    "\n",
    "drs_port = \"5000\"\n",
    "ga4gh_base_url = \"http://localhost:{}/ga4gh/{}/v1\"\n",
    "drs_base_url = ga4gh_base_url.format(drs_port,\"drs\")\n",
    "\n",
    "service_info_path = \"/service-info\"\n",
    "object_path_get = \"/objects/{}\"\n",
    "object_path_post = \"/objects\"\n",
    "access_path = \"/objects/{}/access/{}\"\n",
    "\n",
    "def pretty_print_json(response):\n",
    "    # pretty print JSON in blue color\n",
    "    print(\"\\033[38;2;8;75;138m\"+json.dumps(response.json(), indent=4)+\"\\033[0m\")\n",
    "    \n",
    "def print_head(text):\n",
    "    # print in green color\n",
    "    print(\"\\033[38;2;8;138;75m\"+text+\"\\033[0m\")"
   ]
  },
  {
   "cell_type": "markdown",
   "id": "2d04e4f4",
   "metadata": {},
   "source": [
    "## i. GET `/service-info`\n",
    "**Retrieve information about this service**"
   ]
  },
  {
   "cell_type": "code",
   "execution_count": null,
   "id": "d42e60cf",
   "metadata": {},
   "outputs": [],
   "source": [
    "http_method = \"GET\"\n",
    "request_url = drs_base_url+service_info_path\n",
    "\n",
    "print_head(\"{} request to {}\".format(http_method, request_url))\n",
    "\n",
    "# GET request to service-info endpoint\n",
    "drs_service_info_resp = requests.request(http_method, request_url)\n",
    "\n",
    "# print the response\n",
    "pretty_print_json(drs_service_info_resp)"
   ]
  },
  {
   "cell_type": "markdown",
   "id": "d1e700ff",
   "metadata": {},
   "source": [
    "## ii. GET `/objects/{object_id}`\n",
    "**Returns object metadata, and a list of access methods that can be used to fetch object bytes**"
   ]
  },
  {
   "cell_type": "code",
   "execution_count": null,
   "id": "a5630010",
   "metadata": {},
   "outputs": [],
   "source": [
    "http_method = \"GET\"\n",
    "sample_drs_id = \"8e18bfb64168994489bc9e7fda0acd4f\"\n",
    "request_url = drs_base_url+object_path_get.format(sample_drs_id)\n",
    "\n",
    "print_head(\"{} request to {}\".format(http_method, request_url))\n",
    "\n",
    "# GET request to /objects/{object_id} endpoint\n",
    "drs_object_response = requests.request(http_method, request_url)\n",
    "\n",
    "# print the response\n",
    "pretty_print_json(drs_object_response)"
   ]
  },
  {
   "cell_type": "markdown",
   "id": "45e7fbdb",
   "metadata": {},
   "source": [
    "## iii. Bulk request multiple DRS objects"
   ]
  },
  {
   "cell_type": "code",
   "execution_count": null,
   "id": "63f76572",
   "metadata": {},
   "outputs": [],
   "source": [
    "http_method = \"POST\"\n",
    "sample_drs_id_1 = \"8e18bfb64168994489bc9e7fda0acd4f\"\n",
    "sample_drs_id_2 = \"ba094cae0da59f27ea82a8a802be34cd\"\n",
    "request_body = json.dumps(\n",
    "    {\n",
    "        \"selection\": [\n",
    "            sample_drs_id_1,\n",
    "            sample_drs_id_2\n",
    "        ]\n",
    "    }\n",
    ")\n",
    "request_header = {'Content-Type': 'application/json'}\n",
    "request_url = drs_base_url+object_path_post\n",
    "\n",
    "print_head(\"Sending {} request to {} \\nwith request_body: {}\".format(http_method, request_url, request_body))\n",
    "\n",
    "# Bulk request multiple DRS objects\n",
    "drs_object_bulk_response = requests.request(\n",
    "    method = http_method, \n",
    "    url = request_url, \n",
    "    headers = request_header, \n",
    "    data = request_body)\n",
    "\n",
    "# print the response\n",
    "pretty_print_json(drs_object_bulk_response)"
   ]
  },
  {
   "cell_type": "markdown",
   "id": "c62f8917",
   "metadata": {},
   "source": [
    "## iv. OPTIONS object by id"
   ]
  },
  {
   "cell_type": "code",
   "execution_count": null,
   "id": "f1fb2ac8",
   "metadata": {},
   "outputs": [],
   "source": [
    "http_method = \"OPTIONS\"\n",
    "sample_drs_id = \"8e18bfb64168994489bc9e7fda0acd4f\"\n",
    "request_url = drs_base_url+object_path_get.format(sample_drs_id)\n",
    "\n",
    "print_head(\"{} request to {}\".format(http_method, request_url))\n",
    "\n",
    "# OPTIONS request to /objects/{object_id}\n",
    "drs_object_options_response = requests.request(\"OPTIONS\", request_url)\n",
    "\n",
    "# print the response\n",
    "pretty_print_json(drs_object_options_response)"
   ]
  },
  {
   "cell_type": "markdown",
   "id": "8f9bdb03",
   "metadata": {},
   "source": [
    "## For more endpoints, find the detailed GA4GH DRS Specification [here](https://github.com/ga4gh/data-repository-service-schemas)."
   ]
  }
 ],
 "metadata": {
  "kernelspec": {
   "display_name": "Python 3 (ipykernel)",
   "language": "python",
   "name": "python3"
  },
  "language_info": {
   "codemirror_mode": {
    "name": "ipython",
    "version": 3
   },
   "file_extension": ".py",
   "mimetype": "text/x-python",
   "name": "python",
   "nbconvert_exporter": "python",
   "pygments_lexer": "ipython3",
   "version": "3.10.6"
  }
 },
 "nbformat": 4,
 "nbformat_minor": 5
}
