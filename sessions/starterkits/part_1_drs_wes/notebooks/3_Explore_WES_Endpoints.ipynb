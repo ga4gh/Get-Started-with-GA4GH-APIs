{
 "cells": [
  {
   "cell_type": "markdown",
   "id": "f969c158",
   "metadata": {},
   "source": [
    "# Workflow Execution Service Endpoints\n",
    "Find the detailed GA4GH WES Specification [here](https://github.com/ga4gh/workflow-execution-service-schemas)."
   ]
  },
  {
   "cell_type": "code",
   "execution_count": null,
   "id": "c3908e75",
   "metadata": {},
   "outputs": [],
   "source": [
    "import requests\n",
    "import json\n",
    "\n",
    "wes_port = \"6000\"\n",
    "ga4gh_base_url = \"http://localhost:{}/ga4gh/{}/v1\"\n",
    "wes_base_url = ga4gh_base_url.format(wes_port,\"wes\")\n",
    "\n",
    "service_info_path = \"/service-info\"\n",
    "runs_path = \"/runs\"\n",
    "\n",
    "def pretty_print_json(response):\n",
    "    # pretty print JSON in blue color\n",
    "    print(\"\\033[38;2;8;75;138m\"+json.dumps(response.json(), indent=4)+\"\\033[0m\")\n",
    "    \n",
    "def print_head(text):\n",
    "    # print in green color\n",
    "    print(\"\\033[38;2;8;138;75m\"+text+\"\\033[0m\")"
   ]
  },
  {
   "cell_type": "markdown",
   "id": "338ea103",
   "metadata": {},
   "source": [
    "## i. Get `/service-info`\n",
    "**Retrieve information about this service**"
   ]
  },
  {
   "cell_type": "code",
   "execution_count": null,
   "id": "b193c324",
   "metadata": {},
   "outputs": [],
   "source": [
    "http_method = \"GET\"\n",
    "request_url = wes_base_url+service_info_path\n",
    "\n",
    "print_head(\"{} request to {}\".format(http_method, request_url))\n",
    "\n",
    "# GET request to service-info endpoint\n",
    "wes_service_info_resp = requests.request(http_method, request_url)\n",
    "\n",
    "# print the response\n",
    "pretty_print_json(wes_service_info_resp)"
   ]
  },
  {
   "cell_type": "markdown",
   "id": "62230127",
   "metadata": {},
   "source": [
    "## ii. List `/runs`\n",
    "**Retrieves the list of runs**"
   ]
  },
  {
   "cell_type": "code",
   "execution_count": null,
   "id": "a95e0114",
   "metadata": {},
   "outputs": [],
   "source": [
    "http_method = \"GET\"\n",
    "request_url = wes_base_url+runs_path\n",
    "\n",
    "print_head(\"{} request to {}\".format(http_method, request_url))\n",
    "\n",
    "# GET request to /runs endpoint\n",
    "wes_list_runs_resp = requests.request(http_method, request_url)\n",
    "\n",
    "# print the response\n",
    "pretty_print_json(wes_list_runs_resp)"
   ]
  },
  {
   "cell_type": "markdown",
   "id": "98a0e9a3",
   "metadata": {},
   "source": [
    "## iii. Post a Nextflow workflow\n",
    "**Run `samtools head` on this file: `https://ga4gh-ismb-tutorial-2022.s3.us-east-2.amazonaws.com/data/1000genomes/cram/lowcov/HG00118.lowcoverage.downsampled.cram`**"
   ]
  },
  {
   "cell_type": "code",
   "execution_count": null,
   "id": "4fa5c448",
   "metadata": {},
   "outputs": [],
   "source": [
    "http_method = \"POST\"\n",
    "request_url = wes_base_url + runs_path\n",
    "\n",
    "nextflow_workflow_url = \"https://github.com/yash-puligundla/samtools-head-nf\"\n",
    "input_file = \"https://ga4gh-ismb-tutorial-2022.s3.us-east-2.amazonaws.com/data/1000genomes/cram/lowcov/HG00118.lowcoverage.downsampled.cram\"\n",
    "\n",
    "data = {\n",
    "    'workflow_type': 'NEXTFLOW',\n",
    "    'workflow_type_version': '21.04.0',\n",
    "    'workflow_url': nextflow_workflow_url,\n",
    "    'workflow_params': f'{{\"input\":\"{input_file}\"}}'\n",
    "}\n",
    "\n",
    "print_head(\"{} request to {}\".format(http_method, request_url))\n",
    "\n",
    "# Post a Nextflow workflow\n",
    "wes_post_workflow_response = requests.request(http_method, request_url, data = data)\n",
    "\n",
    "# print the response\n",
    "pretty_print_json(wes_post_workflow_response)\n",
    "\n",
    "current_run_id = wes_post_workflow_response.json()[\"run_id\"]\n",
    "\n",
    "print_head(\"run_id = {}\".format(current_run_id))"
   ]
  },
  {
   "cell_type": "markdown",
   "id": "cac91e46",
   "metadata": {},
   "source": [
    "### iii a. Monitor the run"
   ]
  },
  {
   "cell_type": "code",
   "execution_count": null,
   "id": "727677b1",
   "metadata": {},
   "outputs": [],
   "source": [
    "http_method = \"GET\"\n",
    "request_url = wes_base_url + runs_path + \"/\" + current_run_id\n",
    "\n",
    "print_head(\"{} request to {}\".format(http_method, request_url))\n",
    "\n",
    "# Get request to /runs/{run_id}\n",
    "monitor_run_response = requests.request(http_method, request_url)\n",
    "\n",
    "# print the response\n",
    "pretty_print_json(monitor_run_response)"
   ]
  },
  {
   "cell_type": "markdown",
   "id": "ad3532ad",
   "metadata": {},
   "source": [
    "## iv. Post a Nextflow workflow\n",
    "**Run `samtools head` on the drs_object with DRS URI `drs://localhost:5000/8e18bfb64168994489bc9e7fda0acd4f`**"
   ]
  },
  {
   "cell_type": "code",
   "execution_count": null,
   "id": "c9d379c6",
   "metadata": {},
   "outputs": [],
   "source": [
    "http_method = \"POST\"\n",
    "request_url = wes_base_url+runs_path\n",
    "\n",
    "nextflow_workflow_url = \"https://github.com/yash-puligundla/samtools-head-nf\"\n",
    "input_file = \"drs://localhost:5000/77b0f3d65271c4a0064ff7760828dd92\"\n",
    "\n",
    "data = {\n",
    "    'workflow_type': 'NEXTFLOW',\n",
    "    'workflow_type_version': '21.04.0',\n",
    "    'workflow_url': nextflow_workflow_url,\n",
    "    'workflow_params': f'{{\"input\":\"{input_file}\"}}'\n",
    "}\n",
    "\n",
    "print_head(\"{} request to {}\".format(http_method, request_url))\n",
    "\n",
    "# Post a Nextflow workflow\n",
    "wes_post_workflow_response = requests.request(http_method, request_url, data = data)\n",
    "\n",
    "# print the response\n",
    "pretty_print_json(wes_post_workflow_response)\n",
    "\n",
    "current_run_id = wes_post_workflow_response.json()[\"run_id\"]\n",
    "\n",
    "print_head(\"run_id = {}\".format(current_run_id))"
   ]
  },
  {
   "cell_type": "markdown",
   "id": "a4f8cf8a",
   "metadata": {},
   "source": [
    "### iv a. Monitor the run"
   ]
  },
  {
   "cell_type": "code",
   "execution_count": null,
   "id": "a3b40624",
   "metadata": {},
   "outputs": [],
   "source": [
    "http_method = \"GET\"\n",
    "request_url = wes_base_url + runs_path + \"/\" + current_run_id\n",
    "\n",
    "print_head(\"{} request to {}\".format(http_method, request_url))\n",
    "\n",
    "# Get request to /runs/{run_id}\n",
    "monitor_run_response = requests.request(http_method, request_url)\n",
    "\n",
    "# print the response\n",
    "pretty_print_json(monitor_run_response)"
   ]
  },
  {
   "cell_type": "markdown",
   "id": "cd3e27d6",
   "metadata": {},
   "source": [
    "## For more endpoints, find the detailed GA4GH WES Specification [here](https://github.com/ga4gh/workflow-execution-service-schemas)."
   ]
  }
 ],
 "metadata": {
  "kernelspec": {
   "display_name": "Python 3 (ipykernel)",
   "language": "python",
   "name": "python3"
  },
  "language_info": {
   "codemirror_mode": {
    "name": "ipython",
    "version": 3
   },
   "file_extension": ".py",
   "mimetype": "text/x-python",
   "name": "python",
   "nbconvert_exporter": "python",
   "pygments_lexer": "ipython3",
   "version": "3.10.6"
  }
 },
 "nbformat": 4,
 "nbformat_minor": 5
}
