{
 "cells": [
  {
   "cell_type": "markdown",
   "id": "6baea16c",
   "metadata": {},
   "source": [
    "TODO:\n",
    "1. Jupyter notebook - table of contents\n",
    "2. collapsible sections\n",
    "3. auto-scroll, set threshold to 50"
   ]
  },
  {
   "cell_type": "code",
   "execution_count": 7,
   "id": "6f927cbc",
   "metadata": {},
   "outputs": [
    {
     "data": {
      "application/javascript": [
       "$.getScript('https://kmahelona.github.io/ipython_notebook_goodies/ipython_notebook_toc.js')\n"
      ],
      "text/plain": [
       "<IPython.core.display.Javascript object>"
      ]
     },
     "metadata": {},
     "output_type": "display_data"
    }
   ],
   "source": [
    "%%javascript\n",
    "$.getScript('https://kmahelona.github.io/ipython_notebook_goodies/ipython_notebook_toc.js')"
   ]
  },
  {
   "cell_type": "markdown",
   "id": "83b05a13",
   "metadata": {},
   "source": [
    "<h1 id=\"tocheading\">Table of Contents</h1>\n",
    "<div id=\"toc\"></div>"
   ]
  },
  {
   "cell_type": "code",
   "execution_count": 8,
   "id": "452da7dd",
   "metadata": {
    "slideshow": {
     "slide_type": "slide"
    }
   },
   "outputs": [],
   "source": [
    "import requests\n",
    "import json\n",
    "import pprint"
   ]
  },
  {
   "cell_type": "code",
   "execution_count": 9,
   "id": "4325c713",
   "metadata": {
    "slideshow": {
     "slide_type": "slide"
    }
   },
   "outputs": [],
   "source": [
    "# helper functions\n",
    "def pretty_print_json(response):\n",
    "    print(json.dumps(response.json(), indent=4))\n",
    "    "
   ]
  },
  {
   "cell_type": "code",
   "execution_count": 10,
   "id": "99545d49",
   "metadata": {},
   "outputs": [],
   "source": [
    "# set up\n",
    "\n",
    "# DRS\n",
    "drs_port = \"5000\"\n",
    "drs_base_url = \"http://localhost:{}/ga4gh/drs/v1\".format(drs_port)\n",
    "\n",
    "# WES\n",
    "wes_port = \"6000\"\n",
    "wes_base_url = \"http://localhost:{}/ga4gh/wes/v1\".format(wes_port)"
   ]
  },
  {
   "cell_type": "markdown",
   "id": "8c01b63a",
   "metadata": {},
   "source": [
    "<h1> Inspect **service-info** endpoint of DRS and WES containers\n",
    "The service-info endpoint returns the server details of the current implementation."
   ]
  },
  {
   "cell_type": "markdown",
   "id": "182b7c0a",
   "metadata": {},
   "source": [
    "### DRS - GET /service-info"
   ]
  },
  {
   "cell_type": "code",
   "execution_count": 11,
   "id": "bfc226df",
   "metadata": {},
   "outputs": [
    {
     "name": "stdout",
     "output_type": "stream",
     "text": [
      "{\n",
      "    \"id\": \"drs.starterkit.federatedgenomics.org\",\n",
      "    \"name\": \"Federated Genomics DRS service\",\n",
      "    \"description\": \"Data Repository Service (DRS) instance serving public genomics datasets. Deployment of the GA4GH Starter Kit.\",\n",
      "    \"contactUrl\": \"mailto:nobody@federatedgenomics.org\",\n",
      "    \"documentationUrl\": \"https://apidocs.federatedgenomics.org/drs\",\n",
      "    \"createdAt\": \"2022-07-10T09:00:00Z\",\n",
      "    \"updatedAt\": \"2022-07-10T09:00:00Z\",\n",
      "    \"environment\": \"development\",\n",
      "    \"version\": \"1.0.0\",\n",
      "    \"type\": {\n",
      "        \"group\": \"org.ga4gh\",\n",
      "        \"artifact\": \"drs\",\n",
      "        \"version\": \"1.1.0\"\n",
      "    },\n",
      "    \"organization\": {\n",
      "        \"name\": \"Federated Genomics\",\n",
      "        \"url\": \"https://this-is-not-a-site.federatedgenomics.org\"\n",
      "    }\n",
      "}\n"
     ]
    }
   ],
   "source": [
    "service_info_path = \"/service-info\"\n",
    "drs_service_info_resp = requests.request(\"GET\", drs_base_url+service_info_path)\n",
    "\n",
    "\n",
    "pretty_print_json(drs_service_info_resp)"
   ]
  },
  {
   "cell_type": "markdown",
   "id": "9e7a5a89",
   "metadata": {},
   "source": [
    "### WES - GET /service-info"
   ]
  },
  {
   "cell_type": "code",
   "execution_count": 13,
   "id": "07bbe8a3",
   "metadata": {},
   "outputs": [
    {
     "name": "stdout",
     "output_type": "stream",
     "text": [
      "{\n",
      "    \"id\": \"wes.starterkit.federatedgenomics.org\",\n",
      "    \"name\": \"Federated Genomics WES service\",\n",
      "    \"description\": \"Workflow Execution Service (WES) instance. Enables small-scale test workflows to be run over the web. Deployment of the GA4GH Starter Kit.\",\n",
      "    \"contactUrl\": \"mailto:nobody@federatedgenomics.org\",\n",
      "    \"documentationUrl\": \"https://apidocs.federatedgenomics.org/wes\",\n",
      "    \"createdAt\": \"2022-07-10T09:00:00Z\",\n",
      "    \"updatedAt\": \"2022-07-10T09:00:00Z\",\n",
      "    \"environment\": \"development\",\n",
      "    \"version\": \"1.0.0\",\n",
      "    \"type\": {\n",
      "        \"group\": \"org.ga4gh\",\n",
      "        \"artifact\": \"wes\",\n",
      "        \"version\": \"1.0.1\"\n",
      "    },\n",
      "    \"organization\": {\n",
      "        \"name\": \"Federated Genomics\",\n",
      "        \"url\": \"https://this-is-not-a-site.federatedgenomics.org\"\n",
      "    },\n",
      "    \"workflow_type_versions\": {\n",
      "        \"WDL\": [\n",
      "            \"1.0\"\n",
      "        ],\n",
      "        \"NEXTFLOW\": [\n",
      "            \"21.04.0\"\n",
      "        ]\n",
      "    },\n",
      "    \"workflow_engine_versions\": {\n",
      "        \"NATIVE\": \"1.0.0\"\n",
      "    }\n",
      "}\n"
     ]
    }
   ],
   "source": [
    "wes_service_info_resp = requests.request(\"GET\", wes_base_url+service_info_path)\n",
    "\n",
    "\n",
    "pretty_print_json(wes_service_info_resp)"
   ]
  },
  {
   "cell_type": "markdown",
   "id": "64615564",
   "metadata": {},
   "source": [
    "## Load 1000 Genomes Data into DRS"
   ]
  },
  {
   "cell_type": "markdown",
   "id": "88c5ab26",
   "metadata": {},
   "source": [
    "Run this command on your terminal to load the 1000 Genomes data into DRS\n",
    "\n",
    "`python3 resources/drs/db-scripts/populate-drs.py`"
   ]
  },
  {
   "cell_type": "markdown",
   "id": "678050b4",
   "metadata": {},
   "source": [
    "## Explore DRS endpoints"
   ]
  },
  {
   "cell_type": "markdown",
   "id": "baeabae0",
   "metadata": {},
   "source": [
    "Find the detailed GA4GH DRS Specification [here](https://github.com/ga4gh/data-repository-service-schemas)."
   ]
  },
  {
   "cell_type": "markdown",
   "id": "e90cc98b",
   "metadata": {},
   "source": [
    "### GET /service-info"
   ]
  },
  {
   "cell_type": "code",
   "execution_count": 6,
   "id": "bd18b9d1",
   "metadata": {},
   "outputs": [
    {
     "name": "stdout",
     "output_type": "stream",
     "text": [
      "{\n",
      "    \"id\": \"drs.starterkit.federatedgenomics.org\",\n",
      "    \"name\": \"Federated Genomics DRS service\",\n",
      "    \"description\": \"Data Repository Service (DRS) instance serving public genomics datasets. Deployment of the GA4GH Starter Kit.\",\n",
      "    \"contactUrl\": \"mailto:nobody@federatedgenomics.org\",\n",
      "    \"documentationUrl\": \"https://apidocs.federatedgenomics.org/drs\",\n",
      "    \"createdAt\": \"2022-07-10T09:00:00Z\",\n",
      "    \"updatedAt\": \"2022-07-10T09:00:00Z\",\n",
      "    \"environment\": \"development\",\n",
      "    \"version\": \"1.0.0\",\n",
      "    \"type\": {\n",
      "        \"group\": \"org.ga4gh\",\n",
      "        \"artifact\": \"drs\",\n",
      "        \"version\": \"1.1.0\"\n",
      "    },\n",
      "    \"organization\": {\n",
      "        \"name\": \"Federated Genomics\",\n",
      "        \"url\": \"https://this-is-not-a-site.federatedgenomics.org\"\n",
      "    }\n",
      "}\n"
     ]
    }
   ],
   "source": [
    "service_info_path = \"/service-info\"\n",
    "service_info_response = requests.request(\"GET\", DRS_base_url+service_info_path)\n",
    "\n",
    "\n",
    "pretty_print_json(service_info_response)"
   ]
  },
  {
   "cell_type": "markdown",
   "id": "8802ff4b",
   "metadata": {},
   "source": [
    "### GET /objects/{object_id}"
   ]
  },
  {
   "cell_type": "code",
   "execution_count": 17,
   "id": "da273517",
   "metadata": {},
   "outputs": [
    {
     "name": "stdout",
     "output_type": "stream",
     "text": [
      "{\n",
      "    \"id\": \"8e18bfb64168994489bc9e7fda0acd4f\",\n",
      "    \"description\": \"High coverage, downsampled CRAM file for sample HG00449\",\n",
      "    \"created_time\": \"2023-06-16T16:02:14Z\",\n",
      "    \"mime_type\": \"application/cram\",\n",
      "    \"name\": \"HG00449 1000 Genomes Downsampled High Coverage CRAM file\",\n",
      "    \"size\": 18977144,\n",
      "    \"updated_time\": \"2023-06-16T16:02:14Z\",\n",
      "    \"version\": \"1.0.0\",\n",
      "    \"aliases\": [\n",
      "        \"HG00449 high coverage downsampled CRAM\"\n",
      "    ],\n",
      "    \"checksums\": [\n",
      "        {\n",
      "            \"checksum\": \"232a8379bf238fe0c2b646c03a4b8bd2d83917f3\",\n",
      "            \"type\": \"sha1\"\n",
      "        },\n",
      "        {\n",
      "            \"checksum\": \"44ee4289015c892c442b504ed681532f032de5c09e846be021624815859f82e8\",\n",
      "            \"type\": \"sha256\"\n",
      "        },\n",
      "        {\n",
      "            \"checksum\": \"8e18bfb64168994489bc9e7fda0acd4f\",\n",
      "            \"type\": \"md5\"\n",
      "        }\n",
      "    ],\n",
      "    \"self_uri\": \"drs://localhost:5000/8e18bfb64168994489bc9e7fda0acd4f\",\n",
      "    \"access_methods\": [\n",
      "        {\n",
      "            \"access_url\": {\n",
      "                \"url\": \"s3://ga4gh-ismb-tutorial-2022/data/1000genomes/cram/highcov/HG00449.final.2400kb.cram\"\n",
      "            },\n",
      "            \"type\": \"s3\",\n",
      "            \"region\": \"us-east-2\"\n",
      "        }\n",
      "    ]\n",
      "}\n"
     ]
    }
   ],
   "source": [
    "objects_path = \"/objects\"\n",
    "drs_id_1 = \"8e18bfb64168994489bc9e7fda0acd4f\"\n",
    "\n",
    "drs_object_1_response = requests.request(\"GET\", DRS_base_url+objects_path +\"/\"+ drs_id_1)\n",
    "\n",
    "pretty_print_json(drs_object_1_response)"
   ]
  },
  {
   "cell_type": "markdown",
   "id": "8290a516",
   "metadata": {},
   "source": [
    "### Bulk request DRS objects"
   ]
  },
  {
   "cell_type": "code",
   "execution_count": 22,
   "id": "a810f735",
   "metadata": {},
   "outputs": [
    {
     "name": "stdout",
     "output_type": "stream",
     "text": [
      "{\n",
      "    \"summary\": {\n",
      "        \"requested\": 2,\n",
      "        \"resolved\": 2,\n",
      "        \"unresolved\": 0\n",
      "    },\n",
      "    \"resolved_drs_object\": [\n",
      "        {\n",
      "            \"id\": \"8e18bfb64168994489bc9e7fda0acd4f\",\n",
      "            \"description\": \"High coverage, downsampled CRAM file for sample HG00449\",\n",
      "            \"created_time\": \"2023-06-16T16:02:14Z\",\n",
      "            \"mime_type\": \"application/cram\",\n",
      "            \"name\": \"HG00449 1000 Genomes Downsampled High Coverage CRAM file\",\n",
      "            \"size\": 18977144,\n",
      "            \"updated_time\": \"2023-06-16T16:02:14Z\",\n",
      "            \"version\": \"1.0.0\",\n",
      "            \"aliases\": [\n",
      "                \"HG00449 high coverage downsampled CRAM\"\n",
      "            ],\n",
      "            \"checksums\": [\n",
      "                {\n",
      "                    \"checksum\": \"232a8379bf238fe0c2b646c03a4b8bd2d83917f3\",\n",
      "                    \"type\": \"sha1\"\n",
      "                },\n",
      "                {\n",
      "                    \"checksum\": \"44ee4289015c892c442b504ed681532f032de5c09e846be021624815859f82e8\",\n",
      "                    \"type\": \"sha256\"\n",
      "                },\n",
      "                {\n",
      "                    \"checksum\": \"8e18bfb64168994489bc9e7fda0acd4f\",\n",
      "                    \"type\": \"md5\"\n",
      "                }\n",
      "            ],\n",
      "            \"self_uri\": \"drs://localhost:5000/8e18bfb64168994489bc9e7fda0acd4f\",\n",
      "            \"access_methods\": [\n",
      "                {\n",
      "                    \"access_url\": {\n",
      "                        \"url\": \"s3://ga4gh-ismb-tutorial-2022/data/1000genomes/cram/highcov/HG00449.final.2400kb.cram\"\n",
      "                    },\n",
      "                    \"type\": \"s3\",\n",
      "                    \"region\": \"us-east-2\"\n",
      "                }\n",
      "            ]\n",
      "        },\n",
      "        {\n",
      "            \"id\": \"ba094cae0da59f27ea82a8a802be34cd\",\n",
      "            \"description\": \"High coverage, downsampled CRAI file for sample HG00449\",\n",
      "            \"created_time\": \"2023-06-16T16:02:14Z\",\n",
      "            \"mime_type\": \"application/crai\",\n",
      "            \"name\": \"HG00449 1000 Genomes Downsampled High Coverage CRAI file\",\n",
      "            \"size\": 1475,\n",
      "            \"updated_time\": \"2023-06-16T16:02:14Z\",\n",
      "            \"version\": \"1.0.0\",\n",
      "            \"aliases\": [\n",
      "                \"HG00449 high coverage downsampled CRAI\"\n",
      "            ],\n",
      "            \"checksums\": [\n",
      "                {\n",
      "                    \"checksum\": \"4f276a341ae941b512df7635b74faec257522528\",\n",
      "                    \"type\": \"sha1\"\n",
      "                },\n",
      "                {\n",
      "                    \"checksum\": \"79e64d3b32e7c8db7af6c9e2f2f724f8aa63d192e0669ec9e96189a65bf5422b\",\n",
      "                    \"type\": \"sha256\"\n",
      "                },\n",
      "                {\n",
      "                    \"checksum\": \"ba094cae0da59f27ea82a8a802be34cd\",\n",
      "                    \"type\": \"md5\"\n",
      "                }\n",
      "            ],\n",
      "            \"self_uri\": \"drs://localhost:5000/ba094cae0da59f27ea82a8a802be34cd\",\n",
      "            \"access_methods\": [\n",
      "                {\n",
      "                    \"access_url\": {\n",
      "                        \"url\": \"s3://ga4gh-ismb-tutorial-2022/data/1000genomes/cram/highcov/HG00449.final.2400kb.cram.crai\"\n",
      "                    },\n",
      "                    \"type\": \"s3\",\n",
      "                    \"region\": \"us-east-2\"\n",
      "                }\n",
      "            ]\n",
      "        }\n",
      "    ],\n",
      "    \"unresolved_drs_object\": {}\n",
      "}\n"
     ]
    }
   ],
   "source": [
    "request_body = json.dumps({\n",
    "    \"selection\":[\n",
    "        \"8e18bfb64168994489bc9e7fda0acd4f\",\n",
    "        \"ba094cae0da59f27ea82a8a802be34cd\"]})\n",
    "request_header = {\n",
    "  'Content-Type': 'application/json'\n",
    "}\n",
    "\n",
    "\n",
    "drs_object_bulk_response = requests.request(\"POST\", DRS_base_url+objects_path, headers=request_header, data=request_body)\n",
    "\n",
    "pretty_print_json(drs_object_bulk_response)"
   ]
  },
  {
   "cell_type": "markdown",
   "id": "b06f3ea3",
   "metadata": {},
   "source": [
    "### OPTIONS object by id\n",
    "This endpoint provides the details about any authorization required to access the object"
   ]
  },
  {
   "cell_type": "code",
   "execution_count": 23,
   "id": "e8857785",
   "metadata": {},
   "outputs": [
    {
     "name": "stdout",
     "output_type": "stream",
     "text": [
      "{\n",
      "    \"supported_types\": [\n",
      "        \"None\"\n",
      "    ]\n",
      "}\n"
     ]
    }
   ],
   "source": [
    "objects_path = \"/objects\"\n",
    "drs_id_1 = \"8e18bfb64168994489bc9e7fda0acd4f\"\n",
    "\n",
    "drs_object_1_options_response = requests.request(\"OPTIONS\", DRS_base_url+objects_path +\"/\"+ drs_id_1)\n",
    "\n",
    "pretty_print_json(drs_object_1_options_response)\n"
   ]
  },
  {
   "cell_type": "code",
   "execution_count": null,
   "id": "53ae8af7",
   "metadata": {},
   "outputs": [],
   "source": []
  }
 ],
 "metadata": {
  "kernelspec": {
   "display_name": "Python 3 (ipykernel)",
   "language": "python",
   "name": "python3"
  },
  "language_info": {
   "codemirror_mode": {
    "name": "ipython",
    "version": 3
   },
   "file_extension": ".py",
   "mimetype": "text/x-python",
   "name": "python",
   "nbconvert_exporter": "python",
   "pygments_lexer": "ipython3",
   "version": "3.9.6"
  },
  "toc": {
   "base_numbering": 1,
   "nav_menu": {},
   "number_sections": true,
   "sideBar": true,
   "skip_h1_title": false,
   "title_cell": "Table of Contents",
   "title_sidebar": "Contents",
   "toc_cell": false,
   "toc_position": {},
   "toc_section_display": true,
   "toc_window_display": false
  }
 },
 "nbformat": 4,
 "nbformat_minor": 5
}
