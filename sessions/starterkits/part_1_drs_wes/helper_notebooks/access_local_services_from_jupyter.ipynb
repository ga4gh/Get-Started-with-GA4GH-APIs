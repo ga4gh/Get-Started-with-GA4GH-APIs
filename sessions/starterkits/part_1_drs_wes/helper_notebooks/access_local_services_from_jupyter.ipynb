{
 "cells": [
  {
   "cell_type": "code",
   "execution_count": 8,
   "id": "975cc467",
   "metadata": {},
   "outputs": [],
   "source": [
    "from fasp.loc import DRSClient\n",
    "\n",
    "drs_host ='http://localhost:5000'\n",
    "drs_id = 'HG00449.1000genomes.highcov.downsampled.cram'\n",
    "drs_id = '8e18bfb64168994489bc9e7fda0acd4f'\n",
    "cl = DRSClient(drs_host)"
   ]
  },
  {
   "cell_type": "code",
   "execution_count": 9,
   "id": "8652633b",
   "metadata": {},
   "outputs": [
    {
     "name": "stdout",
     "output_type": "stream",
     "text": [
      "{\"timestamp\":\"2022-06-21T05:28:39Z\",\"status_code\":404,\"error\":\"Not Found\",\"msg\":\"No DrsObject found by id: 8e18bfb64168994489bc9e7fda0acd4f\"}\n"
     ]
    },
    {
     "data": {
      "text/plain": [
       "404"
      ]
     },
     "execution_count": 9,
     "metadata": {},
     "output_type": "execute_result"
    }
   ],
   "source": [
    "cl.getObject(drs_id)"
   ]
  },
  {
   "cell_type": "code",
   "execution_count": null,
   "id": "24fe888b",
   "metadata": {},
   "outputs": [],
   "source": [
    "cl.getAccessURL()"
   ]
  },
  {
   "cell_type": "code",
   "execution_count": null,
   "id": "3ba40e31",
   "metadata": {},
   "outputs": [],
   "source": [
    "from fasp.workflow import WESClient\n",
    "wes_client = WESClient('http://localhost:6000/ga4gh/wes/v1/', debug=True)"
   ]
  },
  {
   "cell_type": "code",
   "execution_count": null,
   "id": "3fe10ae1",
   "metadata": {},
   "outputs": [],
   "source": [
    "wes_client.getInfo()"
   ]
  },
  {
   "cell_type": "code",
   "execution_count": 16,
   "id": "7a4ef046",
   "metadata": {},
   "outputs": [
    {
     "name": "stdout",
     "output_type": "stream",
     "text": [
      "{\"timestamp\":\"2022-06-21T05:34:45Z\",\"status_code\":401,\"error\":\"Unauthorized\",\"msg\":\"Request for controlled data is missing user passport(s)\"}\n"
     ]
    },
    {
     "data": {
      "text/plain": [
       "401"
      ]
     },
     "execution_count": 16,
     "metadata": {},
     "output_type": "execute_result"
    }
   ],
   "source": [
    "drs_id=\"28ffe6386b78fffb7cd0a7b2d0a79846\"\n",
    "        \n",
    "cl.getObject(drs_id)"
   ]
  },
  {
   "cell_type": "code",
   "execution_count": null,
   "id": "3cf57ce5",
   "metadata": {},
   "outputs": [],
   "source": []
  }
 ],
 "metadata": {
  "kernelspec": {
   "display_name": "Python 3 (ipykernel)",
   "language": "python",
   "name": "python3"
  },
  "language_info": {
   "codemirror_mode": {
    "name": "ipython",
    "version": 3
   },
   "file_extension": ".py",
   "mimetype": "text/x-python",
   "name": "python",
   "nbconvert_exporter": "python",
   "pygments_lexer": "ipython3",
   "version": "3.9.6"
  }
 },
 "nbformat": 4,
 "nbformat_minor": 5
}
