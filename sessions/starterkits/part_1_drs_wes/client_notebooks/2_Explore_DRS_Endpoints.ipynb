{
 "cells": [
  {
   "cell_type": "markdown",
   "id": "706d3d6d",
   "metadata": {},
   "source": [
    "# Data Repository Service Endpoints\n",
    "**Find the detailed GA4GH DRS Specification [here](https://github.com/ga4gh/data-repository-service-schemas).**"
   ]
  },
  {
   "cell_type": "code",
   "execution_count": null,
   "id": "6fe34410",
   "metadata": {},
   "outputs": [],
   "source": [
    "import requests\n",
    "import json\n",
    "\n",
    "drs_port = \"5000\"\n",
    "ga4gh_base_url = \"http://localhost:{}/ga4gh/{}/v1\"\n",
    "drs_base_url = ga4gh_base_url.format(drs_port,\"drs\")\n",
    "\n",
    "service_info_path = \"/service-info\"\n",
    "object_path = \"/objects\"\n",
    "\n",
    "def pretty_print_json(response):\n",
    "    print(json.dumps(response.json(), indent=4))\n",
    "    \n",
    "    "
   ]
  },
  {
   "cell_type": "markdown",
   "id": "2d04e4f4",
   "metadata": {},
   "source": [
    "## 🔷 GET `/service-info`\n",
    "**Retrieve information about this service**"
   ]
  },
  {
   "cell_type": "code",
   "execution_count": null,
   "id": "d42e60cf",
   "metadata": {},
   "outputs": [],
   "source": [
    "request_url = drs_base_url+service_info_path\n",
    "drs_service_info_resp = requests.request(\"GET\", request_url)\n",
    "print(\"Sending {} request to {}\".format(http_method, request_url))\n",
    "pretty_print_json(drs_service_info_resp)"
   ]
  },
  {
   "cell_type": "markdown",
   "id": "d1e700ff",
   "metadata": {},
   "source": [
    "## 🔷 GET `/objects/{object_id}`\n",
    "**Returns object metadata, and a list of access methods that can be used to fetch object bytes**"
   ]
  },
  {
   "cell_type": "code",
   "execution_count": null,
   "id": "a5630010",
   "metadata": {},
   "outputs": [],
   "source": [
    "sample_drs_id = \"8e18bfb64168994489bc9e7fda0acd4f\"\n",
    "request_url = drs_base_url+object_path +\"/\"+ sample_drs_id\n",
    "http_method = \"GET\"\n",
    "print(\"Sending {} request to {}\".format(http_method, request_url))\n",
    "\n",
    "drs_object_response = requests.request(http_method, request_url)\n",
    "\n",
    "pretty_print_json(drs_object_response)"
   ]
  },
  {
   "cell_type": "markdown",
   "id": "45e7fbdb",
   "metadata": {},
   "source": [
    "## 🔷 Bulk request multiple DRS objects"
   ]
  },
  {
   "cell_type": "code",
   "execution_count": null,
   "id": "63f76572",
   "metadata": {},
   "outputs": [],
   "source": [
    "http_method = \"POST\"\n",
    "sample_drs_id_1 = \"8e18bfb64168994489bc9e7fda0acd4f\"\n",
    "sample_drs_id_2 = \"ba094cae0da59f27ea82a8a802be34cd\"\n",
    "request_body = json.dumps(\n",
    "    {\n",
    "        \"selection\": [\n",
    "            sample_drs_id_1,\n",
    "            sample_drs_id_2\n",
    "        ]\n",
    "    }\n",
    ")\n",
    "request_header = {'Content-Type': 'application/json'}\n",
    "\n",
    "\n",
    "request_url = drs_base_url+object_path\n",
    "\n",
    "print(\"Sending {} request to {}\".format(http_method, request_url))\n",
    "\n",
    "drs_object_bulk_response = requests.request(\n",
    "    method = http_method, \n",
    "    url = request_url, \n",
    "    headers = request_header, \n",
    "    data = request_body)\n",
    "\n",
    "pretty_print_json(drs_object_bulk_response)"
   ]
  },
  {
   "cell_type": "markdown",
   "id": "c62f8917",
   "metadata": {},
   "source": [
    "## 🔷 OPTIONS object by id"
   ]
  },
  {
   "cell_type": "code",
   "execution_count": null,
   "id": "f1fb2ac8",
   "metadata": {},
   "outputs": [],
   "source": [
    "sample_drs_id = \"8e18bfb64168994489bc9e7fda0acd4f\"\n",
    "\n",
    "drs_object_options_response = requests.request(\"OPTIONS\", drs_base_url+object_path +\"/\"+ sample_drs_id)\n",
    "\n",
    "pretty_print_json(drs_object_options_response)"
   ]
  },
  {
   "cell_type": "code",
   "execution_count": null,
   "id": "d4adee24",
   "metadata": {},
   "outputs": [],
   "source": [
    "access/{}"
   ]
  }
 ],
 "metadata": {
  "kernelspec": {
   "display_name": "Python 3 (ipykernel)",
   "language": "python",
   "name": "python3"
  },
  "language_info": {
   "codemirror_mode": {
    "name": "ipython",
    "version": 3
   },
   "file_extension": ".py",
   "mimetype": "text/x-python",
   "name": "python",
   "nbconvert_exporter": "python",
   "pygments_lexer": "ipython3",
   "version": "3.10.6"
  }
 },
 "nbformat": 4,
 "nbformat_minor": 5
}
