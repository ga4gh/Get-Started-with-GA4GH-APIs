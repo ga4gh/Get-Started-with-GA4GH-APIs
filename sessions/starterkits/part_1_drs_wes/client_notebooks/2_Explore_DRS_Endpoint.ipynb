{
 "cells": [
  {
   "cell_type": "markdown",
   "id": "706d3d6d",
   "metadata": {},
   "source": [
    "# Data Repository Service Endpoints\n",
    "Find the detailed GA4GH DRS Specification [here](https://github.com/ga4gh/data-repository-service-schemas)."
   ]
  },
  {
   "cell_type": "code",
   "execution_count": 1,
   "id": "6fe34410",
   "metadata": {},
   "outputs": [],
   "source": [
    "import requests\n",
    "import json\n",
    "\n",
    "drs_port = \"5000\"\n",
    "ga4gh_base_url = \"http://localhost:{}/ga4gh/{}/v1\"\n",
    "drs_base_url = ga4gh_base_url.format(drs_port,\"drs\")\n",
    "\n",
    "service_info_path = \"/service-info\"\n",
    "object_path = \"/objects\"\n",
    "\n",
    "def pretty_print_json(response):\n",
    "    print(json.dumps(response.json(), indent=4))"
   ]
  },
  {
   "cell_type": "markdown",
   "id": "2d04e4f4",
   "metadata": {},
   "source": [
    "## 1. GET `/service-info`\n",
    "**Retrieve information about this service**"
   ]
  },
  {
   "cell_type": "code",
   "execution_count": 2,
   "id": "d42e60cf",
   "metadata": {},
   "outputs": [
    {
     "name": "stdout",
     "output_type": "stream",
     "text": [
      "{\n",
      "    \"id\": \"drs.starterkit.federatedgenomics.org\",\n",
      "    \"name\": \"Federated Genomics DRS service\",\n",
      "    \"description\": \"Data Repository Service (DRS) instance serving public genomics datasets. Deployment of the GA4GH Starter Kit.\",\n",
      "    \"contactUrl\": \"mailto:nobody@federatedgenomics.org\",\n",
      "    \"documentationUrl\": \"https://apidocs.federatedgenomics.org/drs\",\n",
      "    \"createdAt\": \"2022-07-10T09:00:00Z\",\n",
      "    \"updatedAt\": \"2022-07-10T09:00:00Z\",\n",
      "    \"environment\": \"development\",\n",
      "    \"version\": \"1.0.0\",\n",
      "    \"type\": {\n",
      "        \"group\": \"org.ga4gh\",\n",
      "        \"artifact\": \"drs\",\n",
      "        \"version\": \"1.1.0\"\n",
      "    },\n",
      "    \"organization\": {\n",
      "        \"name\": \"Federated Genomics\",\n",
      "        \"url\": \"https://this-is-not-a-site.federatedgenomics.org\"\n",
      "    }\n",
      "}\n"
     ]
    }
   ],
   "source": [
    "drs_service_info_resp = requests.request(\"GET\", drs_base_url+service_info_path)\n",
    "pretty_print_json(drs_service_info_resp)"
   ]
  },
  {
   "cell_type": "markdown",
   "id": "d1e700ff",
   "metadata": {},
   "source": [
    "## 2. GET `/objects/{object_id}`\n",
    "**Returns object metadata, and a list of access methods that can be used to fetch object bytes**"
   ]
  },
  {
   "cell_type": "code",
   "execution_count": 3,
   "id": "a5630010",
   "metadata": {},
   "outputs": [
    {
     "name": "stdout",
     "output_type": "stream",
     "text": [
      "Sending GET request to http://localhost:5000/ga4gh/drs/v1/objects/8e18bfb64168994489bc9e7fda0acd4f\n",
      "{\n",
      "    \"id\": \"8e18bfb64168994489bc9e7fda0acd4f\",\n",
      "    \"description\": \"High coverage, downsampled CRAM file for sample HG00449\",\n",
      "    \"created_time\": \"2023-06-21T21:41:38Z\",\n",
      "    \"mime_type\": \"application/cram\",\n",
      "    \"name\": \"HG00449 1000 Genomes Downsampled High Coverage CRAM file\",\n",
      "    \"size\": 18977144,\n",
      "    \"updated_time\": \"2023-06-21T21:41:38Z\",\n",
      "    \"version\": \"1.0.0\",\n",
      "    \"aliases\": [\n",
      "        \"HG00449 high coverage downsampled CRAM\"\n",
      "    ],\n",
      "    \"checksums\": [\n",
      "        {\n",
      "            \"checksum\": \"232a8379bf238fe0c2b646c03a4b8bd2d83917f3\",\n",
      "            \"type\": \"sha1\"\n",
      "        },\n",
      "        {\n",
      "            \"checksum\": \"44ee4289015c892c442b504ed681532f032de5c09e846be021624815859f82e8\",\n",
      "            \"type\": \"sha256\"\n",
      "        },\n",
      "        {\n",
      "            \"checksum\": \"8e18bfb64168994489bc9e7fda0acd4f\",\n",
      "            \"type\": \"md5\"\n",
      "        }\n",
      "    ],\n",
      "    \"self_uri\": \"drs://localhost:5000/8e18bfb64168994489bc9e7fda0acd4f\",\n",
      "    \"access_methods\": [\n",
      "        {\n",
      "            \"access_url\": {\n",
      "                \"url\": \"s3://ga4gh-ismb-tutorial-2022/data/1000genomes/cram/highcov/HG00449.final.2400kb.cram\"\n",
      "            },\n",
      "            \"type\": \"s3\",\n",
      "            \"region\": \"us-east-2\"\n",
      "        }\n",
      "    ]\n",
      "}\n"
     ]
    }
   ],
   "source": [
    "sample_drs_id = \"8e18bfb64168994489bc9e7fda0acd4f\"\n",
    "request_url = drs_base_url+object_path +\"/\"+ sample_drs_id\n",
    "http_method = \"GET\"\n",
    "print(\"Sending {} request to {}\".format(http_method, request_url))\n",
    "\n",
    "drs_object_response = requests.request(http_method, request_url)\n",
    "\n",
    "pretty_print_json(drs_object_response)"
   ]
  },
  {
   "cell_type": "markdown",
   "id": "45e7fbdb",
   "metadata": {},
   "source": [
    "## 3. Bulk request multiple DRS objects"
   ]
  },
  {
   "cell_type": "code",
   "execution_count": 5,
   "id": "63f76572",
   "metadata": {},
   "outputs": [
    {
     "name": "stdout",
     "output_type": "stream",
     "text": [
      "Sending POST request to http://localhost:5000/ga4gh/drs/v1/objects\n",
      "{\n",
      "    \"summary\": {\n",
      "        \"requested\": 2,\n",
      "        \"resolved\": 2,\n",
      "        \"unresolved\": 0\n",
      "    },\n",
      "    \"resolved_drs_object\": [\n",
      "        {\n",
      "            \"id\": \"8e18bfb64168994489bc9e7fda0acd4f\",\n",
      "            \"description\": \"High coverage, downsampled CRAM file for sample HG00449\",\n",
      "            \"created_time\": \"2023-06-21T21:41:38Z\",\n",
      "            \"mime_type\": \"application/cram\",\n",
      "            \"name\": \"HG00449 1000 Genomes Downsampled High Coverage CRAM file\",\n",
      "            \"size\": 18977144,\n",
      "            \"updated_time\": \"2023-06-21T21:41:38Z\",\n",
      "            \"version\": \"1.0.0\",\n",
      "            \"aliases\": [\n",
      "                \"HG00449 high coverage downsampled CRAM\"\n",
      "            ],\n",
      "            \"checksums\": [\n",
      "                {\n",
      "                    \"checksum\": \"232a8379bf238fe0c2b646c03a4b8bd2d83917f3\",\n",
      "                    \"type\": \"sha1\"\n",
      "                },\n",
      "                {\n",
      "                    \"checksum\": \"44ee4289015c892c442b504ed681532f032de5c09e846be021624815859f82e8\",\n",
      "                    \"type\": \"sha256\"\n",
      "                },\n",
      "                {\n",
      "                    \"checksum\": \"8e18bfb64168994489bc9e7fda0acd4f\",\n",
      "                    \"type\": \"md5\"\n",
      "                }\n",
      "            ],\n",
      "            \"self_uri\": \"drs://localhost:5000/8e18bfb64168994489bc9e7fda0acd4f\",\n",
      "            \"access_methods\": [\n",
      "                {\n",
      "                    \"access_url\": {\n",
      "                        \"url\": \"s3://ga4gh-ismb-tutorial-2022/data/1000genomes/cram/highcov/HG00449.final.2400kb.cram\"\n",
      "                    },\n",
      "                    \"type\": \"s3\",\n",
      "                    \"region\": \"us-east-2\"\n",
      "                }\n",
      "            ]\n",
      "        },\n",
      "        {\n",
      "            \"id\": \"ba094cae0da59f27ea82a8a802be34cd\",\n",
      "            \"description\": \"High coverage, downsampled CRAI file for sample HG00449\",\n",
      "            \"created_time\": \"2023-06-21T21:41:38Z\",\n",
      "            \"mime_type\": \"application/crai\",\n",
      "            \"name\": \"HG00449 1000 Genomes Downsampled High Coverage CRAI file\",\n",
      "            \"size\": 1475,\n",
      "            \"updated_time\": \"2023-06-21T21:41:38Z\",\n",
      "            \"version\": \"1.0.0\",\n",
      "            \"aliases\": [\n",
      "                \"HG00449 high coverage downsampled CRAI\"\n",
      "            ],\n",
      "            \"checksums\": [\n",
      "                {\n",
      "                    \"checksum\": \"4f276a341ae941b512df7635b74faec257522528\",\n",
      "                    \"type\": \"sha1\"\n",
      "                },\n",
      "                {\n",
      "                    \"checksum\": \"79e64d3b32e7c8db7af6c9e2f2f724f8aa63d192e0669ec9e96189a65bf5422b\",\n",
      "                    \"type\": \"sha256\"\n",
      "                },\n",
      "                {\n",
      "                    \"checksum\": \"ba094cae0da59f27ea82a8a802be34cd\",\n",
      "                    \"type\": \"md5\"\n",
      "                }\n",
      "            ],\n",
      "            \"self_uri\": \"drs://localhost:5000/ba094cae0da59f27ea82a8a802be34cd\",\n",
      "            \"access_methods\": [\n",
      "                {\n",
      "                    \"access_url\": {\n",
      "                        \"url\": \"s3://ga4gh-ismb-tutorial-2022/data/1000genomes/cram/highcov/HG00449.final.2400kb.cram.crai\"\n",
      "                    },\n",
      "                    \"type\": \"s3\",\n",
      "                    \"region\": \"us-east-2\"\n",
      "                }\n",
      "            ]\n",
      "        }\n",
      "    ],\n",
      "    \"unresolved_drs_object\": {}\n",
      "}\n"
     ]
    }
   ],
   "source": [
    "http_method = \"POST\"\n",
    "sample_drs_id_1 = \"8e18bfb64168994489bc9e7fda0acd4f\"\n",
    "sample_drs_id_2 = \"ba094cae0da59f27ea82a8a802be34cd\"\n",
    "request_body = json.dumps({\n",
    "    \"selection\": [\n",
    "        sample_drs_id_1,\n",
    "        sample_drs_id_2\n",
    "    ]\n",
    "})\n",
    "request_header = {\n",
    "  'Content-Type': 'application/json'}\n",
    "\n",
    "\n",
    "request_url = drs_base_url+object_path\n",
    "\n",
    "print(\"Sending {} request to {}\".format(http_method, request_url))\n",
    "\n",
    "drs_object_bulk_response = requests.request(\n",
    "    method = http_method, \n",
    "    url = request_url, \n",
    "    headers = request_header, \n",
    "    data = request_body)\n",
    "\n",
    "pretty_print_json(drs_object_bulk_response)"
   ]
  },
  {
   "cell_type": "markdown",
   "id": "c62f8917",
   "metadata": {},
   "source": [
    "## 4. OPTIONS object by id"
   ]
  },
  {
   "cell_type": "code",
   "execution_count": 7,
   "id": "f1fb2ac8",
   "metadata": {},
   "outputs": [
    {
     "name": "stdout",
     "output_type": "stream",
     "text": [
      "{\n",
      "    \"supported_types\": [\n",
      "        \"None\"\n",
      "    ]\n",
      "}\n"
     ]
    }
   ],
   "source": [
    "sample_drs_id = \"8e18bfb64168994489bc9e7fda0acd4f\"\n",
    "\n",
    "drs_object_options_response = requests.request(\"OPTIONS\", drs_base_url+object_path +\"/\"+ sample_drs_id)\n",
    "\n",
    "pretty_print_json(drs_object_options_response)"
   ]
  },
  {
   "cell_type": "code",
   "execution_count": null,
   "id": "d4adee24",
   "metadata": {},
   "outputs": [],
   "source": [
    "access/{}"
   ]
  }
 ],
 "metadata": {
  "kernelspec": {
   "display_name": "Python 3 (ipykernel)",
   "language": "python",
   "name": "python3"
  },
  "language_info": {
   "codemirror_mode": {
    "name": "ipython",
    "version": 3
   },
   "file_extension": ".py",
   "mimetype": "text/x-python",
   "name": "python",
   "nbconvert_exporter": "python",
   "pygments_lexer": "ipython3",
   "version": "3.10.6"
  }
 },
 "nbformat": 4,
 "nbformat_minor": 5
}
