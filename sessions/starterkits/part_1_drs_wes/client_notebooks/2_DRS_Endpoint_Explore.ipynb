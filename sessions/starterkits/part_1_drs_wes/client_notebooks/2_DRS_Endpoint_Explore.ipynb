{
 "cells": [
  {
   "cell_type": "markdown",
   "id": "706d3d6d",
   "metadata": {},
   "source": [
    "# Data Repository Service Endpoints\n",
    "Find the detailed GA4GH DRS Specification [here](https://github.com/ga4gh/data-repository-service-schemas)."
   ]
  },
  {
   "cell_type": "code",
   "execution_count": 1,
   "id": "6fe34410",
   "metadata": {},
   "outputs": [],
   "source": [
    "import requests\n",
    "import json\n",
    "\n",
    "drs_port = \"5000\"\n",
    "ga4gh_base_url = \"http://localhost:{}/ga4gh/{}/v1\"\n",
    "drs_base_url = ga4gh_base_url.format(drs_port,\"drs\")\n",
    "\n",
    "service_info_path = \"/service-info\"\n",
    "object_path = \"/objects\"\n",
    "\n",
    "def pretty_print_json(response):\n",
    "    print(json.dumps(response.json(), indent=4))"
   ]
  },
  {
   "cell_type": "markdown",
   "id": "2d04e4f4",
   "metadata": {},
   "source": [
    "## 1. GET `/service-info`"
   ]
  },
  {
   "cell_type": "code",
   "execution_count": 3,
   "id": "d42e60cf",
   "metadata": {},
   "outputs": [
    {
     "name": "stdout",
     "output_type": "stream",
     "text": [
      "{\n",
      "    \"id\": \"drs.starterkit.federatedgenomics.org\",\n",
      "    \"name\": \"Federated Genomics DRS service\",\n",
      "    \"description\": \"Data Repository Service (DRS) instance serving public genomics datasets. Deployment of the GA4GH Starter Kit.\",\n",
      "    \"contactUrl\": \"mailto:nobody@federatedgenomics.org\",\n",
      "    \"documentationUrl\": \"https://apidocs.federatedgenomics.org/drs\",\n",
      "    \"createdAt\": \"2022-07-10T09:00:00Z\",\n",
      "    \"updatedAt\": \"2022-07-10T09:00:00Z\",\n",
      "    \"environment\": \"development\",\n",
      "    \"version\": \"1.0.0\",\n",
      "    \"type\": {\n",
      "        \"group\": \"org.ga4gh\",\n",
      "        \"artifact\": \"drs\",\n",
      "        \"version\": \"1.1.0\"\n",
      "    },\n",
      "    \"organization\": {\n",
      "        \"name\": \"Federated Genomics\",\n",
      "        \"url\": \"https://this-is-not-a-site.federatedgenomics.org\"\n",
      "    }\n",
      "}\n"
     ]
    }
   ],
   "source": [
    "drs_service_info_resp = requests.request(\"GET\", drs_base_url+service_info_path)\n",
    "pretty_print_json(drs_service_info_resp)"
   ]
  },
  {
   "cell_type": "markdown",
   "id": "d1e700ff",
   "metadata": {},
   "source": [
    "## 2. GET `/objects/{object_id}`"
   ]
  },
  {
   "cell_type": "code",
   "execution_count": 7,
   "id": "a5630010",
   "metadata": {},
   "outputs": [
    {
     "name": "stdout",
     "output_type": "stream",
     "text": [
      "Sending GET request to http://localhost:5000/ga4gh/drs/v1/objects/8e18bfb64168994489bc9e7fda0acd4f\n",
      "{\n",
      "    \"timestamp\": \"2023-06-20T20:03:00.219+00:00\",\n",
      "    \"status\": 500,\n",
      "    \"error\": \"Internal Server Error\",\n",
      "    \"path\": \"/ga4gh/drs/v1/objects/8e18bfb64168994489bc9e7fda0acd4f\"\n",
      "}\n"
     ]
    }
   ],
   "source": [
    "sample_drs_id = \"8e18bfb64168994489bc9e7fda0acd4f\"\n",
    "request_url = drs_base_url+object_path +\"/\"+ sample_drs_id\n",
    "http_method = \"GET\"\n",
    "print(\"Sending {} request to {}\".format(http_method, request_url))\n",
    "\n",
    "drs_object_response = requests.request(http_method, request_url)\n",
    "\n",
    "pretty_print_json(drs_object_response)"
   ]
  },
  {
   "cell_type": "markdown",
   "id": "45e7fbdb",
   "metadata": {},
   "source": [
    "## 3. Bulk request multiple DRS objects"
   ]
  },
  {
   "cell_type": "code",
   "execution_count": null,
   "id": "63f76572",
   "metadata": {},
   "outputs": [],
   "source": []
  },
  {
   "cell_type": "code",
   "execution_count": null,
   "id": "7a9f20fa",
   "metadata": {},
   "outputs": [],
   "source": []
  }
 ],
 "metadata": {
  "kernelspec": {
   "display_name": "Python 3 (ipykernel)",
   "language": "python",
   "name": "python3"
  },
  "language_info": {
   "codemirror_mode": {
    "name": "ipython",
    "version": 3
   },
   "file_extension": ".py",
   "mimetype": "text/x-python",
   "name": "python",
   "nbconvert_exporter": "python",
   "pygments_lexer": "ipython3",
   "version": "3.10.6"
  }
 },
 "nbformat": 4,
 "nbformat_minor": 5
}
