{
 "cells": [
  {
   "cell_type": "markdown",
   "id": "f969c158",
   "metadata": {},
   "source": [
    "# Workflow Execution Service Endpoints\n",
    "Find the detailed GA4GH WES Specification [here](https://github.com/ga4gh/workflow-execution-service-schemas)."
   ]
  },
  {
   "cell_type": "code",
   "execution_count": 20,
   "id": "c3908e75",
   "metadata": {},
   "outputs": [],
   "source": [
    "import requests\n",
    "import json\n",
    "\n",
    "wes_port = \"6000\"\n",
    "ga4gh_base_url = \"http://localhost:{}/ga4gh/{}/v1\"\n",
    "wes_base_url = ga4gh_base_url.format(wes_port,\"wes\")\n",
    "\n",
    "service_info_path = \"/service-info\"\n",
    "runs_path = \"/runs\"\n",
    "\n",
    "def pretty_print_json(response):\n",
    "    print(json.dumps(response.json(), indent=4))"
   ]
  },
  {
   "cell_type": "markdown",
   "id": "338ea103",
   "metadata": {},
   "source": [
    "## 🔷 Get `/service-info`\n",
    "**Retrieve information about this service**"
   ]
  },
  {
   "cell_type": "code",
   "execution_count": 21,
   "id": "b193c324",
   "metadata": {},
   "outputs": [
    {
     "name": "stdout",
     "output_type": "stream",
     "text": [
      "{\n",
      "    \"id\": \"wes.starterkit.federatedgenomics.org\",\n",
      "    \"name\": \"Federated Genomics WES service\",\n",
      "    \"description\": \"Workflow Execution Service (WES) instance. Enables small-scale test workflows to be run over the web. Deployment of the GA4GH Starter Kit.\",\n",
      "    \"contactUrl\": \"mailto:nobody@federatedgenomics.org\",\n",
      "    \"documentationUrl\": \"https://apidocs.federatedgenomics.org/wes\",\n",
      "    \"createdAt\": \"2022-07-10T09:00:00Z\",\n",
      "    \"updatedAt\": \"2022-07-10T09:00:00Z\",\n",
      "    \"environment\": \"development\",\n",
      "    \"version\": \"1.0.0\",\n",
      "    \"type\": {\n",
      "        \"group\": \"org.ga4gh\",\n",
      "        \"artifact\": \"wes\",\n",
      "        \"version\": \"1.0.1\"\n",
      "    },\n",
      "    \"organization\": {\n",
      "        \"name\": \"Federated Genomics\",\n",
      "        \"url\": \"https://this-is-not-a-site.federatedgenomics.org\"\n",
      "    },\n",
      "    \"workflow_type_versions\": {\n",
      "        \"WDL\": [\n",
      "            \"1.0\"\n",
      "        ],\n",
      "        \"NEXTFLOW\": [\n",
      "            \"21.04.0\"\n",
      "        ]\n",
      "    },\n",
      "    \"workflow_engine_versions\": {\n",
      "        \"NATIVE\": \"1.0.0\"\n",
      "    }\n",
      "}\n"
     ]
    }
   ],
   "source": [
    "http_method = \"GET\"\n",
    "request_url = wes_base_url+service_info_path\n",
    "wes_service_info_resp = requests.request(http_method, request_url)\n",
    "pretty_print_json(wes_service_info_resp)"
   ]
  },
  {
   "cell_type": "markdown",
   "id": "62230127",
   "metadata": {},
   "source": [
    "## 🔷 List `/runs`\n",
    "**Retrieves the list of runs**"
   ]
  },
  {
   "cell_type": "code",
   "execution_count": 22,
   "id": "a95e0114",
   "metadata": {},
   "outputs": [
    {
     "name": "stdout",
     "output_type": "stream",
     "text": [
      "{\n",
      "    \"runs\": []\n",
      "}\n"
     ]
    }
   ],
   "source": [
    "http_method = \"GET\"\n",
    "request_url = wes_base_url+runs_path\n",
    "wes_list_runs_resp = requests.request(http_method, request_url)\n",
    "pretty_print_json(wes_list_runs_resp)"
   ]
  },
  {
   "cell_type": "markdown",
   "id": "ad3532ad",
   "metadata": {},
   "source": [
    "## 🔷 Post a Nextflow workflow\n",
    "**Run samtools head on drs_object with DRS URI `drs://localhost:5000/8e18bfb64168994489bc9e7fda0acd4f`**"
   ]
  },
  {
   "cell_type": "code",
   "execution_count": 23,
   "id": "3c9ef091",
   "metadata": {},
   "outputs": [
    {
     "name": "stdout",
     "output_type": "stream",
     "text": [
      "Sending POST request to http://localhost:6000/ga4gh/wes/v1/runs\n",
      "{\n",
      "    \"timestamp\": \"2023-06-22T20:42:20.889+00:00\",\n",
      "    \"status\": 500,\n",
      "    \"error\": \"Internal Server Error\",\n",
      "    \"path\": \"/ga4gh/wes/v1/runs\"\n",
      "}\n"
     ]
    }
   ],
   "source": [
    "http_method = \"POST\"\n",
    "request_url = wes_base_url+runs_path\n",
    "request_body = {\n",
    "    \"workflow_type\":\"NEXTFLOW\",\n",
    "    \"workflow_type_version\":\"21.04.0\",\n",
    "    \"workflow_url\":\"https://github.com/yash-puligundla/samtools-head-nf\",\n",
    "    \"workflow_params\":{\n",
    "        \"input\":\"https://ga4gh-ismb-tutorial-2022.s3.us-east-2.amazonaws.com/data/1000genomes/cram/lowcov/HG00118.lowcoverage.downsampled.cram\"\n",
    "    }\n",
    "}\n",
    "\n",
    "\n",
    "# payload={'workflow_type': 'NEXTFLOW',\n",
    "# 'workflow_type_version': '21.04.0',\n",
    "# 'workflow_url': 'https://github.com/yash-puligundla/samtools-head-nf',\n",
    "# 'workflow_params': '{\"input\":\"https://ga4gh-ismb-tutorial-2022.s3.us-east-2.amazonaws.com/data/1000genomes/cram/lowcov/HG00118.lowcoverage.downsampled.cram\"}'}\n",
    "\n",
    "\n",
    "request_header = {'Content-Type': 'multipart/form-data'}\n",
    "\n",
    "print(\"Sending {} request to {}\".format(http_method, request_url))\n",
    "\n",
    "wes_post_nf_resp = requests.request(\n",
    "    method = http_method, \n",
    "    url = request_url, \n",
    "    headers = request_header, \n",
    "    data = request_body)\n",
    "\n",
    "pretty_print_json(wes_post_nf_resp)\n"
   ]
  },
  {
   "cell_type": "code",
   "execution_count": 18,
   "id": "10c56d29",
   "metadata": {},
   "outputs": [
    {
     "name": "stdout",
     "output_type": "stream",
     "text": [
      "{\"timestamp\":\"2023-06-22T19:48:39.998+00:00\",\"status\":500,\"error\":\"Internal Server Error\",\"path\":\"/ga4gh/wes/v1/runs\"}\n"
     ]
    }
   ],
   "source": [
    "import requests\n",
    "\n",
    "url = \"http://localhost:6000/ga4gh/wes/v1/runs\"\n",
    "\n",
    "payload={'workflow_type': 'NEXTFLOW',\n",
    "'workflow_type_version': '21.04.0',\n",
    "'workflow_url': 'https://github.com/yash-puligundla/samtools-head-nf',\n",
    "'workflow_params': '{\"input\":\"drs://localhost:5000/77b0f3d65271c4a0064ff7760828dd92\"}'}\n",
    "files=[\n",
    "\n",
    "]\n",
    "headers = {\n",
    "  'Content-Type': 'multipart/form-data'\n",
    "}\n",
    "\n",
    "response = requests.request(\"POST\", url, headers=headers, data=payload, files=files)\n",
    "\n",
    "print(response.text)\n"
   ]
  },
  {
   "cell_type": "code",
   "execution_count": null,
   "id": "78f947db",
   "metadata": {},
   "outputs": [],
   "source": []
  }
 ],
 "metadata": {
  "kernelspec": {
   "display_name": "Python 3 (ipykernel)",
   "language": "python",
   "name": "python3"
  },
  "language_info": {
   "codemirror_mode": {
    "name": "ipython",
    "version": 3
   },
   "file_extension": ".py",
   "mimetype": "text/x-python",
   "name": "python",
   "nbconvert_exporter": "python",
   "pygments_lexer": "ipython3",
   "version": "3.10.6"
  }
 },
 "nbformat": 4,
 "nbformat_minor": 5
}
