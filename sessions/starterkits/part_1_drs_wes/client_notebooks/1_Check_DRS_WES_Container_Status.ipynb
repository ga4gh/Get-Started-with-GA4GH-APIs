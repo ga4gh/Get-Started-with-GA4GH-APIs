{
 "cells": [
  {
   "cell_type": "markdown",
   "id": "a89ebddd",
   "metadata": {},
   "source": [
    "# Check if DRS and WES containers are up and running"
   ]
  },
  {
   "cell_type": "code",
   "execution_count": 10,
   "id": "dd38bded",
   "metadata": {},
   "outputs": [],
   "source": [
    "import requests\n",
    "import json\n",
    "\n",
    "drs_port = \"5000\"\n",
    "wes_port = \"6000\"\n",
    "ga4gh_base_url = \"http://localhost:{}/ga4gh/{}/v1\"\n",
    "drs_base_url = ga4gh_base_url.format(drs_port,\"drs\")\n",
    "wes_base_url = ga4gh_base_url.format(wes_port,\"wes\")\n",
    "\n",
    "service_info_path = \"/service-info\"\n",
    "\n",
    "def pretty_print_json(response):\n",
    "    print(json.dumps(response.json(), indent=4))"
   ]
  },
  {
   "cell_type": "markdown",
   "id": "81420796",
   "metadata": {},
   "source": [
    "## Data Repository Service - GET `/service-info`"
   ]
  },
  {
   "cell_type": "code",
   "execution_count": 11,
   "id": "3f5716e9",
   "metadata": {},
   "outputs": [
    {
     "name": "stdout",
     "output_type": "stream",
     "text": [
      "{\n",
      "    \"id\": \"drs.starterkit.federatedgenomics.org\",\n",
      "    \"name\": \"Federated Genomics DRS service\",\n",
      "    \"description\": \"Data Repository Service (DRS) instance serving public genomics datasets. Deployment of the GA4GH Starter Kit.\",\n",
      "    \"contactUrl\": \"mailto:nobody@federatedgenomics.org\",\n",
      "    \"documentationUrl\": \"https://apidocs.federatedgenomics.org/drs\",\n",
      "    \"createdAt\": \"2022-07-10T09:00:00Z\",\n",
      "    \"updatedAt\": \"2022-07-10T09:00:00Z\",\n",
      "    \"environment\": \"development\",\n",
      "    \"version\": \"1.0.0\",\n",
      "    \"type\": {\n",
      "        \"group\": \"org.ga4gh\",\n",
      "        \"artifact\": \"drs\",\n",
      "        \"version\": \"1.1.0\"\n",
      "    },\n",
      "    \"organization\": {\n",
      "        \"name\": \"Federated Genomics\",\n",
      "        \"url\": \"https://this-is-not-a-site.federatedgenomics.org\"\n",
      "    }\n",
      "}\n"
     ]
    }
   ],
   "source": [
    "drs_service_info_resp = requests.request(\"GET\", drs_base_url+service_info_path)\n",
    "pretty_print_json(drs_service_info_resp)"
   ]
  },
  {
   "cell_type": "markdown",
   "id": "6616c4d1",
   "metadata": {},
   "source": [
    "## Workflow Execution Service - GET `/service-info`"
   ]
  },
  {
   "cell_type": "code",
   "execution_count": 12,
   "id": "1368c151",
   "metadata": {},
   "outputs": [
    {
     "name": "stdout",
     "output_type": "stream",
     "text": [
      "{\n",
      "    \"id\": \"wes.starterkit.federatedgenomics.org\",\n",
      "    \"name\": \"Federated Genomics WES service\",\n",
      "    \"description\": \"Workflow Execution Service (WES) instance. Enables small-scale test workflows to be run over the web. Deployment of the GA4GH Starter Kit.\",\n",
      "    \"contactUrl\": \"mailto:nobody@federatedgenomics.org\",\n",
      "    \"documentationUrl\": \"https://apidocs.federatedgenomics.org/wes\",\n",
      "    \"createdAt\": \"2022-07-10T09:00:00Z\",\n",
      "    \"updatedAt\": \"2022-07-10T09:00:00Z\",\n",
      "    \"environment\": \"development\",\n",
      "    \"version\": \"1.0.0\",\n",
      "    \"type\": {\n",
      "        \"group\": \"org.ga4gh\",\n",
      "        \"artifact\": \"wes\",\n",
      "        \"version\": \"1.0.1\"\n",
      "    },\n",
      "    \"organization\": {\n",
      "        \"name\": \"Federated Genomics\",\n",
      "        \"url\": \"https://this-is-not-a-site.federatedgenomics.org\"\n",
      "    },\n",
      "    \"workflow_type_versions\": {\n",
      "        \"WDL\": [\n",
      "            \"1.0\"\n",
      "        ],\n",
      "        \"NEXTFLOW\": [\n",
      "            \"21.04.0\"\n",
      "        ]\n",
      "    },\n",
      "    \"workflow_engine_versions\": {\n",
      "        \"NATIVE\": \"1.0.0\"\n",
      "    }\n",
      "}\n"
     ]
    }
   ],
   "source": [
    "wes_service_info_resp = requests.request(\"GET\", wes_base_url+service_info_path)\n",
    "pretty_print_json(wes_service_info_resp)"
   ]
  }
 ],
 "metadata": {
  "kernelspec": {
   "display_name": "Python 3 (ipykernel)",
   "language": "python",
   "name": "python3"
  },
  "language_info": {
   "codemirror_mode": {
    "name": "ipython",
    "version": 3
   },
   "file_extension": ".py",
   "mimetype": "text/x-python",
   "name": "python",
   "nbconvert_exporter": "python",
   "pygments_lexer": "ipython3",
   "version": "3.10.6"
  }
 },
 "nbformat": 4,
 "nbformat_minor": 5
}
