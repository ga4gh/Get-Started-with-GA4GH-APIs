{
 "cells": [
  {
   "cell_type": "markdown",
   "id": "9e31f545",
   "metadata": {},
   "source": [
    "### 7. Create visas on the passport broker\n",
    "\n",
    "#### i. Confirm the Passport Broker is working"
   ]
  },
  {
   "cell_type": "code",
   "execution_count": 10,
   "id": "6619eb18",
   "metadata": {},
   "outputs": [
    {
     "name": "stdout",
     "output_type": "stream",
     "text": [
      "{\n",
      "   \"id\": \"org.ga4gh.starterkit.passport.broker\",\n",
      "   \"name\": \"GA4GH Starter Kit Passport Broker Service\",\n",
      "   \"description\": \"Starter Kit implementation of a Passport Broker service, outlined in the GA4GH Passports specification. Manages researcher permissions to data and compute, and enables this information to be minted as JWTs and passed to downstream clearinghouses.\",\n",
      "   \"contactUrl\": \"mailto:info@ga4gh.org\",\n",
      "   \"documentationUrl\": \"https://github.com/ga4gh/ga4gh-starter-kit-passport-broker\",\n",
      "   \"createdAt\": \"2022-04-28T09:00:00Z\",\n",
      "   \"updatedAt\": \"2022-04-28T09:00:00Z\",\n",
      "   \"environment\": \"test\",\n",
      "   \"version\": \"0.0.2\",\n",
      "   \"type\": {\n",
      "      \"group\": \"org.ga4gh\",\n",
      "      \"artifact\": \"passport-broker\",\n",
      "      \"version\": \"1.0.0\"\n",
      "   },\n",
      "   \"organization\": {\n",
      "      \"name\": \"Global Alliance for Genomics and Health\",\n",
      "      \"url\": \"https://ga4gh.org\"\n",
      "   }\n",
      "}\n"
     ]
    }
   ],
   "source": [
    "import requests \n",
    "import json\n",
    "response = requests.get(\"http://localhost:4500/ga4gh/passport/v1/service-info\")\n",
    "print(json.dumps(response.json(), indent=3))"
   ]
  },
  {
   "cell_type": "markdown",
   "id": "cb519e04",
   "metadata": {},
   "source": [
    "#### ii. Create Visas"
   ]
  },
  {
   "cell_type": "code",
   "execution_count": 18,
   "id": "407dc768",
   "metadata": {},
   "outputs": [],
   "source": [
    "visa_list = [\n",
    "{\n",
    "  \"id\": \"6ecaef9e-d6bb-4d96-9aed-ca517ceed8a1\",\n",
    "  \"visaName\": \"1000GenomesIndividualsWithEastAsianAncestry\",\n",
    "  \"visaIssuer\": \"https://federatedgenomics.org/\",\n",
    "  \"visaDescription\": \"Controls access to genomic data obtained from individuals with East Asian ancestry\",\n",
    "  \"visaSecret\": \"29CD6DFBB2684BAEACED3B1C6A7F4\"\n",
    "},\n",
    "{\n",
    "  \"id\": \"3af0e101-cd51-4fe4-aa8c-29a69be48fe0\",\n",
    "  \"visaName\": \"1000GenomesIndividualsWithEuropeanAncestry\",\n",
    "  \"visaIssuer\": \"https://federatedgenomics.org/\",\n",
    "  \"visaDescription\": \"Controls access to genomic data obtained from individuals with European ancestry\",\n",
    "  \"visaSecret\": \"47B42DF32976DFDBD6EC4D9ED2593\"\n",
    "},\n",
    "{\n",
    "  \"id\": \"e38f656e-3146-4b06-92f2-6edea44f0cd1\",\n",
    "  \"visaName\": \"1000GenomesIndividualsWithAfricanAncestry\",\n",
    "  \"visaIssuer\": \"https://federatedgenomics.org/\",\n",
    "  \"visaDescription\": \"Controls access to genomic data obtained from individuals with African ancestry\",\n",
    "  \"visaSecret\": \"582A164E2C5DA377F3E3F76158CE6\"\n",
    "},\n",
    "{\n",
    "  \"id\": \"b62249d0-d71d-42d2-9a67-55003fdae8ec\",\n",
    "  \"visaName\": \"1000GenomesIndividualsWithAmericanAncestry\",\n",
    "  \"visaIssuer\": \"https://federatedgenomics.org/\",\n",
    "  \"visaDescription\": \"Controls access to genomic data obtained from individuals with American ancestry\",\n",
    "  \"visaSecret\": \"BF9CAB5D5157C5C21EBDEE6C91D91\"\n",
    "},\n",
    "{\n",
    "  \"id\": \"55cb5d06-bbf3-428b-a822-3565557518ba\",\n",
    "  \"visaName\": \"1000GenomesIndividualsWithSouthAsianAncestry\",\n",
    "  \"visaIssuer\": \"https://federatedgenomics.org/\",\n",
    "  \"visaDescription\": \"Controls access to genomic data obtained from individuals with South Asian ancestry\",\n",
    "  \"visaSecret\": \"9474C832599DC95F949DB3CAE443E\"\n",
    "}\n",
    "]"
   ]
  },
  {
   "cell_type": "code",
   "execution_count": 14,
   "id": "84c4c6df",
   "metadata": {},
   "outputs": [],
   "source": [
    "passport_broker_visa_url = \"http://localhost:4501/admin/ga4gh/passport/v1/visas\""
   ]
  },
  {
   "cell_type": "code",
   "execution_count": 4,
   "id": "9f97b533",
   "metadata": {},
   "outputs": [
    {
     "name": "stdout",
     "output_type": "stream",
     "text": [
      "6ecaef9e-d6bb-4d96-9aed-ca517ceed8a1\n",
      "{\"id\":\"6ecaef9e-d6bb-4d96-9aed-ca517ceed8a1\",\"visaName\":\"1000GenomesIndividualsWithEastAsianAncestry\",\"visaIssuer\":\"https://federatedgenomics.org/\",\"visaDescription\":\"Controls access to genomic data obtained from individuals with East Asian ancestry\",\"visaSecret\":\"29CD6DFBB2684BAEACED3B1C6A7F4\"}\n",
      "3af0e101-cd51-4fe4-aa8c-29a69be48fe0\n",
      "{\"id\":\"3af0e101-cd51-4fe4-aa8c-29a69be48fe0\",\"visaName\":\"1000GenomesIndividualsWithEuropeanAncestry\",\"visaIssuer\":\"https://federatedgenomics.org/\",\"visaDescription\":\"Controls access to genomic data obtained from individuals with European ancestry\",\"visaSecret\":\"47B42DF32976DFDBD6EC4D9ED2593\"}\n",
      "e38f656e-3146-4b06-92f2-6edea44f0cd1\n",
      "{\"id\":\"e38f656e-3146-4b06-92f2-6edea44f0cd1\",\"visaName\":\"1000GenomesIndividualsWithAfricanAncestry\",\"visaIssuer\":\"https://federatedgenomics.org/\",\"visaDescription\":\"Controls access to genomic data obtained from individuals with African ancestry\",\"visaSecret\":\"582A164E2C5DA377F3E3F76158CE6\"}\n",
      "b62249d0-d71d-42d2-9a67-55003fdae8ec\n",
      "{\"id\":\"b62249d0-d71d-42d2-9a67-55003fdae8ec\",\"visaName\":\"1000GenomesIndividualsWithAmericanAncestry\",\"visaIssuer\":\"https://federatedgenomics.org/\",\"visaDescription\":\"Controls access to genomic data obtained from individuals with American ancestry\",\"visaSecret\":\"BF9CAB5D5157C5C21EBDEE6C91D91\"}\n",
      "55cb5d06-bbf3-428b-a822-3565557518ba\n",
      "{\"id\":\"55cb5d06-bbf3-428b-a822-3565557518ba\",\"visaName\":\"1000GenomesIndividualsWithSouthAsianAncestry\",\"visaIssuer\":\"https://federatedgenomics.org/\",\"visaDescription\":\"Controls access to genomic data obtained from individuals with South Asian ancestry\",\"visaSecret\":\"9474C832599DC95F949DB3CAE443E\"}\n"
     ]
    }
   ],
   "source": [
    "import requests\n",
    "\n",
    "for visa in visa_list:\n",
    "    print (visa['id'])\n",
    "    r = requests.post(passport_broker_visa_url, json = visa)\n",
    "    print(r.text)"
   ]
  },
  {
   "cell_type": "markdown",
   "id": "ddf0905a",
   "metadata": {},
   "source": [
    "### 8. Register a new user account with the passport broker\n",
    "\n",
    "Visit the [welcome page](http://127.0.0.1:4455/welcome)\n",
    "\n",
    "Towards the bottom, under Account Management press [Sign Up](http://127.0.0.1:4455/registration) to create an account.\n",
    "\n",
    "After signing up, you should see your account information on the welcome page, under User Information. Note down the **user-id**\n",
    "<img width=\"1009\" alt=\"passport-broker-user-id\" src=\"https://user-images.githubusercontent.com/89084962/175366273-f053ca18-583b-444d-b8c2-d9923b6cedf6.png\">\n",
    "\n",
    "\n",
    "\n",
    "Once the sign-up is complete, a user in the passport broker service will also be created. Confirm the new user is created:\n",
    "\n",
    "On running the next cell you should see your account's ID in the array of user IDs."
   ]
  },
  {
   "cell_type": "code",
   "execution_count": 12,
   "id": "01bdeb7d",
   "metadata": {},
   "outputs": [
    {
     "name": "stdout",
     "output_type": "stream",
     "text": [
      "[\n",
      "   {\n",
      "      \"id\": \"85ff5a54-48b9-4294-a91d-2be50bd2a77d\"\n",
      "   },\n",
      "   {\n",
      "      \"id\": \"46d40e07-8d51-4e4d-a93a-e3438271172b\"\n",
      "   },\n",
      "   {\n",
      "      \"id\": \"90c81ca0-3705-465a-97fb-b535022217fd\"\n",
      "   },\n",
      "   {\n",
      "      \"id\": \"7421926c-d816-401f-a039-8992aca9279e\"\n",
      "   }\n",
      "]\n"
     ]
    }
   ],
   "source": [
    "response = requests.get(\"http://localhost:4501/admin/ga4gh/passport/v1/users\")\n",
    "print(json.dumps(response.json(), indent=3))"
   ]
  },
  {
   "cell_type": "markdown",
   "id": "cb1ac5b2",
   "metadata": {},
   "source": [
    "### 9. Grant visas to the newly created user\n",
    "Substitute the user_id you obtained from the Passport User Interface in the following cell.\n",
    "\n",
    "Run the cell to build the body of the next request"
   ]
  },
  {
   "cell_type": "code",
   "execution_count": 19,
   "id": "f774a404",
   "metadata": {},
   "outputs": [
    {
     "name": "stdout",
     "output_type": "stream",
     "text": [
      "6ecaef9e-d6bb-4d96-9aed-ca517ceed8a1\n",
      "3af0e101-cd51-4fe4-aa8c-29a69be48fe0\n",
      "e38f656e-3146-4b06-92f2-6edea44f0cd1\n",
      "b62249d0-d71d-42d2-9a67-55003fdae8ec\n",
      "55cb5d06-bbf3-428b-a822-3565557518ba\n"
     ]
    }
   ],
   "source": [
    "user_id = 'your_user_id_here'\n",
    "\n",
    "grant_visa_to_user_url = f'http://localhost:4501/admin/ga4gh/passport/v1/users/{user_id}'\n",
    "\n",
    "assertions = {\n",
    "    \"id\": user_id,\n",
    "    \"passportVisaAssertions\": []\n",
    "}\n",
    "\n",
    "for visa in visa_list:\n",
    "    print (visa['id'])\n",
    "    del visa['visaSecret']\n",
    "    assertion = {\"status\": \"active\",\n",
    "                \"passportVisa\": visa}\n",
    "    assertions['passportVisaAssertions'].append(assertion)\n"
   ]
  },
  {
   "cell_type": "markdown",
   "id": "696880c9",
   "metadata": {},
   "source": [
    "#### View the created request body"
   ]
  },
  {
   "cell_type": "code",
   "execution_count": 16,
   "id": "5dd00be2",
   "metadata": {},
   "outputs": [
    {
     "name": "stdout",
     "output_type": "stream",
     "text": [
      "{\n",
      "   \"id\": \"bc5fe024-1abf-40ac-b67f-d19821aba36e\",\n",
      "   \"passportVisaAssertions\": [\n",
      "      {\n",
      "         \"status\": \"active\",\n",
      "         \"passportVisa\": {\n",
      "            \"id\": \"6ecaef9e-d6bb-4d96-9aed-ca517ceed8a1\",\n",
      "            \"visaName\": \"1000GenomesIndividualsWithEastAsianAncestry\",\n",
      "            \"visaIssuer\": \"https://federatedgenomics.org/\",\n",
      "            \"visaDescription\": \"Controls access to genomic data obtained from individuals with East Asian ancestry\"\n",
      "         }\n",
      "      },\n",
      "      {\n",
      "         \"status\": \"active\",\n",
      "         \"passportVisa\": {\n",
      "            \"id\": \"3af0e101-cd51-4fe4-aa8c-29a69be48fe0\",\n",
      "            \"visaName\": \"1000GenomesIndividualsWithEuropeanAncestry\",\n",
      "            \"visaIssuer\": \"https://federatedgenomics.org/\",\n",
      "            \"visaDescription\": \"Controls access to genomic data obtained from individuals with European ancestry\"\n",
      "         }\n",
      "      },\n",
      "      {\n",
      "         \"status\": \"active\",\n",
      "         \"passportVisa\": {\n",
      "            \"id\": \"e38f656e-3146-4b06-92f2-6edea44f0cd1\",\n",
      "            \"visaName\": \"1000GenomesIndividualsWithAfricanAncestry\",\n",
      "            \"visaIssuer\": \"https://federatedgenomics.org/\",\n",
      "            \"visaDescription\": \"Controls access to genomic data obtained from individuals with African ancestry\"\n",
      "         }\n",
      "      },\n",
      "      {\n",
      "         \"status\": \"active\",\n",
      "         \"passportVisa\": {\n",
      "            \"id\": \"b62249d0-d71d-42d2-9a67-55003fdae8ec\",\n",
      "            \"visaName\": \"1000GenomesIndividualsWithAmericanAncestry\",\n",
      "            \"visaIssuer\": \"https://federatedgenomics.org/\",\n",
      "            \"visaDescription\": \"Controls access to genomic data obtained from individuals with American ancestry\"\n",
      "         }\n",
      "      },\n",
      "      {\n",
      "         \"status\": \"active\",\n",
      "         \"passportVisa\": {\n",
      "            \"id\": \"55cb5d06-bbf3-428b-a822-3565557518ba\",\n",
      "            \"visaName\": \"1000GenomesIndividualsWithSouthAsianAncestry\",\n",
      "            \"visaIssuer\": \"https://federatedgenomics.org/\",\n",
      "            \"visaDescription\": \"Controls access to genomic data obtained from individuals with South Asian ancestry\"\n",
      "         }\n",
      "      }\n",
      "   ]\n",
      "}\n"
     ]
    }
   ],
   "source": [
    "print(json.dumps(assertions, indent=3))"
   ]
  },
  {
   "cell_type": "code",
   "execution_count": 20,
   "id": "a508ef33",
   "metadata": {},
   "outputs": [
    {
     "name": "stdout",
     "output_type": "stream",
     "text": [
      "http://localhost:4501/admin/ga4gh/passport/v1/users/bc5fe024-1abf-40ac-b67f-d19821aba36e\n"
     ]
    }
   ],
   "source": [
    "print(grant_visa_to_user_url)"
   ]
  },
  {
   "cell_type": "markdown",
   "id": "429f42b1",
   "metadata": {},
   "source": [
    "#### Submit the request"
   ]
  },
  {
   "cell_type": "code",
   "execution_count": 24,
   "id": "6de51b7d",
   "metadata": {},
   "outputs": [
    {
     "name": "stdout",
     "output_type": "stream",
     "text": [
      "{\n",
      "   \"id\": \"bc5fe024-1abf-40ac-b67f-d19821aba36e\",\n",
      "   \"passportVisaAssertions\": [\n",
      "      {\n",
      "         \"status\": \"active\",\n",
      "         \"assertedAt\": 1656257762,\n",
      "         \"passportVisa\": {\n",
      "            \"id\": \"6ecaef9e-d6bb-4d96-9aed-ca517ceed8a1\",\n",
      "            \"visaName\": \"1000GenomesIndividualsWithEastAsianAncestry\",\n",
      "            \"visaIssuer\": \"https://federatedgenomics.org/\",\n",
      "            \"visaDescription\": \"Controls access to genomic data obtained from individuals with East Asian ancestry\"\n",
      "         }\n",
      "      },\n",
      "      {\n",
      "         \"status\": \"active\",\n",
      "         \"assertedAt\": 1656257762,\n",
      "         \"passportVisa\": {\n",
      "            \"id\": \"3af0e101-cd51-4fe4-aa8c-29a69be48fe0\",\n",
      "            \"visaName\": \"1000GenomesIndividualsWithEuropeanAncestry\",\n",
      "            \"visaIssuer\": \"https://federatedgenomics.org/\",\n",
      "            \"visaDescription\": \"Controls access to genomic data obtained from individuals with European ancestry\"\n",
      "         }\n",
      "      },\n",
      "      {\n",
      "         \"status\": \"active\",\n",
      "         \"assertedAt\": 1656257762,\n",
      "         \"passportVisa\": {\n",
      "            \"id\": \"e38f656e-3146-4b06-92f2-6edea44f0cd1\",\n",
      "            \"visaName\": \"1000GenomesIndividualsWithAfricanAncestry\",\n",
      "            \"visaIssuer\": \"https://federatedgenomics.org/\",\n",
      "            \"visaDescription\": \"Controls access to genomic data obtained from individuals with African ancestry\"\n",
      "         }\n",
      "      },\n",
      "      {\n",
      "         \"status\": \"active\",\n",
      "         \"assertedAt\": 1656257762,\n",
      "         \"passportVisa\": {\n",
      "            \"id\": \"b62249d0-d71d-42d2-9a67-55003fdae8ec\",\n",
      "            \"visaName\": \"1000GenomesIndividualsWithAmericanAncestry\",\n",
      "            \"visaIssuer\": \"https://federatedgenomics.org/\",\n",
      "            \"visaDescription\": \"Controls access to genomic data obtained from individuals with American ancestry\"\n",
      "         }\n",
      "      },\n",
      "      {\n",
      "         \"status\": \"active\",\n",
      "         \"assertedAt\": 1656257762,\n",
      "         \"passportVisa\": {\n",
      "            \"id\": \"55cb5d06-bbf3-428b-a822-3565557518ba\",\n",
      "            \"visaName\": \"1000GenomesIndividualsWithSouthAsianAncestry\",\n",
      "            \"visaIssuer\": \"https://federatedgenomics.org/\",\n",
      "            \"visaDescription\": \"Controls access to genomic data obtained from individuals with South Asian ancestry\"\n",
      "         }\n",
      "      }\n",
      "   ]\n",
      "}\n"
     ]
    }
   ],
   "source": [
    "r = requests.put(grant_visa_to_user_url, json = assertions)\n",
    "print(json.dumps(r.json(), indent=3))"
   ]
  },
  {
   "cell_type": "markdown",
   "id": "5c0df121",
   "metadata": {},
   "source": [
    "### 10. Log back into the passport broker, select visas, and obtain the passport token\n",
    "\n",
    "Back in the [welcome page](http://127.0.0.1:4455/welcome) press [Get Passport Token](http://127.0.0.1:4455/passport). On this page, you should see your assigned visas, check all of them and press Get Passport Token.\n",
    "<img width=\"1009\" alt=\"image\" src=\"https://user-images.githubusercontent.com/89084962/175381003-f91f6160-6dd3-4c3f-afbb-d1f4acba771d.png\">\n",
    "\n",
    "You can confirm the validity of your JWT token by visiting https://jwt.io/ and pasting the passport JWT token to examine its contents."
   ]
  },
  {
   "cell_type": "markdown",
   "id": "d1d19219",
   "metadata": {},
   "source": [
    "### 11. Take this passport broker to DRS server to obtain access to DRS objects\n",
    "\n",
    "Resume the tutorial in the original page"
   ]
  },
  {
   "cell_type": "code",
   "execution_count": null,
   "id": "2a8b955f",
   "metadata": {},
   "outputs": [],
   "source": []
  }
 ],
 "metadata": {
  "kernelspec": {
   "display_name": "Python 3 (ipykernel)",
   "language": "python",
   "name": "python3"
  },
  "language_info": {
   "codemirror_mode": {
    "name": "ipython",
    "version": 3
   },
   "file_extension": ".py",
   "mimetype": "text/x-python",
   "name": "python",
   "nbconvert_exporter": "python",
   "pygments_lexer": "ipython3",
   "version": "3.9.7"
  }
 },
 "nbformat": 4,
 "nbformat_minor": 5
}
