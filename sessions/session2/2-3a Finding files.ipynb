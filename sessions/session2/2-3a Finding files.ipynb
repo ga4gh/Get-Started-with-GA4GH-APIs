{
 "cells": [
  {
   "cell_type": "markdown",
   "metadata": {},
   "source": [
    "### Finding files and data using Data Connect\n",
    "\n",
    "#### Learning Objectives\n",
    "Workshop attendees will learn how use the GA4GH Data Connect Service.  \n",
    "\n",
    "What will participants do as part of the exercise?\n",
    "\n",
    " - Understanding how to query data via Data Connect\n",
    " - Use Data Connect to find files that can be accessed via DRS\n",
    " - Learn how to obtain and use data descriptions (schema)\n",
    " - Discover the meaning of codes used in data\n",
    " \n",
    "\n",
    " #### Icons in this Guide\n",
    "\n",
    " 🖐 A hands-on section where you will code something or interact with the server\n",
    " \n",
    "### Query files\n",
    "The approach taken below is using mapping available through subject and specimen data available through the Data Connect API. \n",
    "\n",
    "Queries are submitted as SQL queries to one or more tables on the Data Connect server.\n",
    "\n",
    "As with other examples, first we set up a client to use the API. The server at DNAStack is used in the following examples.\n",
    "\n",
    "#### Step 1: Set up a Data Connect Client and run a predefined query "
   ]
  },
  {
   "cell_type": "code",
   "execution_count": null,
   "metadata": {},
   "outputs": [],
   "source": [
    "from fasp.search import DataConnectClient\n",
    "searchClient = DataConnectClient('https://data.publisher.dnastack.com/data-connect/')"
   ]
  },
  {
   "cell_type": "code",
   "execution_count": null,
   "metadata": {
    "scrolled": true
   },
   "outputs": [],
   "source": [
    "query = '''SELECT f.sample_name, drs_id bam_drs_id, acc\n",
    "FROM collections.public_datasets.ssd_drs s \n",
    "join collections.public_datasets.sra_drs_files f on f.sample_name = s.su_submitter_id \n",
    "where filetype = 'bam' and mapped = 'mapped' \n",
    "and sequencing_type ='exome' and  population = 'JPT' '''\n",
    "\n",
    "resultRows = searchClient.run_query(query, return_type='dataframe')\n",
    "resultRows"
   ]
  },
  {
   "cell_type": "markdown",
   "metadata": {},
   "source": [
    "#### Step 2: Run a second query to find bam files from members of a given family"
   ]
  },
  {
   "cell_type": "code",
   "execution_count": null,
   "metadata": {},
   "outputs": [],
   "source": [
    "family_query = '''SELECT f.sample_name, relationship, drs_id bam_drs_id, acc\n",
    "FROM collections.public_datasets.thousand_genomes_meta s \n",
    "join collections.public_datasets.sra_drs_files f on f.sample_name = s.sample \n",
    "where filetype = 'bam' and mapped = 'mapped' \n",
    "and sequencing_type ='exome' and  family_id = '1447' '''\n",
    "\n",
    "family_results = searchClient.run_query(family_query, return_type='dataframe')\n",
    "family_results"
   ]
  },
  {
   "cell_type": "markdown",
   "metadata": {},
   "source": [
    "### List table details\n",
    "\n",
    "\n",
    "#### Step 3:\n",
    "We can list the available tables available in this set as follows"
   ]
  },
  {
   "cell_type": "code",
   "execution_count": null,
   "metadata": {},
   "outputs": [],
   "source": [
    "table_list = searchClient.list_catalog('thousand_genomes')"
   ]
  },
  {
   "cell_type": "markdown",
   "metadata": {},
   "source": [
    "#### Step 4: List schema for sra_drs_files table\n",
    "The following cells can be run to list the columns for the other tables used in the queries above."
   ]
  },
  {
   "cell_type": "code",
   "execution_count": null,
   "metadata": {
    "scrolled": true
   },
   "outputs": [],
   "source": [
    "schema1 = searchClient.list_table_info('thousand_genomes.onek_genomes.sra_drs_files', verbose=True)"
   ]
  },
  {
   "cell_type": "code",
   "execution_count": null,
   "metadata": {},
   "outputs": [],
   "source": [
    "schema2 = searchClient.list_table_info('thousand_genomes.onek_genomes.ssd_drs', verbose=True)"
   ]
  },
  {
   "cell_type": "markdown",
   "metadata": {},
   "source": [
    "#### Step 6: Search for a different population group \n",
    "🖐 Using the information above about the tables, modify the query to use\n",
    "a) a population code that represents Gujarati Indians living in a city in Texas.\n",
    "b) bam files for reads that have not been mapped to a reference genome.\n",
    "\n",
    "So you don't have to modify the sql query itself you can add the values you identified to the variables in the next cell of this notebook."
   ]
  },
  {
   "cell_type": "code",
   "execution_count": null,
   "metadata": {},
   "outputs": [],
   "source": [
    "# replace these values\n",
    "population_code = 'XYZ'\n",
    "mapping_type = 'your_value_here'"
   ]
  },
  {
   "cell_type": "code",
   "execution_count": null,
   "metadata": {},
   "outputs": [],
   "source": [
    "query = f'''SELECT f.sample_name, drs_id bam_drs_id, acc, filename\n",
    "FROM collections.public_datasets.ssd_drs s \n",
    "join collections.public_datasets.sra_drs_files f on f.sample_name = s.su_submitter_id \n",
    "\n",
    "where filetype = 'bam' and mapped = '{mapping_type}' \n",
    "and sequencing_type ='exome' and  population = '{population_code}'\n",
    "'''\n",
    "\n",
    "resultRows = searchClient.run_query(query, return_type='dataframe')\n",
    "resultRows"
   ]
  },
  {
   "cell_type": "markdown",
   "metadata": {},
   "source": [
    "##### Important note\n",
    "Looking up a data dictionary to discover codes in this way is not what we would typically expect a user to do. Our aim today is to focus on the API and what it is capable of and what it can enable.\n",
    "\n",
    "Given the information the data schema provide about the data it is possible for developers to create interfaces in their systems which allow new datasources to be integrated as they appear.\n",
    "\n",
    "In another notebook (next). We'll look at an example of how a more user friendly user interface can be provided using the information that the the API provides."
   ]
  },
  {
   "cell_type": "markdown",
   "metadata": {},
   "source": [
    "#### Step 7: Return the whole of a table\n",
    "The Data Connect standard provides a function to return the whole of a table.\n",
    "\n",
    "This should be used with care, but here is how to do it using DataConnectClient. The client has a built in mechanism to prevent problems."
   ]
  },
  {
   "cell_type": "code",
   "execution_count": null,
   "metadata": {
    "scrolled": true
   },
   "outputs": [],
   "source": [
    "searchClient.get_data('collections.public_datasets.ssd_drs', return_type='dataframe')"
   ]
  },
  {
   "cell_type": "markdown",
   "metadata": {},
   "source": [
    "By default, the returned data is limited to 10,000 rows. The limit can be set on the client as follows\n",
    "* When the client is created\n",
    "\n",
    " `searchClient = DataConnectClient(host_url, row_limit=50000)`\n",
    " \n",
    " \n",
    "* At a later stage\n",
    "\n",
    " `searchClient.set_row_limit(50000)`\n",
    " \n",
    "Note that the default return type for the client can also be set. This saves having to specify the return type on every query.\n",
    "\n",
    "* When the client is created\n",
    "\n",
    " `searchClient = DataConnectClient(return_type='dataframe')`\n",
    " \n",
    " \n",
    "* At a later stage\n",
    "\n",
    " `searchClient.set_return_type('dataframe')`\n",
    "\n"
   ]
  },
  {
   "cell_type": "markdown",
   "metadata": {},
   "source": [
    "#### Step 8 - Combine with DRS Server\n",
    "\n",
    "The following shows how the SRA DRS server we used in workbook 2-1 can be used to determine where the files we discovered can be obtained from. \n",
    "\n",
    "🖐 Using the results from one of the queries that you ran above, take a DRS id from the query results and use it in the following calls to the NCBI DRS server."
   ]
  },
  {
   "cell_type": "code",
   "execution_count": null,
   "metadata": {},
   "outputs": [],
   "source": [
    "from fasp.loc import DRSClient\n",
    "\n",
    "drsClient = DRSClient('https://locate.be-md.ncbi.nlm.nih.gov', public=True, debug=True)\n",
    "test_id = 'add_id_here'\n",
    "objInfo = drsClient.get_object(test_id)\n",
    "objInfo"
   ]
  },
  {
   "cell_type": "markdown",
   "metadata": {},
   "source": [
    "A second DRS call can be used to obtain a url to access the file from one of the above locations."
   ]
  },
  {
   "cell_type": "code",
   "execution_count": null,
   "metadata": {
    "scrolled": true
   },
   "outputs": [],
   "source": [
    "access_id = objInfo['access_methods'][0]['access_id']\n",
    "print('access_id:{}'.format(access_id))\n",
    "url = drsClient.get_access_url(test_id, access_id=access_id)\n",
    "print('url:{}'.format(url))"
   ]
  },
  {
   "cell_type": "code",
   "execution_count": null,
   "metadata": {},
   "outputs": [],
   "source": []
  }
 ],
 "metadata": {
  "kernelspec": {
   "display_name": "Python 3",
   "language": "python",
   "name": "python3"
  },
  "language_info": {
   "codemirror_mode": {
    "name": "ipython",
    "version": 3
   },
   "file_extension": ".py",
   "mimetype": "text/x-python",
   "name": "python",
   "nbconvert_exporter": "python",
   "pygments_lexer": "ipython3",
   "version": "3.9.6 (default, Oct 18 2022, 12:41:40) \n[Clang 14.0.0 (clang-1400.0.29.202)]"
  },
  "vscode": {
   "interpreter": {
    "hash": "31f2aee4e71d21fbe5cf8b01ff0e069b9275f58929596ceb00d14d90e3e16cd6"
   }
  }
 },
 "nbformat": 4,
 "nbformat_minor": 4
}
